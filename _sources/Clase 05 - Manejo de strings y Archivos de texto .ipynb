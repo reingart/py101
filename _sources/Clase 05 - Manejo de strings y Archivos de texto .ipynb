{
 "cells": [
  {
   "cell_type": "markdown",
   "metadata": {},
   "source": [
    "<!--\n",
    "29/10\n",
    "Archivos de texto. \n",
    "Operaciones con cadenas de caracteres.\n",
    "String formaters.\n",
    "CLASE DE LABORATORIO \n",
    "(Gonzalo)\n",
    "-->\n"
   ]
  },
  {
   "cell_type": "markdown",
   "metadata": {
    "collapsed": true
   },
   "source": [
    "# Manejo de strings\n",
    "\n",
    "Con los strings podemos hacer [muchas operaciones](https://docs.python.org/2/library/stdtypes.html#string-methods):"
   ]
  },
  {
   "cell_type": "code",
   "execution_count": null,
   "metadata": {
    "collapsed": false
   },
   "outputs": [],
   "source": [
    "cadena_caracteres = \"Hola mundo\"\n",
    "print dir(cadena_caracteres)"
   ]
  },
  {
   "cell_type": "markdown",
   "metadata": {},
   "source": [
    "## String formating\n",
    "\n",
    "Existen varias formas crear, concatenar e imprimir strings:\n",
    "\n",
    "### ¿Cómo imprimir un string?\n",
    "\n",
    "Para imprimir un string sólo es necesario usar la palabra [print](https://docs.python.org/2/library/functions.html#print):\n"
   ]
  },
  {
   "cell_type": "code",
   "execution_count": 1,
   "metadata": {
    "collapsed": false
   },
   "outputs": [
    {
     "name": "stdout",
     "output_type": "stream",
     "text": [
      "Hola mundo\n",
      "Pero el print también imprime un Enter al terminar la línea\n"
     ]
    }
   ],
   "source": [
    "print 'Hola mundo'\n",
    "print 'Pero el print también imprime un Enter al terminar la línea'"
   ]
  },
  {
   "cell_type": "markdown",
   "metadata": {},
   "source": [
    "Pero si no queremos imprimir ese último Enter lo que tenemos que hacer es poner una coma al final de la línea:"
   ]
  },
  {
   "cell_type": "code",
   "execution_count": 2,
   "metadata": {
    "collapsed": false
   },
   "outputs": [
    {
     "name": "stdout",
     "output_type": "stream",
     "text": [
      "Pero al imprimir con la coma al final cambia el enter por un espacio\n",
      "También puedo escribir lo mismo en dos partes\n",
      "Lo que puedo usar cuando un string es muy largosi le agrego una contrabarra\n"
     ]
    }
   ],
   "source": [
    "print 'Pero al imprimir con la coma al final',\n",
    "print 'cambia el enter por un espacio'\n",
    "print 'También puedo escribir lo mismo' ' en dos partes'\n",
    "print 'Lo que puedo usar ' \\\n",
    "    'cuando un string es muy largo' \\\n",
    "    'si le agrego una contrabarra'"
   ]
  },
  {
   "cell_type": "markdown",
   "metadata": {},
   "source": [
    "¿Y si lo que quiero es imprimir un número pegado al string?"
   ]
  },
  {
   "cell_type": "code",
   "execution_count": 3,
   "metadata": {
    "collapsed": false
   },
   "outputs": [
    {
     "name": "stdout",
     "output_type": "stream",
     "text": [
      "Entonces tengo que ponerlo después de la coma: 5\n",
      "Al que también le agrega la coma para separarlo\n",
      "También puedo ponerlo en el medio:\n",
      "Hoy es 29 de Octubre\n"
     ]
    }
   ],
   "source": [
    "print 'Entonces tengo que ponerlo después de la coma:', 5\n",
    "print 'Al que también le agrega la coma para separarlo'\n",
    "print 'También puedo ponerlo en el medio:\\nHoy es', 29, 'de Octubre' "
   ]
  },
  {
   "cell_type": "markdown",
   "metadata": {},
   "source": [
    "## [String formating](https://docs.python.org/2/library/string.html#new-string-formatting)\n",
    "\n",
    "Pero en algunas ocasiones vamos a tener que crear springs más complejos y agregarle una coma no va a ser suficiente, o tal vez queremos crearlos pero no para imprimirlos, por lo que no podríamos usar la función print. <br>\n",
    "En esos casos, podemos usar la función [format](https://docs.python.org/2/library/string.html#string.Formatter.format)"
   ]
  },
  {
   "cell_type": "code",
   "execution_count": 4,
   "metadata": {
    "collapsed": false
   },
   "outputs": [
    {
     "name": "stdout",
     "output_type": "stream",
     "text": [
      "S.format(*args, **kwargs) -> string\n",
      "\n",
      "Return a formatted version of S, using substitutions from args and kwargs.\n",
      "The substitutions are identified by braces ('{' and '}').\n"
     ]
    }
   ],
   "source": [
    "print str.format.__doc__"
   ]
  },
  {
   "cell_type": "markdown",
   "metadata": {},
   "source": [
    "Format lo que hace es reemplazar las llaves con los parámetros que le pasen:"
   ]
  },
  {
   "cell_type": "code",
   "execution_count": 7,
   "metadata": {
    "collapsed": false
   },
   "outputs": [
    {
     "name": "stdout",
     "output_type": "stream",
     "text": [
      "El nombre del jugador número 10 es Lionel Messi\n"
     ]
    }
   ],
   "source": [
    "print 'El nombre del jugador número {0} es {1}'.format(10, 'Lionel Messi')"
   ]
  },
  {
   "cell_type": "markdown",
   "metadata": {},
   "source": [
    "Aunque en realidad los números no son obligatorios:"
   ]
  },
  {
   "cell_type": "code",
   "execution_count": 8,
   "metadata": {
    "collapsed": false
   },
   "outputs": [
    {
     "name": "stdout",
     "output_type": "stream",
     "text": [
      "El nombre del jugador número 10 es Lionel Messi\n"
     ]
    }
   ],
   "source": [
    "print 'El nombre del jugador número {} es {}'.format(10, 'Lionel Messi')"
   ]
  },
  {
   "cell_type": "markdown",
   "metadata": {},
   "source": [
    "Pero la ventaja de usar los números es que podemos imprimir ese parámetro varias veces, y no necesariamente en el órden que figura:"
   ]
  },
  {
   "cell_type": "code",
   "execution_count": 9,
   "metadata": {
    "collapsed": false
   },
   "outputs": [
    {
     "name": "stdout",
     "output_type": "stream",
     "text": [
      "abracadabra\n"
     ]
    }
   ],
   "source": [
    "print '{0}{1}{0}'.format('abra', 'cad') "
   ]
  },
  {
   "cell_type": "markdown",
   "metadata": {},
   "source": [
    "Incluso, se pueden usar parámetros nombrados:"
   ]
  },
  {
   "cell_type": "code",
   "execution_count": 10,
   "metadata": {
    "collapsed": false
   },
   "outputs": [
    {
     "name": "stdout",
     "output_type": "stream",
     "text": [
      "La nota del alumno 123 - Carlos Sanchez es un 8.\n"
     ]
    }
   ],
   "source": [
    "print 'La nota del alumno {padron} - {nombre} es un {nota}.'. \\\n",
    "    format(padron=123, nombre='Carlos Sanchez', nota=8)"
   ]
  },
  {
   "cell_type": "markdown",
   "metadata": {},
   "source": [
    "Incluso, si en lugar de pasarle cada uno de los parámetros le pasamos un diccionario usando el operador **"
   ]
  },
  {
   "cell_type": "code",
   "execution_count": 11,
   "metadata": {
    "collapsed": false
   },
   "outputs": [
    {
     "name": "stdout",
     "output_type": "stream",
     "text": [
      "La nota del alumno 123 - Carlos Sanchez es un 8.\n"
     ]
    }
   ],
   "source": [
    "alumno = {\n",
    "    'padron': 123,\n",
    "    'nombre': 'Carlos Sanchez',\n",
    "    'nota': 8\n",
    "}\n",
    "\n",
    "print 'La nota del alumno {padron} - {nombre} es un {nota}.'.\\\n",
    "    format(**alumno)\n"
   ]
  },
  {
   "cell_type": "markdown",
   "metadata": {},
   "source": [
    "Incluso, si lo que le pasamos es una lista, podemos acceder a una posición en particular:"
   ]
  },
  {
   "cell_type": "code",
   "execution_count": 12,
   "metadata": {
    "collapsed": false
   },
   "outputs": [
    {
     "name": "stdout",
     "output_type": "stream",
     "text": [
      "La nota de los tps de Carlos Sanchez son 8 y 9.\n"
     ]
    }
   ],
   "source": [
    "alumno = {\n",
    "    'padron': 123,\n",
    "    'nombre': 'Carlos Sanchez',\n",
    "    'tps': [8, 9] \n",
    "}\n",
    "\n",
    "print 'La nota de los tps de {nombre} son {tps[0]} y {tps[1]}.'.\\\n",
    "    format(**alumno)"
   ]
  },
  {
   "cell_type": "markdown",
   "metadata": {},
   "source": [
    "Incluso puedo alinear el texto que pongo usando los dos puntos (:)"
   ]
  },
  {
   "cell_type": "code",
   "execution_count": 13,
   "metadata": {
    "collapsed": false
   },
   "outputs": [
    {
     "name": "stdout",
     "output_type": "stream",
     "text": [
      "Imprimo un texto alineado a la |izquierda           | de 20 posiciones\n",
      "Imprimo un texto alineado a la |             derecha| de 20 posiciones\n",
      "Imprimo un texto |      centrado      | de 20 posiciones\n",
      "Relleno |izquierda###########| con #\n",
      "Relleno |#############derecha| con #\n",
      "Relleno |######centrado######| con #\n"
     ]
    }
   ],
   "source": [
    "print 'Imprimo un texto alineado a la |{:<20}| de 20 posiciones'.format(\n",
    "        'izquierda')\n",
    "print 'Imprimo un texto alineado a la |{:>20}| de 20 posiciones'.format(\n",
    "        'derecha')\n",
    "print 'Imprimo un texto |{:^20}| de 20 posiciones'.format('centrado')\n",
    "print 'Relleno |{:#<20}| con #'.format('izquierda')\n",
    "print 'Relleno |{:#>20}| con #'.format('derecha')\n",
    "print 'Relleno |{:#^20}| con #'.format('centrado')"
   ]
  },
  {
   "cell_type": "markdown",
   "metadata": {},
   "source": [
    "Pueden ver más ejemplos en la [documentación oficial de Python](https://docs.python.org/2/library/string.html#format-examples)<br>\n",
    "También se puese usar el signo `%` para [construir un string](https://docs.python.org/2/library/stdtypes.html#string-formatting-operations), aunque no suele quedar tan claro el código:"
   ]
  },
  {
   "cell_type": "markdown",
   "metadata": {},
   "source": [
    "## Funciones de los strings\n",
    "\n",
    "También existen varias [funciones](https://docs.python.org/2/library/stdtypes.html#string-methods) que podemos usar cuando trabajamos con strings:"
   ]
  },
  {
   "cell_type": "code",
   "execution_count": 14,
   "metadata": {
    "collapsed": false
   },
   "outputs": [
    {
     "name": "stdout",
     "output_type": "stream",
     "text": [
      "\"Hola mundo\" cambia a \"Hola Mundo\" con title\n",
      "\"Hola mundo\" cambia a \"hola mundo\" con lower\n",
      "\"Hola mundo\" cambia a \"HOLA MUNDO con upper\"\n",
      "\"Hola mundo\" cambia a \"Hola mundo\" con capitalize\n",
      "\"Hola mundo\" cambia a \"H0la mund0\" cuando reemplazamos las o por 0\n",
      "mi string mAA strAAng\n",
      "140575646636192\n",
      "140575646459696\n"
     ]
    }
   ],
   "source": [
    "cadena_caracteres = 'Hola mundo'\n",
    "print '\"{0}\" cambia a \"{1}\" con title'.format(cadena_caracteres, cadena_caracteres.title())\n",
    "print '\"{0}\" cambia a \"{1}\" con lower'.format(cadena_caracteres, cadena_caracteres.lower())\n",
    "print '\"{0}\" cambia a \"{1} con upper\"'.format(cadena_caracteres, cadena_caracteres.upper())\n",
    "print '\"{0}\" cambia a \"{1}\" con capitalize'.format(cadena_caracteres, cadena_caracteres.capitalize())\n",
    "print '\"{0}\" cambia a \"{1}\" cuando reemplazamos las o por 0'.format(cadena_caracteres, cadena_caracteres.replace('o', '0'))\n",
    "\n",
    "x = 'mi string'\n",
    "y = x.replace('i', 'AA')\n",
    "print x, y\n",
    "print id(x)\n",
    "x += 'Hola mundo'\n",
    "print id(x)\n"
   ]
  },
  {
   "cell_type": "markdown",
   "metadata": {},
   "source": [
    "Y también podemos separar y combinar strings:"
   ]
  },
  {
   "cell_type": "code",
   "execution_count": 15,
   "metadata": {
    "collapsed": false
   },
   "outputs": [
    {
     "name": "stdout",
     "output_type": "stream",
     "text": [
      "['Hola', 'mundo']\n",
      "['H', 'la mund', '']\n",
      "['Hola ', 'ndo']\n",
      "Holamundo\n",
      "Hola mundo\n",
      "Hola#separador#mundo\n"
     ]
    }
   ],
   "source": [
    "print \"Hola mundo\".split()\n",
    "print \"Hola mundo\".split('o')\n",
    "print \"Hola mundo\".split('mu')\n",
    "print ''.join(['Hola', 'mundo'])\n",
    "print ' '.join(['Hola', 'mundo'])\n",
    "var = '#separador#'.join(['Hola', 'mundo'])\n",
    "print var\n",
    "\n",
    "padron, nombre, nota = '12321,nom bekr,4'.split(',')\n"
   ]
  },
  {
   "cell_type": "markdown",
   "metadata": {},
   "source": [
    "## Unicodes\n",
    "\n",
    "Los strings ocupan 1 byte en memoria, por lo que sólo se pueden representar 256 caractéres distintos; pero, si queremos representar los caracteres de todos los idiomas, 255 caracteres no son suficientes. Debido a esto, es que surgieron distintas codificaciones de los archivos, como pueden latin-1 (iso-8859-1), utf-8, etc.<br>\n",
    "Y si bien en un principio esto fue una solución, la verdad es que con el tiempo trajo mucho problemas por no saber cómo interpretar cada letra. <br> \n",
    "Para solucionar este problema es que Python introdujo en la versión 2.0 los caracteres de tipo [unicode](https://docs.python.org/2/library/functions.html#unicode) que pasaron a ocupar 2 bytes, por lo que ahora se pueden representar 65.536 todos los caracteres necesarios. <br>\n",
    "En Python 3 todos los strings pasaron a ser del tipo Unicode."
   ]
  },
  {
   "cell_type": "markdown",
   "metadata": {},
   "source": [
    "# Persistencia de datos\n",
    "\n",
    "Pero todo lo que vimos por el momento se guarda en memoria dinámica, por lo que al apagar la computadora, o simplemente con cerrar el programa y volver a abrirlo perdimos todos los datos que nos teníamos. La alternativa para esto siguen siendo los [archivos](https://docs.python.org/2/library/stdtypes.html#bltin-file-objects). \n",
    "\n",
    "## Apertura de archivos\n",
    "\n",
    "Al igual que en C, en Python en el mismo momento que abrimos el archivo, se lo asignamos a uno físico y elegimos el modo de apertura, que si no le indicamos nada, tomará por defecto el de *lectura*. <br>\n",
    "El modo de apertura puede ser cualquier combinación de:\n",
    "\n",
    " * **'r'** *Lectura*: el archivo debe existir. Similar al `reset` de Pascal.\n",
    " * **'w'** *Escritura*: no es necesario que el archivo exista, pero si existe lo sobre escribe. Similar al `rewrite` de Pascal. \n",
    " * **'a'** *Append*: Solo agrega al final y no es necesario que el archivo exista. Similar al `append` de Pascal.\n",
    " * **'t'** *Texto*: Archivo de texto\n",
    " * **'b'** *Binario*: Archivo binario\n",
    " * **'+'** *Permite lectura y escrituras simultáneas\n",
    "\n",
    "La primitiva del lenguaje para abrir y asignar un archivo es [**open**](https://docs.python.org/2/library/functions.html#open), la cual puede recibir uno o dos parámetros. El primero es obligatorio, y corresponde a la ubicación relativa o absoluta del archivo físico. El segundo parámetro indica el modo de apertura y es opcional. Si no se lo pasamos asumirá que lo queremos abrir en modo *Lectura*. <br>\n",
    "Supongamos que estamos usando el intérprete en un escenario en el que solo tenemos un archivo que se llama f2.txt y queremos trabajar con los archivos f1.txt y f2.txt. <br>\n",
    "\n",
    "```Python\n",
    ">>> # Lanza una excepción de IOError por no existir el archivo e \n",
    ">>> # intentar abrirlo en modo lectura.\n",
    ">>> file1 = open(\"f1.txt\")  \n",
    "Traceback (most recent call last):\n",
    "  File \"<stdin>\", line 1, in <module>\n",
    "IOError: [Errno 2] No such file or directory: 'f1.txt'\n",
    ">>> # Intento abrir el archivo f1.txt, pero en modo escritura,\n",
    ">>> # por lo crea y no falla. Si hubiera existido, lo hubiera \n",
    ">>> # truncado y creado vacío.\n",
    ">>> file1 = open(\"f1.txt\", \"w\")\n",
    ">>> # Abro el archivo f2.txt en modo lectura sin problemas, ya\n",
    ">>> # que éste si existe.\n",
    ">>> file2 = open(\"f2.txt\")\n",
    "```\n"
   ]
  },
  {
   "cell_type": "markdown",
   "metadata": {
    "collapsed": true
   },
   "source": [
    "## Cerrar un archivo\n",
    "\n",
    "Para cerrar un archivo solo tenemos que indicarlo poniendo la variable seguida de un punto y la primitiva [**close**](https://docs.python.org/2/library/stdtypes.html#file.close). La única restricción es que la variable sea de tipo archivo, si cerramos un archivo cerrado este sigue cerrado; y si cerramos uno abierto, el mismo cambia de estado.\n",
    "\n",
    "```Python\n",
    ">>> file2 = open(\"f2.txt\")  # Abro el archivo en modo lectura\n",
    ">>> file2.close()  # Cierro el archivo\n",
    "```"
   ]
  },
  {
   "cell_type": "markdown",
   "metadata": {},
   "source": [
    "## Lectura de archivos\n",
    "\n",
    "Supongamos que tenemos un archivo llamado *ejemplo.txt* y tiene el siguiente texto:\n",
    "\n",
    "    Python was created in the early 1990s by Guido van Rossum at Stichting\n",
    "    Mathematisch Centrum (CWI, see http://www.cwi.nl) in the Netherlands\n",
    "    as a successor of a language called ABC.  Guido remains Python's\n",
    "    principal author, although it includes many contributions from others.\n",
    "\n",
    "    In 1995, Guido continued his work on Python at the Corporation for\n",
    "    National Research Initiatives (CNRI, see http://www.cnri.reston.va.us)\n",
    "    in Reston, Virginia where he released several versions of the\n",
    "    software.\n",
    "\n",
    "    In May 2000, Guido and the Python core development team moved to\n",
    "    BeOpen.com to form the BeOpen PythonLabs team.  In October of the same\n",
    "    year, the PythonLabs team moved to Digital Creations (now Zope\n",
    "    Corporation, see http://www.zope.com).  In 2001, the Python Software\n",
    "    Foundation (PSF, see http://www.python.org/psf/) was formed, a\n",
    "    non-profit organization created specifically to own Python-related\n",
    "    Intellectual Property.  Zope Corporation is a sponsoring member of\n",
    "    the PSF.\n",
    "\n",
    "    All Python releases are Open Source (see http://www.opensource.org for\n",
    "    the Open Source Definition).  Historically, most, but not all, Python\n",
    "    releases have also been GPL-compatible.\n",
    "\n",
    "Para leer un archivo podemos usar la primitiva [**read**](https://docs.python.org/2/library/stdtypes.html#file.read), la cual puede recibir un parámetro que indique la cantidad de caracteres a leer. Si no se pasa ese parámetro el intérprete leerá todo el archivo y lo retornará.\n"
   ]
  },
  {
   "cell_type": "code",
   "execution_count": 16,
   "metadata": {
    "collapsed": false
   },
   "outputs": [
    {
     "name": "stdout",
     "output_type": "stream",
     "text": [
      "# Imprimo los primeros 15 caracteres del archivo. Tiene que ser 'Python was crea'\n",
      "Python was crea\n",
      "# Leo otros 7 caracteres y dejo el cursor del archivo en la siguiente posición. Tiene que ser 'ted in '\n",
      "ted in \n",
      "# Ahora leo el resto del archivo.\n",
      "the early 1990s by Guido van Rossum at Stichting\n",
      "Mathematisch Centrum (CWI, see http://www.cwi.nl) in the Netherlands\n",
      "as a successor of a language called ABC.  Guido remains Python's\n",
      "principal author, although it includes many contributions from others.\n",
      "\n",
      "In 1995, Guido continued his work on Python at the Corporation for\n",
      "National Research Initiatives (CNRI, see http://www.cnri.reston.va.us)\n",
      "in Reston, Virginia where he released several versions of the\n",
      "software.\n",
      "\n",
      "In May 2000, Guido and the Python core development team moved to\n",
      "BeOpen.com to form the BeOpen PythonLabs team.  In October of the same\n",
      "year, the PythonLabs team moved to Digital Creations (now Zope\n",
      "Corporation, see http://www.zope.com).  In 2001, the Python Software\n",
      "Foundation (PSF, see http://www.python.org/psf/) was formed, a\n",
      "non-profit organization created specifically to own Python-related\n",
      "Intellectual Property.  Zope Corporation is a sponsoring member of\n",
      "the PSF.\n",
      "\n",
      "All Python releases are Open Source (see http://www.opensource.org for\n",
      "the Open Source Definition).  Historically, most, but not all, Python\n",
      "releases have also been GPL-compatible.\n",
      "\n",
      "# Cierro el archivo\n"
     ]
    }
   ],
   "source": [
    "arch = open(\"ejemplo.txt\")\n",
    "cadena = arch.read(15)\n",
    "print \"# Imprimo los primeros 15 caracteres del archivo. Tiene que ser 'Python was crea'\"\n",
    "print cadena\n",
    "\n",
    "print \"# Leo otros 7 caracteres y dejo el cursor del archivo en la siguiente posición. Tiene que ser 'ted in '\"\n",
    "cadena = arch.read(7)\n",
    "print cadena\n",
    "\n",
    "print \"# Ahora leo el resto del archivo.\"\n",
    "cadena = arch.read()\n",
    "print cadena\n",
    "\n",
    "print '# Cierro el archivo'\n",
    "arch.close()"
   ]
  },
  {
   "cell_type": "markdown",
   "metadata": {},
   "source": [
    "La única condición que tenemos para usar este método es que el archivo lo hayamos abierto en modo lectura."
   ]
  },
  {
   "cell_type": "code",
   "execution_count": 17,
   "metadata": {
    "collapsed": false
   },
   "outputs": [
    {
     "ename": "IOError",
     "evalue": "File not open for reading",
     "output_type": "error",
     "traceback": [
      "\u001b[1;31m---------------------------------------------------------------------------\u001b[0m",
      "\u001b[1;31mIOError\u001b[0m                                   Traceback (most recent call last)",
      "\u001b[1;32m<ipython-input-17-14fdc854ce4e>\u001b[0m in \u001b[0;36m<module>\u001b[1;34m()\u001b[0m\n\u001b[0;32m      1\u001b[0m \u001b[0march2\u001b[0m \u001b[1;33m=\u001b[0m \u001b[0mopen\u001b[0m\u001b[1;33m(\u001b[0m\u001b[1;34m\"ejemplo2.txt\"\u001b[0m\u001b[1;33m,\u001b[0m \u001b[1;34m\"w\"\u001b[0m\u001b[1;33m)\u001b[0m\u001b[1;33m\u001b[0m\u001b[0m\n\u001b[1;32m----> 2\u001b[1;33m \u001b[0march2\u001b[0m\u001b[1;33m.\u001b[0m\u001b[0mread\u001b[0m\u001b[1;33m(\u001b[0m\u001b[1;33m)\u001b[0m\u001b[1;33m\u001b[0m\u001b[0m\n\u001b[0m",
      "\u001b[1;31mIOError\u001b[0m: File not open for reading"
     ]
    }
   ],
   "source": [
    "arch2 = open(\"ejemplo2.txt\", \"w\")\n",
    "arch2.read()"
   ]
  },
  {
   "cell_type": "code",
   "execution_count": 18,
   "metadata": {
    "collapsed": false
   },
   "outputs": [
    {
     "ename": "IOError",
     "evalue": "File not open for reading",
     "output_type": "error",
     "traceback": [
      "\u001b[1;31m---------------------------------------------------------------------------\u001b[0m",
      "\u001b[1;31mIOError\u001b[0m                                   Traceback (most recent call last)",
      "\u001b[1;32m<ipython-input-18-2ccb79e17cdc>\u001b[0m in \u001b[0;36m<module>\u001b[1;34m()\u001b[0m\n\u001b[0;32m      1\u001b[0m \u001b[1;31m# Y si intentamos con un append?\u001b[0m\u001b[1;33m\u001b[0m\u001b[1;33m\u001b[0m\u001b[0m\n\u001b[0;32m      2\u001b[0m \u001b[0march3\u001b[0m \u001b[1;33m=\u001b[0m \u001b[0mopen\u001b[0m\u001b[1;33m(\u001b[0m\u001b[1;34m\"ejemplo1.txt\"\u001b[0m\u001b[1;33m,\u001b[0m \u001b[1;34m\"a\"\u001b[0m\u001b[1;33m)\u001b[0m\u001b[1;33m\u001b[0m\u001b[0m\n\u001b[1;32m----> 3\u001b[1;33m \u001b[0march3\u001b[0m\u001b[1;33m.\u001b[0m\u001b[0mread\u001b[0m\u001b[1;33m(\u001b[0m\u001b[1;33m)\u001b[0m\u001b[1;33m\u001b[0m\u001b[0m\n\u001b[0m",
      "\u001b[1;31mIOError\u001b[0m: File not open for reading"
     ]
    }
   ],
   "source": [
    "# Y si intentamos con un append?\n",
    "arch3 = open(\"ejemplo1.txt\", \"a\")\n",
    "arch3.read()"
   ]
  },
  {
   "cell_type": "markdown",
   "metadata": {},
   "source": [
    "Otra primitiva que podemos usar es [**readline**](https://docs.python.org/2/library/stdtypes.html#file.readline), que al igual que [**read**](https://docs.python.org/2/library/stdtypes.html#file.read), también puede recibir un parámetro que indique la cantidad máxima de bytes a leer. Si no se le pasa ningún parámetro, lee toda la línea.\n"
   ]
  },
  {
   "cell_type": "code",
   "execution_count": 19,
   "metadata": {
    "collapsed": false
   },
   "outputs": [
    {
     "name": "stdout",
     "output_type": "stream",
     "text": [
      "Python was created in the early 1990s by Guido van Rossum at Stichting\n",
      "\n",
      "Mathema\n"
     ]
    }
   ],
   "source": [
    "arch = open(\"ejemplo.txt\")\n",
    "linea = arch.readline()  # Notar que también imprime el Enter o \\n\n",
    "print linea\n",
    "linea = arch.readline(7)  # La segunda línea es 'Mathematisch Centrum (CWI, see http://www.cwi.nl) in the Netherlands'\n",
    "print linea\n",
    "arch.close()"
   ]
  },
  {
   "cell_type": "markdown",
   "metadata": {},
   "source": [
    "Pero no es necesario que leamos de a una sola línea, sino que también podemos leer todas las líneas del archivo y guardarlas en una lista haciendo uso de la primitiva [**readlines**](https://docs.python.org/2/library/stdtypes.html#file.readlines).\n"
   ]
  },
  {
   "cell_type": "code",
   "execution_count": 20,
   "metadata": {
    "collapsed": false
   },
   "outputs": [
    {
     "name": "stdout",
     "output_type": "stream",
     "text": [
      "['Python was created in the early 1990s by Guido van Rossum at Stichting\\n', 'Mathematisch Centrum (CWI, see http://www.cwi.nl) in the Netherlands\\n', \"as a successor of a language called ABC.  Guido remains Python's\\n\", 'principal author, although it includes many contributions from others.\\n', '\\n', 'In 1995, Guido continued his work on Python at the Corporation for\\n', 'National Research Initiatives (CNRI, see http://www.cnri.reston.va.us)\\n', 'in Reston, Virginia where he released several versions of the\\n', 'software.\\n', '\\n', 'In May 2000, Guido and the Python core development team moved to\\n', 'BeOpen.com to form the BeOpen PythonLabs team.  In October of the same\\n', 'year, the PythonLabs team moved to Digital Creations (now Zope\\n', 'Corporation, see http://www.zope.com).  In 2001, the Python Software\\n', 'Foundation (PSF, see http://www.python.org/psf/) was formed, a\\n', 'non-profit organization created specifically to own Python-related\\n', 'Intellectual Property.  Zope Corporation is a sponsoring member of\\n', 'the PSF.\\n', '\\n', 'All Python releases are Open Source (see http://www.opensource.org for\\n', 'the Open Source Definition).  Historically, most, but not all, Python\\n', 'releases have also been GPL-compatible.\\n']\n"
     ]
    }
   ],
   "source": [
    "arch = open(\"ejemplo.txt\")\n",
    "lineas = arch.readlines()\n",
    "print lineas\n",
    "arch.close()"
   ]
  },
  {
   "cell_type": "markdown",
   "metadata": {},
   "source": [
    "Sin embargo, la forma más *Pythonic* de leer el archivo por líneas es usando la estructura **for** y quedaría casi como lo diríamos en castellano: *\"Para cada línea del archivo*. <br>\n",
    "Por ejemplo, si queremos imprimir la cantidad de caracteres de cada línea podríamos hacer:"
   ]
  },
  {
   "cell_type": "code",
   "execution_count": 21,
   "metadata": {
    "collapsed": false
   },
   "outputs": [
    {
     "name": "stdout",
     "output_type": "stream",
     "text": [
      "71\n",
      "69\n",
      "65\n",
      "71\n",
      "1\n",
      "67\n",
      "71\n",
      "62\n",
      "10\n",
      "1\n",
      "65\n",
      "71\n",
      "63\n",
      "69\n",
      "63\n",
      "67\n",
      "67\n",
      "9\n",
      "1\n",
      "71\n",
      "70\n",
      "40\n"
     ]
    }
   ],
   "source": [
    "arch = open(\"ejemplo.txt\")\n",
    "for linea in arch:\n",
    "    print len(linea)\n",
    "\n",
    "arch.close()"
   ]
  },
  {
   "cell_type": "markdown",
   "metadata": {},
   "source": [
    "## Escritura de archivos\n",
    "\n",
    "Para escribir en un archivo podemos usar las las primitivas [**write(string)**](https://docs.python.org/2/library/stdtypes.html#file.write) y [**writelines(lista_strings)**](https://docs.python.org/2/library/stdtypes.html#file.writelines), que la primera es para escribir una cadena de caracteres y la segunda para escribir una lista de strings, uno a continuación del otro. Es importante destacar que en ningún caso se escribe algún carácter que no figure en los strings, como por ejemplo, caracteres de fin de línea. <br>\n",
    "El uso de **writelines** es equivalente a recorrer la lista y hacerle un **write** a cada elemento. <br>\n",
    "Pero el costo de escribir algo en el disco es mucho mayor a escribirlo en memoria por lo que, al igual que en C, se usa un *buffer*, que no es más que una porción de memoria para ir guardando en forma temporal los datos y cuando alcanzan un tamaño considerable se lo manda a escribir al disco. Otra forma de asegurarse que se haga la escritura es usando la primitiva *flush*, la cual guarda en el disco el contenido del buffer y lo vacía. <br>\n"
   ]
  },
  {
   "cell_type": "code",
   "execution_count": 23,
   "metadata": {
    "collapsed": false
   },
   "outputs": [
    {
     "name": "stdout",
     "output_type": "stream",
     "text": [
      "Es la primer cadenaSeguida de la segunda con un fin de linea\n",
      "1. Primero de la lista sin fin de línea. 2. Segundo string con fin de línea.\n",
      "3. Tercero con\\n.\n",
      "4. y último.\n"
     ]
    }
   ],
   "source": [
    "arch2 = open(\"ejemplo2.txt\", \"w\")\n",
    "arch2.write(\"Es la primer cadena\")\n",
    "arch2.write(\"Seguida de la segunda con un fin de linea\\n\")\n",
    "arch2.writelines([\"1. Primero de la lista sin fin de línea. \", \"2. Segundo string con fin de línea.\\n\", \"3. Tercero con\\\\n.\\n\", \"4. y último.\"])\n",
    "arch2.flush()\n",
    "arch2.close()\n",
    "arch2 = open(\"ejemplo2.txt\", \"r+a\")\n",
    "strfile = arch2.read()\n",
    "print strfile"
   ]
  },
  {
   "cell_type": "markdown",
   "metadata": {},
   "source": [
    "¿Y qué pasa si le quiero agregar algunas líneas a este archivo?"
   ]
  },
  {
   "cell_type": "code",
   "execution_count": 24,
   "metadata": {
    "collapsed": false
   },
   "outputs": [
    {
     "name": "stdout",
     "output_type": "stream",
     "text": [
      "Es la primer cadenaSeguida de la segunda con un fin de linea\n",
      "1. Primero de la lista sin fin de línea. 2. Segundo string con fin de línea.\n",
      "3. Tercero con\\n.\n",
      "4. y último.Esto lo estoy agregando.\n",
      ".Y estas dos líneas también con un \\n al final\n",
      " de cada una.\n",
      "\n"
     ]
    }
   ],
   "source": [
    "arch2.write(\"Esto lo estoy agregando.\\n.\")\n",
    "arch2.writelines(\"Y estas dos líneas también con un \\\\n al final\\n de cada una.\\n\")\n",
    "arch2.flush()\n",
    "arch2 = open(\"ejemplo2.txt\", \"r\")  # El open hace que me mueva a la primer posición del archivo.\n",
    "print arch2.read()\n",
    "arch2.close()\n"
   ]
  },
  {
   "cell_type": "markdown",
   "metadata": {},
   "source": [
    "Otra forma de asegurarse que se escriba lo que hay en el disco es cerrándolo."
   ]
  },
  {
   "cell_type": "markdown",
   "metadata": {},
   "source": [
    "## Moverse en un archivo\n",
    "\n",
    "Al igual que en los archivos binarios de *Pascal*, en *Python* también podemos saltar a distintas posiciones mediante la primitiva [**seek(pos)**](https://docs.python.org/2/library/stdtypes.html#file.seek) la cual recibe, como mínimo un parámetro que indica la posición a la que nos queremos mover. Opcionalmente puede recibir un segundo parámetro:\n",
    "* **0:** La posición es desde el inicio del archivo y debe ser mayor o igual a 0\n",
    "* **1:** La posición es relativa a la posición actual; puede ser positiva o negativa\n",
    "* **2:** La posición es desde el final del archivo, por lo que debe ser negativa\n",
    "\n"
   ]
  },
  {
   "cell_type": "code",
   "execution_count": 25,
   "metadata": {
    "collapsed": false
   },
   "outputs": [
    {
     "name": "stdout",
     "output_type": "stream",
     "text": [
      "y 1990s\n",
      "1990s b\n",
      "compatible\n"
     ]
    }
   ],
   "source": [
    "arch = open(\"ejemplo.txt\")  \n",
    "arch.seek(30)        # Voy a la posición número 30 del archivo\n",
    "print arch.read(7)   # Debería salir 'y 1990s'\n",
    "arch.seek(-5,1)      # Me muevo 5 posiciones para atrás desde mi posición actual.\n",
    "print arch.read(7)   # Debería imprimir '1990s b'\n",
    "arch.seek(-12,2)     # Me muevo a la posición número 12, comenzando a contar desde el final.\n",
    "print arch.read(10)  # Debería imprimir 'compatible'\n",
    "\n",
    "arch.close()"
   ]
  },
  {
   "cell_type": "markdown",
   "metadata": {},
   "source": [
    "Y así como podemos movernos en un archivo, también podemos averiguar nuestra posición usando la primitiva [**tell()**](https://docs.python.org/2/library/stdtypes.html#file.tell)."
   ]
  },
  {
   "cell_type": "code",
   "execution_count": 26,
   "metadata": {
    "collapsed": false
   },
   "outputs": [
    {
     "name": "stdout",
     "output_type": "stream",
     "text": [
      "30\n",
      "25\n",
      "1132\n",
      "compatible\n",
      "1142\n"
     ]
    }
   ],
   "source": [
    "arch = open(\"ejemplo.txt\")  \n",
    "arch.seek(30)\n",
    "print arch.tell()    # Debería imprimir 30\n",
    "arch.seek(-5,1)      # Retrocedo 5 posiciones\n",
    "print arch.tell()    # Debería imprimir 25\n",
    "arch.seek(-12,2)     # Voy a 12 posiciones antes del fin de archivo\n",
    "print arch.tell()    # Debería imprimir 1132\n",
    "print arch.read(10)  # Leo 10 caracteres\n",
    "print arch.tell()    # Debería imprimir 1142\n"
   ]
  },
  {
   "cell_type": "markdown",
   "metadata": {},
   "source": [
    "## ¿Cómo recorrer todo un archivo?\n",
    "\n",
    "Cuando llegamos al final de un archivo de texto usando la función *read* o *readline* Python no arroja ningún valor, pero tampoco retorna ningún caracter, por lo que podríamos usar eso como condición de corte:"
   ]
  },
  {
   "cell_type": "code",
   "execution_count": 27,
   "metadata": {
    "collapsed": false
   },
   "outputs": [
    {
     "name": "stdout",
     "output_type": "stream",
     "text": [
      " 1[71] - Python was created in the early 1990s by Guido van Rossum at Stichting\n",
      "\n",
      " 2[69] - Mathematisch Centrum (CWI, see http://www.cwi.nl) in the Netherlands\n",
      "\n",
      " 3[65] - as a successor of a language called ABC.  Guido remains Python's\n",
      "\n",
      " 4[71] - principal author, although it includes many contributions from others.\n",
      "\n",
      " 5[01] - \n",
      "\n",
      " 6[67] - In 1995, Guido continued his work on Python at the Corporation for\n",
      "\n",
      " 7[71] - National Research Initiatives (CNRI, see http://www.cnri.reston.va.us)\n",
      "\n",
      " 8[62] - in Reston, Virginia where he released several versions of the\n",
      "\n",
      " 9[10] - software.\n",
      "\n",
      "10[01] - \n",
      "\n",
      "11[65] - In May 2000, Guido and the Python core development team moved to\n",
      "\n",
      "12[71] - BeOpen.com to form the BeOpen PythonLabs team.  In October of the same\n",
      "\n",
      "13[63] - year, the PythonLabs team moved to Digital Creations (now Zope\n",
      "\n",
      "14[69] - Corporation, see http://www.zope.com).  In 2001, the Python Software\n",
      "\n",
      "15[63] - Foundation (PSF, see http://www.python.org/psf/) was formed, a\n",
      "\n",
      "16[67] - non-profit organization created specifically to own Python-related\n",
      "\n",
      "17[67] - Intellectual Property.  Zope Corporation is a sponsoring member of\n",
      "\n",
      "18[09] - the PSF.\n",
      "\n",
      "19[01] - \n",
      "\n",
      "20[71] - All Python releases are Open Source (see http://www.opensource.org for\n",
      "\n",
      "21[70] - the Open Source Definition).  Historically, most, but not all, Python\n",
      "\n",
      "22[40] - releases have also been GPL-compatible.\n",
      "\n",
      "23[00] - \n",
      "24[00] - \n"
     ]
    }
   ],
   "source": [
    "arch = open(\"ejemplo.txt\")  \n",
    "\n",
    "# El archivo ejemplo.txt tiene 22 líneas, por lo que\n",
    "# si quiero imprimirlo completo anteponiendo el \n",
    "# número de línea y la cantidad de caracteres\n",
    "# puedo hacer:\n",
    "\n",
    "for x in range(1, 25):\n",
    "    linea = arch.readline()\n",
    "    print '{:2}[{:02}] - {}'.format(x, len(linea), linea)\n",
    "\n",
    "arch.close()"
   ]
  },
  {
   "cell_type": "markdown",
   "metadata": {},
   "source": [
    "Como pueden ver, todas las líneas hasta la 22 (que es la última linea del arhcivo) tienen una longitud mayor a 0; incluso las 5, 10 y 19 que aparentemente no tienen ningún caracter. Eso es así ya que siempre tienen por lo menos uno, que es el Enter o `\\n`. <br>\n",
    "Otra cosa a tener en cuenta es que, por más que intentamos leer más allá del fin de archivo, en ningún momento el interprete nos lanzó una excepción. <br>\n",
    "Por lo tanto, si no sabemos la longitud del archivo como era este caso, podríamos usar esta información para darnos cuenta cuándo dejar de leer:"
   ]
  },
  {
   "cell_type": "code",
   "execution_count": 28,
   "metadata": {
    "collapsed": false
   },
   "outputs": [
    {
     "name": "stdout",
     "output_type": "stream",
     "text": [
      " 1[71] - Python was created in the early 1990s by Guido van Rossum at Stichting\n",
      "\n",
      " 2[69] - Mathematisch Centrum (CWI, see http://www.cwi.nl) in the Netherlands\n",
      "\n",
      " 3[65] - as a successor of a language called ABC.  Guido remains Python's\n",
      "\n",
      " 4[71] - principal author, although it includes many contributions from others.\n",
      "\n",
      " 5[01] - \n",
      "\n",
      " 6[67] - In 1995, Guido continued his work on Python at the Corporation for\n",
      "\n",
      " 7[71] - National Research Initiatives (CNRI, see http://www.cnri.reston.va.us)\n",
      "\n",
      " 8[62] - in Reston, Virginia where he released several versions of the\n",
      "\n",
      " 9[10] - software.\n",
      "\n",
      "10[01] - \n",
      "\n",
      "11[65] - In May 2000, Guido and the Python core development team moved to\n",
      "\n",
      "12[71] - BeOpen.com to form the BeOpen PythonLabs team.  In October of the same\n",
      "\n",
      "13[63] - year, the PythonLabs team moved to Digital Creations (now Zope\n",
      "\n",
      "14[69] - Corporation, see http://www.zope.com).  In 2001, the Python Software\n",
      "\n",
      "15[63] - Foundation (PSF, see http://www.python.org/psf/) was formed, a\n",
      "\n",
      "16[67] - non-profit organization created specifically to own Python-related\n",
      "\n",
      "17[67] - Intellectual Property.  Zope Corporation is a sponsoring member of\n",
      "\n",
      "18[09] - the PSF.\n",
      "\n",
      "19[01] - \n",
      "\n",
      "20[71] - All Python releases are Open Source (see http://www.opensource.org for\n",
      "\n",
      "21[70] - the Open Source Definition).  Historically, most, but not all, Python\n",
      "\n",
      "22[40] - releases have also been GPL-compatible.\n",
      "\n"
     ]
    }
   ],
   "source": [
    "arch = open(\"ejemplo.txt\")  \n",
    "\n",
    "# Si no sabemos la cantidad de líneas que tiene \n",
    "# el archivo que queremos recorrer podemos hacer:\n",
    "\n",
    "linea = arch.readline()\n",
    "x = 0\n",
    "\n",
    "while linea:  # Es decir, mientras me devuelva algo \n",
    "              # distinto al sting vacío\n",
    "    x += 1\n",
    "    print '{:2}[{:02}] - {}'.format(x, len(linea), linea)\n",
    "    linea = arch.readline()\n",
    "\n",
    "arch.close()"
   ]
  },
  {
   "cell_type": "markdown",
   "metadata": {},
   "source": [
    "Aunque Python también nos ofrece otra forma de recorer un archivo, y es usando una de las estructuras que ya conocemos: **for**"
   ]
  },
  {
   "cell_type": "code",
   "execution_count": 29,
   "metadata": {
    "collapsed": false
   },
   "outputs": [
    {
     "name": "stdout",
     "output_type": "stream",
     "text": [
      " 1[71] - Python was created in the early 1990s by Guido van Rossum at Stichting\n",
      "\n",
      " 2[69] - Mathematisch Centrum (CWI, see http://www.cwi.nl) in the Netherlands\n",
      "\n",
      " 3[65] - as a successor of a language called ABC.  Guido remains Python's\n",
      "\n",
      " 4[71] - principal author, although it includes many contributions from others.\n",
      "\n",
      " 5[01] - \n",
      "\n",
      " 6[67] - In 1995, Guido continued his work on Python at the Corporation for\n",
      "\n",
      " 7[71] - National Research Initiatives (CNRI, see http://www.cnri.reston.va.us)\n",
      "\n",
      " 8[62] - in Reston, Virginia where he released several versions of the\n",
      "\n",
      " 9[10] - software.\n",
      "\n",
      "10[01] - \n",
      "\n",
      "11[65] - In May 2000, Guido and the Python core development team moved to\n",
      "\n",
      "12[71] - BeOpen.com to form the BeOpen PythonLabs team.  In October of the same\n",
      "\n",
      "13[63] - year, the PythonLabs team moved to Digital Creations (now Zope\n",
      "\n",
      "14[69] - Corporation, see http://www.zope.com).  In 2001, the Python Software\n",
      "\n",
      "15[63] - Foundation (PSF, see http://www.python.org/psf/) was formed, a\n",
      "\n",
      "16[67] - non-profit organization created specifically to own Python-related\n",
      "\n",
      "17[67] - Intellectual Property.  Zope Corporation is a sponsoring member of\n",
      "\n",
      "18[09] - the PSF.\n",
      "\n",
      "19[01] - \n",
      "\n",
      "20[71] - All Python releases are Open Source (see http://www.opensource.org for\n",
      "\n",
      "21[70] - the Open Source Definition).  Historically, most, but not all, Python\n",
      "\n",
      "22[40] - releases have also been GPL-compatible.\n",
      "\n"
     ]
    }
   ],
   "source": [
    "arch = open(\"ejemplo.txt\")  \n",
    "\n",
    "# Si no sabemos la cantidad de líneas que tiene \n",
    "# el archivo que queremos recorrer podemos hacer:\n",
    "\n",
    "x = 0\n",
    "for linea in arch:\n",
    "    x += 1\n",
    "    print '{:2}[{:02}] - {}'.format(x, len(linea), linea)\n",
    "\n",
    "arch.close()\n"
   ]
  },
  {
   "cell_type": "markdown",
   "metadata": {},
   "source": [
    "O, incluso, usar enumerate para saber qué línea estoy leyendo:"
   ]
  },
  {
   "cell_type": "code",
   "execution_count": 30,
   "metadata": {
    "collapsed": false
   },
   "outputs": [
    {
     "name": "stdout",
     "output_type": "stream",
     "text": [
      " 1[71] - Python was created in the early 1990s by Guido van Rossum at Stichting\n",
      "\n",
      " 2[69] - Mathematisch Centrum (CWI, see http://www.cwi.nl) in the Netherlands\n",
      "\n",
      " 3[65] - as a successor of a language called ABC.  Guido remains Python's\n",
      "\n",
      " 4[71] - principal author, although it includes many contributions from others.\n",
      "\n",
      " 5[01] - \n",
      "\n",
      " 6[67] - In 1995, Guido continued his work on Python at the Corporation for\n",
      "\n",
      " 7[71] - National Research Initiatives (CNRI, see http://www.cnri.reston.va.us)\n",
      "\n",
      " 8[62] - in Reston, Virginia where he released several versions of the\n",
      "\n",
      " 9[10] - software.\n",
      "\n",
      "10[01] - \n",
      "\n",
      "11[65] - In May 2000, Guido and the Python core development team moved to\n",
      "\n",
      "12[71] - BeOpen.com to form the BeOpen PythonLabs team.  In October of the same\n",
      "\n",
      "13[63] - year, the PythonLabs team moved to Digital Creations (now Zope\n",
      "\n",
      "14[69] - Corporation, see http://www.zope.com).  In 2001, the Python Software\n",
      "\n",
      "15[63] - Foundation (PSF, see http://www.python.org/psf/) was formed, a\n",
      "\n",
      "16[67] - non-profit organization created specifically to own Python-related\n",
      "\n",
      "17[67] - Intellectual Property.  Zope Corporation is a sponsoring member of\n",
      "\n",
      "18[09] - the PSF.\n",
      "\n",
      "19[01] - \n",
      "\n",
      "20[71] - All Python releases are Open Source (see http://www.opensource.org for\n",
      "\n",
      "21[70] - the Open Source Definition).  Historically, most, but not all, Python\n",
      "\n",
      "22[40] - releases have also been GPL-compatible.\n",
      "\n"
     ]
    }
   ],
   "source": [
    "arch = open(\"ejemplo.txt\")  \n",
    "\n",
    "# Si no sabemos la cantidad de líneas que tiene \n",
    "# el archivo que queremos recorrer podemos hacer:\n",
    "\n",
    "# Usando enumerate y comenzando en 1\n",
    "for x, linea in enumerate(arch, 1):\n",
    "    print '{:2}[{:02}] - {}'.format(x, len(linea), linea)\n",
    "\n",
    "arch.close()\n"
   ]
  },
  {
   "cell_type": "markdown",
   "metadata": {
    "collapsed": true
   },
   "source": [
    "#Ejercicios\n",
    "\n",
    "1. un texto al usuario y mostrar el mismo texto pero sin las vocales. Por ejemplo, para un input de \"Yo estaba allí\", debería mostrar \"Y stb ll\".\n",
    "2. Escribir un procedimiento o función que, dada una palabra, determine si es capicúa o no.\n",
    "2. Hacer una función que reciba un texto y devuelva el mismo texto pero con cada palabra invertida. Por ejemplo, llamándola con \"Esto es una prueba\", debe devolver \"otsE se anu abeurp\".\n",
    "5. Escribir un programa que reciba un nombre de archivo al ejecutarse, lo procese e imprima por pantalla cuántas líneas, cuantas palabras y la cantidad de caracteres tiene.\n",
    "6. Escribir un programa que reciba un nombre de archivo al ejecutarse, lo procese e imprima por pantalla un diccionario con la cantidad de ocurrencias de cada palabra (no distinguir mayúsculas y minúsculas). Además, se pide mostrar la palabra que más veces se repitió y cuántas ocurrencias tuvo.\n",
    "7. Escribir un programa que reciba un nombre de archivo y una palabra.  Luego, deberá mostrar todas las líneas de ese archivo que contengan esa palabra. Si ninguna línea contiene esa palabra no mostrará nada.\n",
    "8. Leer un archivo de texto llamado `curso.csv` en el que cada línea tendrá el siguiente formato: \n",
    "```\n",
    "padron,nombre,apellido,nota_parcial,nombre_de_grupo,nota_tp1,nota_tp2\n",
    "```\n",
    "<!--\n",
    "Puede ocurrir que algunas líneas no cuenten con todos los campos, o que los campos numéricos no sean números, o que no pertenezcan al rango de 0 a 10. En dichos casos se deberán guardar esas líneas para mostrarlas una vez leído todo el archivo indicando que tienen algún error (no es necesario especificar cuál es el error). <br>\n",
    "-->\n",
    "Suponiendo que todas las líneas tendrán el formato esperado y datos válidos, se pide:\n",
    "  1. Imprimir por pantalla un listado de todos los alumnos en condiciones de rendir coloquio (parcial y todos los TP aprobados) en el mismo orden en el que se encontraban en el archivo.\n",
    "  2. Imprimir por pantalla un listado de todos los alumnos en condiciones de rendir coloquio (parcial y todos los TP aprobados) ordenados por padrón en forma creciente.\n",
    "  3. Calcular para cada alumno el promedio de sus notas del parcial y luego el promedio del curso como el promedio de todos los promedios.\n",
    "  4. Informar cuál es la nota que más se repite entre todos los parciales e indicar la cantidad de ocurrencias.\n",
    "  5. Listar todas las notas que se sacaron los alumnos en el parcial y los padrones de quienes se sacaron esas notas con el siguiente formato:\n",
    "  \n",
    "  ```\n",
    "Nota: 2\n",
    "  * nnnn1\n",
    "  * nnnn2\n",
    "  * nnnn3\n",
    "  * nnnn4\n",
    "Nota: 4\n",
    "  * nnnn1\n",
    "  * nnnn2\n",
    "  ...\n",
    "  ``` \n",
    "Tener en cuenta que las notas pueden ser del 2 al 10 y puede ocurrir que nadie se haya sacado esa nota (y en dicho caso esa nota no tiene que aparecer en el listado)\n"
   ]
  }
 ],
 "metadata": {
  "kernelspec": {
   "display_name": "Python 2",
   "language": "python",
   "name": "python2"
  },
  "language_info": {
   "codemirror_mode": {
    "name": "ipython",
    "version": 2
   },
   "file_extension": ".py",
   "mimetype": "text/x-python",
   "name": "python",
   "nbconvert_exporter": "python",
   "pygments_lexer": "ipython2",
   "version": "2.7.12"
  }
 },
 "nbformat": 4,
 "nbformat_minor": 0
}
