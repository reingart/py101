{
 "cells": [
  {
   "cell_type": "markdown",
   "metadata": {},
   "source": [
    "<!--\n",
    "27/10\n",
    "Ordenamientos y búsquedas.\n",
    "Excepciones. Funciones anónimas.(Pablo o Andres)\n",
    "-->"
   ]
  },
  {
   "cell_type": "markdown",
   "metadata": {},
   "source": [
    "# Ordenamiento de listas\n",
    "\n",
    "Las listas se pueden ordenar fácilmente usando la función [*sorted*](https://docs.python.org/2/library/functions.html?highlight=raw_input#sorted):\n"
   ]
  },
  {
   "cell_type": "code",
   "execution_count": 2,
   "metadata": {
    "collapsed": false
   },
   "outputs": [
    {
     "name": "stdout",
     "output_type": "stream",
     "text": [
      "[1, 2, 3, 5, 6, 9]\n",
      "[1, 6, 3, 9, 5, 2]\n"
     ]
    }
   ],
   "source": [
    "lista_de_numeros = [1, 6, 3, 9, 5, 2]\n",
    "lista_ordenada = sorted(lista_de_numeros)\n",
    "print lista_ordenada\n",
    "print lista_de_numeros"
   ]
  },
  {
   "cell_type": "markdown",
   "metadata": {},
   "source": [
    "Pero, ¿y cómo hacemos para ordenarla de mayor a menor?. <br>\n",
    "Simple, interrogamos un poco a la función:\n",
    "```Python\n",
    ">>> print sorted.__doc__\n",
    "sorted(iterable, cmp=None, key=None, reverse=False) --> new sorted list\n",
    "```\n",
    "Entonces, con sólo pasarle el parámetro de *reverse* en `True` debería alcanzar:"
   ]
  },
  {
   "cell_type": "code",
   "execution_count": 3,
   "metadata": {
    "collapsed": false
   },
   "outputs": [
    {
     "name": "stdout",
     "output_type": "stream",
     "text": [
      "[9, 6, 5, 3, 2, 1]\n"
     ]
    }
   ],
   "source": [
    "lista_de_numeros = [1, 6, 3, 9, 5, 2]\n",
    "print sorted(lista_de_numeros, reverse=True)"
   ]
  },
  {
   "cell_type": "markdown",
   "metadata": {},
   "source": [
    "¿Y si lo que quiero ordenar es una lista de registros?. <br>\n",
    "Podemos pasarle una función que sepa cómo comparar esos registros o una que sepa devolver la información que necesita comparar."
   ]
  },
  {
   "cell_type": "code",
   "execution_count": 4,
   "metadata": {
    "collapsed": false
   },
   "outputs": [
    {
     "name": "stdout",
     "output_type": "stream",
     "text": [
      "La lista tiene los alumnos:\n",
      "     0. 98128 - Rodriguez, Carlos: 6\n",
      "     1. 93453 - Perez, Lucas: 6\n",
      "     2. 93716 - Gonzalez, Ramiro: 8\n",
      "     3. 90464 - Gonzalez, Carlos: 6\n",
      "     4. 98569 - Lopez, Carlos: 7\n",
      "Y la lista ordenada por padrón:\n",
      "     0. 90464 - Gonzalez, Carlos: 6\n",
      "     1. 93453 - Perez, Lucas: 6\n",
      "     2. 93716 - Gonzalez, Ramiro: 8\n",
      "     3. 98128 - Rodriguez, Carlos: 6\n",
      "     4. 98569 - Lopez, Carlos: 7\n"
     ]
    }
   ],
   "source": [
    "def crear_curso():\n",
    "    curso = [\n",
    "        {'nombre': 'Rodriguez, Carlos', 'nota': 6, 'padron': 98128}, \n",
    "        {'nombre': 'Perez, Lucas', 'nota': 6, 'padron': 93453}, \n",
    "        {'nombre': 'Gonzalez, Ramiro', 'nota': 8, 'padron': 93716}, \n",
    "        {'nombre': 'Gonzalez, Carlos', 'nota': 6, 'padron': 90464}, \n",
    "        {'nombre': 'Lopez, Carlos', 'nota': 7, 'padron': 98569}\n",
    "    ]\n",
    "    \n",
    "    return curso\n",
    "\n",
    "\n",
    "def imprimir_curso(lista):\n",
    "    for idx, x in enumerate(lista):\n",
    "        msg = '    {pos:2}. {padron} - {nombre}: {nota}'\n",
    "        print msg.format(pos=idx, **x)\n",
    "\n",
    "\n",
    "def obtener_padron(alumno):\n",
    "    return alumno['padron']\n",
    "\n",
    "\n",
    "curso = crear_curso()\n",
    "print 'La lista tiene los alumnos:'\n",
    "imprimir_curso(curso)\n",
    "\n",
    "lista_ordenada = sorted(curso, key=obtener_padron)\n",
    "print 'Y la lista ordenada por padrón:'\n",
    "imprimir_curso(lista_ordenada)"
   ]
  },
  {
   "cell_type": "markdown",
   "metadata": {},
   "source": [
    "# Búsquedas en listas\n",
    "\n",
    "Para saber si un elemento se encuentra en una lista, alcanza con usar el operador **in**:"
   ]
  },
  {
   "cell_type": "code",
   "execution_count": 5,
   "metadata": {
    "collapsed": false
   },
   "outputs": [
    {
     "name": "stdout",
     "output_type": "stream",
     "text": [
      "3 esta en la lista\n",
      "15 no esta en la lista\n"
     ]
    }
   ],
   "source": [
    "lista = [11, 4, 6, 1, 3, 5, 7]\n",
    "\n",
    "if 3 in lista:\n",
    "    print '3 esta en la lista'\n",
    "else:\n",
    "    print '3 no esta en la lista'\n",
    "\n",
    "if 15 in lista:\n",
    "    print '15 esta en la lista'\n",
    "else:\n",
    "    print '15 no esta en la lista'"
   ]
  },
  {
   "cell_type": "markdown",
   "metadata": {},
   "source": [
    "También es muy fácil saber si un elemento **no** esta en la lista:\n"
   ]
  },
  {
   "cell_type": "code",
   "execution_count": 6,
   "metadata": {
    "collapsed": false
   },
   "outputs": [
    {
     "name": "stdout",
     "output_type": "stream",
     "text": [
      "3 SI esta en la lista\n"
     ]
    }
   ],
   "source": [
    "lista = [11, 4, 6, 1, 3, 5, 7]\n",
    "\n",
    "if 3 not in lista:\n",
    "    print '3 NO esta en la lista'\n",
    "else:\n",
    "    print '3 SI esta en la lista'"
   ]
  },
  {
   "cell_type": "markdown",
   "metadata": {},
   "source": [
    "En cambio, si lo que queremos es saber es dónde se encuentra el número 3 en la lista es:"
   ]
  },
  {
   "cell_type": "code",
   "execution_count": 7,
   "metadata": {
    "collapsed": false
   },
   "outputs": [
    {
     "name": "stdout",
     "output_type": "stream",
     "text": [
      "El 3 se encuentra en la posición 4\n"
     ]
    },
    {
     "ename": "ValueError",
     "evalue": "15 is not in list",
     "output_type": "error",
     "traceback": [
      "\u001b[1;31m---------------------------------------------------------------------------\u001b[0m",
      "\u001b[1;31mValueError\u001b[0m                                Traceback (most recent call last)",
      "\u001b[1;32m<ipython-input-7-d0e7e1660268>\u001b[0m in \u001b[0;36m<module>\u001b[1;34m()\u001b[0m\n\u001b[0;32m      4\u001b[0m \u001b[1;32mprint\u001b[0m \u001b[1;34m'El 3 se encuentra en la posición'\u001b[0m\u001b[1;33m,\u001b[0m \u001b[0mpos\u001b[0m\u001b[1;33m\u001b[0m\u001b[0m\n\u001b[0;32m      5\u001b[0m \u001b[1;33m\u001b[0m\u001b[0m\n\u001b[1;32m----> 6\u001b[1;33m \u001b[0mpos\u001b[0m \u001b[1;33m=\u001b[0m \u001b[0mlista\u001b[0m\u001b[1;33m.\u001b[0m\u001b[0mindex\u001b[0m\u001b[1;33m(\u001b[0m\u001b[1;36m15\u001b[0m\u001b[1;33m)\u001b[0m\u001b[1;33m\u001b[0m\u001b[0m\n\u001b[0m\u001b[0;32m      7\u001b[0m \u001b[1;32mprint\u001b[0m \u001b[1;34m'El 15 se encuentra en la posición'\u001b[0m\u001b[1;33m,\u001b[0m \u001b[0mpos\u001b[0m\u001b[1;33m\u001b[0m\u001b[0m\n",
      "\u001b[1;31mValueError\u001b[0m: 15 is not in list"
     ]
    }
   ],
   "source": [
    "lista = [11, 4, 6, 1, 3, 5, 7]\n",
    "\n",
    "pos = lista.index(3)\n",
    "print 'El 3 se encuentra en la posición', pos\n",
    "\n",
    "pos = lista.index(15)\n",
    "print 'El 15 se encuentra en la posición', pos"
   ]
  },
  {
   "cell_type": "markdown",
   "metadata": {},
   "source": [
    "Ahora, para todos estos casos lo que hice fue buscar un elemento completo, es decir, que tenía que conocer todo lo que buscaba y no sólamente una parte, como podría ser el padrón de un alumno."
   ]
  },
  {
   "cell_type": "code",
   "execution_count": 10,
   "metadata": {
    "collapsed": false
   },
   "outputs": [
    {
     "name": "stdout",
     "output_type": "stream",
     "text": [
      "La lista tiene los alumnos:\n",
      "     0. 98128 - Rodriguez, Carlos: 6\n",
      "     1. 93453 - Perez, Lucas: 6\n",
      "     2. 93716 - Gonzalez, Ramiro: 8\n",
      "     3. 90464 - Gonzalez, Carlos: 6\n",
      "     4. 98569 - Lopez, Carlos: 7\n",
      "El alumno de padron 93716 se llama Gonzalez, Ramiro\n"
     ]
    }
   ],
   "source": [
    "curso = crear_curso()\n",
    "print 'La lista tiene los alumnos:'\n",
    "imprimir_curso(curso)\n",
    "\n",
    "alumno_93716 = (alumno for alumno in curso if alumno['padron'] == 93716).next()\n",
    "print 'El alumno de padron 93716 se llama {nombre}'.format(**alumno_93716)"
   ]
  },
  {
   "cell_type": "markdown",
   "metadata": {},
   "source": [
    "## Funciones anónimas\n",
    "\n",
    "Hasta ahora, a todas las funciones que creamos les poníamos un nombre al momento de crearlas, pero cuando tenemos que crear funciones que sólo tienen una línea y no se usan en una gran cantidad de lugares se pueden usar las funciones [*lambda*](https://docs.python.org/2/tutorial/controlflow.html#lambda-expressions):"
   ]
  },
  {
   "cell_type": "code",
   "execution_count": 11,
   "metadata": {
    "collapsed": false
   },
   "outputs": [
    {
     "name": "stdout",
     "output_type": "stream",
     "text": [
      "Lambdas\n",
      "*******\n",
      "\n",
      "   lambda_expr     ::= \"lambda\" [parameter_list]: expression\n",
      "   old_lambda_expr ::= \"lambda\" [parameter_list]: old_expression\n",
      "\n",
      "Lambda expressions (sometimes called lambda forms) have the same\n",
      "syntactic position as expressions.  They are a shorthand to create\n",
      "anonymous functions; the expression \"lambda arguments: expression\"\n",
      "yields a function object.  The unnamed object behaves like a function\n",
      "object defined with\n",
      "\n",
      "   def name(arguments):\n",
      "       return expression\n",
      "\n",
      "See section Function definitions for the syntax of parameter lists.\n",
      "Note that functions created with lambda expressions cannot contain\n",
      "statements.\n",
      "\n",
      "Related help topics: FUNCTIONS\n",
      "\n"
     ]
    }
   ],
   "source": [
    "help(\"lambda\")"
   ]
  },
  {
   "cell_type": "code",
   "execution_count": 12,
   "metadata": {
    "collapsed": false
   },
   "outputs": [
    {
     "name": "stdout",
     "output_type": "stream",
     "text": [
      "3\n",
      "<type 'function'>\n"
     ]
    }
   ],
   "source": [
    "mi_funcion = lambda x, y: x+y\n",
    "\n",
    "resultado = mi_funcion(1, 2)\n",
    "print resultado\n",
    "print type(mi_funcion)"
   ]
  },
  {
   "cell_type": "code",
   "execution_count": 13,
   "metadata": {
    "collapsed": false
   },
   "outputs": [
    {
     "name": "stdout",
     "output_type": "stream",
     "text": [
      "3\n",
      "<type 'function'>\n"
     ]
    }
   ],
   "source": [
    "def mi_funcion2(x, y):\n",
    "    return x + y\n",
    "\n",
    "resultado = mi_funcion2(1, 2)\n",
    "print resultado\n",
    "print type(mi_funcion2)"
   ]
  },
  {
   "cell_type": "markdown",
   "metadata": {},
   "source": [
    "Si bien no son funciones que se usen todos los días, se suelen usar cuando una función recibe otra función como parámetro (las funciones son un tipo de dato, por lo que se las pueden asignar a variables, y por lo tanto, también pueden ser parámetros).\n",
    "Por ejemplo, para ordenar los alumnos por padrón podríamos usar:\n",
    "```Python\n",
    "sorted(curso, key=lambda x: x['padron'])\n",
    "```\n",
    "\n",
    "Ahora, si quiero ordenar la lista anterior por nota decreciente y, en caso de igualdad, por padrón podríamos usar:"
   ]
  },
  {
   "cell_type": "code",
   "execution_count": 14,
   "metadata": {
    "collapsed": false
   },
   "outputs": [
    {
     "name": "stdout",
     "output_type": "stream",
     "text": [
      "Curso original\n",
      "     0. 98128 - Rodriguez, Carlos: 6\n",
      "     1. 93453 - Perez, Lucas: 6\n",
      "     2. 93716 - Gonzalez, Ramiro: 8\n",
      "     3. 90464 - Gonzalez, Carlos: 6\n",
      "     4. 98569 - Lopez, Carlos: 7\n",
      "Curso ordenado\n",
      "     0. 93716 - Gonzalez, Ramiro: 8\n",
      "     1. 98569 - Lopez, Carlos: 7\n",
      "     2. 90464 - Gonzalez, Carlos: 6\n",
      "     3. 93453 - Perez, Lucas: 6\n",
      "     4. 98128 - Rodriguez, Carlos: 6\n"
     ]
    }
   ],
   "source": [
    "curso = crear_curso()\n",
    "print 'Curso original'\n",
    "imprimir_curso(curso)\n",
    "\n",
    "lista_ordenada = sorted(curso, key=lambda alumno: (-alumno['nota'], alumno['padron']))\n",
    "print 'Curso ordenado'\n",
    "imprimir_curso(lista_ordenada)"
   ]
  },
  {
   "cell_type": "markdown",
   "metadata": {
    "collapsed": true
   },
   "source": [
    "# Excepciones\n",
    "Una excepción es la forma que tiene el intérprete de que indicarle al programador y/o usuario que ha ocurrido un error. Si la excepción no es controlada por el desarrollador ésta llega hasta el usuario y termina abruptamente la ejecución del sistema. <br>\n",
    "Por ejemplo:"
   ]
  },
  {
   "cell_type": "code",
   "execution_count": 15,
   "metadata": {
    "collapsed": false
   },
   "outputs": [
    {
     "ename": "ZeroDivisionError",
     "evalue": "integer division or modulo by zero",
     "output_type": "error",
     "traceback": [
      "\u001b[1;31m---------------------------------------------------------------------------\u001b[0m",
      "\u001b[1;31mZeroDivisionError\u001b[0m                         Traceback (most recent call last)",
      "\u001b[1;32m<ipython-input-15-e19d6e6ac7e1>\u001b[0m in \u001b[0;36m<module>\u001b[1;34m()\u001b[0m\n\u001b[1;32m----> 1\u001b[1;33m \u001b[1;32mprint\u001b[0m \u001b[1;36m1\u001b[0m\u001b[1;33m/\u001b[0m\u001b[1;36m0\u001b[0m\u001b[1;33m\u001b[0m\u001b[0m\n\u001b[0m",
      "\u001b[1;31mZeroDivisionError\u001b[0m: integer division or modulo by zero"
     ]
    }
   ],
   "source": [
    "print 1/0"
   ]
  },
  {
   "cell_type": "markdown",
   "metadata": {},
   "source": [
    "Pero no hay que tenerle miedo a las excepciones, sólo hay que tenerlas en cuenta y controlarlas en el caso de que ocurran:"
   ]
  },
  {
   "cell_type": "code",
   "execution_count": 16,
   "metadata": {
    "collapsed": false
   },
   "outputs": [
    {
     "name": "stdout",
     "output_type": "stream",
     "text": [
      "Intentare hacer la división de 10/0\n",
      "Alguno de los parametros no es un número\n",
      "Algo\n"
     ]
    }
   ],
   "source": [
    "dividendo = 10\n",
    "divisor = '0'\n",
    "print 'Intentare hacer la división de {}/{}'.format(dividendo, divisor)\n",
    "try:\n",
    "    resultado = dividendo / divisor\n",
    "    print resultado\n",
    "except ZeroDivisionError:\n",
    "    print 'No se puede hacer la división ya que el divisor es 0.'\n",
    "except TypeError:\n",
    "    print 'Alguno de los parametros no es un número'\n",
    "\n",
    "print 'Algo'"
   ]
  },
  {
   "cell_type": "markdown",
   "metadata": {},
   "source": [
    "Pero supongamos que implementamos la regla de tres de la siguiente forma:"
   ]
  },
  {
   "cell_type": "code",
   "execution_count": 17,
   "metadata": {
    "collapsed": false
   },
   "outputs": [
    {
     "name": "stdout",
     "output_type": "stream",
     "text": [
      "Porcentaje de aprobados: 53.00%\n"
     ]
    }
   ],
   "source": [
    "def dividir(x, y):\n",
    "    return x/y\n",
    "\n",
    "\n",
    "def regla_de_tres(x, y, z):\n",
    "    return dividir(z*y, x)\n",
    "\n",
    "\n",
    "# Si de 28 alumnos, aprobaron 15, el porcentaje de aprobados es de...\n",
    "porcentaje_de_aprobados = regla_de_tres(28, 15, 100)\n",
    "print 'Porcentaje de aprobados: {0:.2f}%'.format(porcentaje_de_aprobados)"
   ]
  },
  {
   "cell_type": "markdown",
   "metadata": {},
   "source": [
    "En cambio, si le pasamos 0 en el lugar de x:"
   ]
  },
  {
   "cell_type": "code",
   "execution_count": 18,
   "metadata": {
    "collapsed": false,
    "scrolled": true
   },
   "outputs": [
    {
     "ename": "ZeroDivisionError",
     "evalue": "integer division or modulo by zero",
     "output_type": "error",
     "traceback": [
      "\u001b[1;31m---------------------------------------------------------------------------\u001b[0m",
      "\u001b[1;31mZeroDivisionError\u001b[0m                         Traceback (most recent call last)",
      "\u001b[1;32m<ipython-input-18-23c25e27495d>\u001b[0m in \u001b[0;36m<module>\u001b[1;34m()\u001b[0m\n\u001b[1;32m----> 1\u001b[1;33m \u001b[0mresultado\u001b[0m \u001b[1;33m=\u001b[0m \u001b[0mregla_de_tres\u001b[0m\u001b[1;33m(\u001b[0m\u001b[1;36m0\u001b[0m\u001b[1;33m,\u001b[0m \u001b[1;36m13\u001b[0m\u001b[1;33m,\u001b[0m \u001b[1;36m100\u001b[0m\u001b[1;33m)\u001b[0m\u001b[1;33m\u001b[0m\u001b[0m\n\u001b[0m\u001b[0;32m      2\u001b[0m \u001b[1;32mprint\u001b[0m \u001b[1;34m'Porcentaje de aprobados: {0:.2f}%'\u001b[0m\u001b[1;33m.\u001b[0m\u001b[0mformat\u001b[0m\u001b[1;33m(\u001b[0m\u001b[0mresultado\u001b[0m\u001b[1;33m)\u001b[0m\u001b[1;33m\u001b[0m\u001b[0m\n",
      "\u001b[1;32m<ipython-input-17-eea01b07ba66>\u001b[0m in \u001b[0;36mregla_de_tres\u001b[1;34m(x, y, z)\u001b[0m\n\u001b[0;32m      4\u001b[0m \u001b[1;33m\u001b[0m\u001b[0m\n\u001b[0;32m      5\u001b[0m \u001b[1;32mdef\u001b[0m \u001b[0mregla_de_tres\u001b[0m\u001b[1;33m(\u001b[0m\u001b[0mx\u001b[0m\u001b[1;33m,\u001b[0m \u001b[0my\u001b[0m\u001b[1;33m,\u001b[0m \u001b[0mz\u001b[0m\u001b[1;33m)\u001b[0m\u001b[1;33m:\u001b[0m\u001b[1;33m\u001b[0m\u001b[0m\n\u001b[1;32m----> 6\u001b[1;33m     \u001b[1;32mreturn\u001b[0m \u001b[0mdividir\u001b[0m\u001b[1;33m(\u001b[0m\u001b[0mz\u001b[0m\u001b[1;33m*\u001b[0m\u001b[0my\u001b[0m\u001b[1;33m,\u001b[0m \u001b[0mx\u001b[0m\u001b[1;33m)\u001b[0m\u001b[1;33m\u001b[0m\u001b[0m\n\u001b[0m\u001b[0;32m      7\u001b[0m \u001b[1;33m\u001b[0m\u001b[0m\n\u001b[0;32m      8\u001b[0m \u001b[1;33m\u001b[0m\u001b[0m\n",
      "\u001b[1;32m<ipython-input-17-eea01b07ba66>\u001b[0m in \u001b[0;36mdividir\u001b[1;34m(x, y)\u001b[0m\n\u001b[0;32m      1\u001b[0m \u001b[1;32mdef\u001b[0m \u001b[0mdividir\u001b[0m\u001b[1;33m(\u001b[0m\u001b[0mx\u001b[0m\u001b[1;33m,\u001b[0m \u001b[0my\u001b[0m\u001b[1;33m)\u001b[0m\u001b[1;33m:\u001b[0m\u001b[1;33m\u001b[0m\u001b[0m\n\u001b[1;32m----> 2\u001b[1;33m     \u001b[1;32mreturn\u001b[0m \u001b[0mx\u001b[0m\u001b[1;33m/\u001b[0m\u001b[0my\u001b[0m\u001b[1;33m\u001b[0m\u001b[0m\n\u001b[0m\u001b[0;32m      3\u001b[0m \u001b[1;33m\u001b[0m\u001b[0m\n\u001b[0;32m      4\u001b[0m \u001b[1;33m\u001b[0m\u001b[0m\n\u001b[0;32m      5\u001b[0m \u001b[1;32mdef\u001b[0m \u001b[0mregla_de_tres\u001b[0m\u001b[1;33m(\u001b[0m\u001b[0mx\u001b[0m\u001b[1;33m,\u001b[0m \u001b[0my\u001b[0m\u001b[1;33m,\u001b[0m \u001b[0mz\u001b[0m\u001b[1;33m)\u001b[0m\u001b[1;33m:\u001b[0m\u001b[1;33m\u001b[0m\u001b[0m\n",
      "\u001b[1;31mZeroDivisionError\u001b[0m: integer division or modulo by zero"
     ]
    }
   ],
   "source": [
    "resultado = regla_de_tres(0, 13, 100)\n",
    "print 'Porcentaje de aprobados: {0:.2f}%'.format(resultado)"
   ]
  },
  {
   "cell_type": "markdown",
   "metadata": {},
   "source": [
    "Acá podemos ver todo el *traceback* o *stacktrace*, que son el cómo se fueron llamando las distintas funciones entre sí hasta que llegamos al error. <br>\n",
    "Pero no es bueno que este tipo de excepciones las vea directamente el usuario, por lo que podemos controlarlas en distintos momentos. Se pueden controlar inmediatamente donde ocurre el error, como mostramos antes, o en cualquier parte de este *stacktrace*. <br>\n",
    "En el caso de la `regla_de_tres` no nos conviene poner el `try/except` encerrando la línea `x/y`, ya que en ese punto no tenemos toda la información que necesitamos para informarle correctamente al usuario, por lo que podemos ponerla en:"
   ]
  },
  {
   "cell_type": "code",
   "execution_count": 19,
   "metadata": {
    "collapsed": false
   },
   "outputs": [
    {
     "name": "stdout",
     "output_type": "stream",
     "text": [
      "No se puede calcular la regla de tres porque el divisor es 0\n",
      "0\n"
     ]
    }
   ],
   "source": [
    "def dividir(x, y):\n",
    "    return x/y\n",
    "\n",
    "\n",
    "def regla_de_tres(x, y, z):\n",
    "    resultado = 0\n",
    "    try:\n",
    "        resultado = dividir(z*y, x)\n",
    "    except ZeroDivisionError:\n",
    "        print 'No se puede calcular la regla de tres ' \\\n",
    "              'porque el divisor es 0'\n",
    "        \n",
    "    return resultado\n",
    "    \n",
    "    \n",
    "print regla_de_tres(0, 1, 2)"
   ]
  },
  {
   "cell_type": "markdown",
   "metadata": {},
   "source": [
    "Pero en este caso igual muestra 0, por lo que si queremos, podemos poner los try/except incluso más arriba en el stacktrace:"
   ]
  },
  {
   "cell_type": "code",
   "execution_count": 20,
   "metadata": {
    "collapsed": false
   },
   "outputs": [
    {
     "name": "stdout",
     "output_type": "stream",
     "text": [
      "No se puede calcular la regla de tres porque el divisor es 0\n"
     ]
    }
   ],
   "source": [
    "def dividir(x, y):\n",
    "    return x/y\n",
    "\n",
    "\n",
    "def regla_de_tres(x, y, z):\n",
    "    return dividir(z*y, x)\n",
    "    \n",
    "    \n",
    "try:\n",
    "    print regla_de_tres(0, 1, 2)\n",
    "except ZeroDivisionError:\n",
    "    print 'No se puede calcular la regla de tres ' \\\n",
    "          'porque el divisor es 0'"
   ]
  },
  {
   "cell_type": "markdown",
   "metadata": {},
   "source": [
    "Todos los casos son distintos y no hay UN lugar ideal dónde capturar la excepción; es cuestión del desarrollador decidir dónde conviene ponerlo para cada problema."
   ]
  },
  {
   "cell_type": "markdown",
   "metadata": {},
   "source": [
    "### Capturar múltiples excepciones\n",
    "\n",
    "Una única línea puede lanzar distintas excepciones, por lo que capturar un tipo de excepción en particular no me asegura que el programa no pueda lanzar un error en esa línea que supuestamente es segura:\n",
    "En algunos casos tenemos en cuenta que el código puede lanzar una excepción como la de `ZeroDivisionError`, pero eso puede no ser suficiente:"
   ]
  },
  {
   "cell_type": "code",
   "execution_count": 21,
   "metadata": {
    "collapsed": false
   },
   "outputs": [
    {
     "name": "stdout",
     "output_type": "stream",
     "text": [
      "ERROR: Ha ocurrido un error por dividir por 0\n",
      "El resultado es: 5\n"
     ]
    },
    {
     "ename": "TypeError",
     "evalue": "unsupported operand type(s) for /: 'str' and 'int'",
     "output_type": "error",
     "traceback": [
      "\u001b[1;31m---------------------------------------------------------------------------\u001b[0m",
      "\u001b[1;31mTypeError\u001b[0m                                 Traceback (most recent call last)",
      "\u001b[1;32m<ipython-input-21-90299ef64f0d>\u001b[0m in \u001b[0;36m<module>\u001b[1;34m()\u001b[0m\n\u001b[0;32m      9\u001b[0m \u001b[0mdividir_numeros\u001b[0m\u001b[1;33m(\u001b[0m\u001b[1;36m1\u001b[0m\u001b[1;33m,\u001b[0m \u001b[1;36m0\u001b[0m\u001b[1;33m)\u001b[0m\u001b[1;33m\u001b[0m\u001b[0m\n\u001b[0;32m     10\u001b[0m \u001b[0mdividir_numeros\u001b[0m\u001b[1;33m(\u001b[0m\u001b[1;36m10\u001b[0m\u001b[1;33m,\u001b[0m \u001b[1;36m2\u001b[0m\u001b[1;33m)\u001b[0m\u001b[1;33m\u001b[0m\u001b[0m\n\u001b[1;32m---> 11\u001b[1;33m \u001b[0mdividir_numeros\u001b[0m\u001b[1;33m(\u001b[0m\u001b[1;34m\"10\"\u001b[0m\u001b[1;33m,\u001b[0m \u001b[1;36m2\u001b[0m\u001b[1;33m)\u001b[0m\u001b[1;33m\u001b[0m\u001b[0m\n\u001b[0m",
      "\u001b[1;32m<ipython-input-21-90299ef64f0d>\u001b[0m in \u001b[0;36mdividir_numeros\u001b[1;34m(x, y)\u001b[0m\n\u001b[0;32m      1\u001b[0m \u001b[1;32mdef\u001b[0m \u001b[0mdividir_numeros\u001b[0m\u001b[1;33m(\u001b[0m\u001b[0mx\u001b[0m\u001b[1;33m,\u001b[0m \u001b[0my\u001b[0m\u001b[1;33m)\u001b[0m\u001b[1;33m:\u001b[0m\u001b[1;33m\u001b[0m\u001b[0m\n\u001b[0;32m      2\u001b[0m     \u001b[1;32mtry\u001b[0m\u001b[1;33m:\u001b[0m\u001b[1;33m\u001b[0m\u001b[0m\n\u001b[1;32m----> 3\u001b[1;33m         \u001b[0mresultado\u001b[0m \u001b[1;33m=\u001b[0m \u001b[0mx\u001b[0m\u001b[1;33m/\u001b[0m\u001b[0my\u001b[0m\u001b[1;33m\u001b[0m\u001b[0m\n\u001b[0m\u001b[0;32m      4\u001b[0m         \u001b[1;32mprint\u001b[0m \u001b[1;34m'El resultado es: %s'\u001b[0m \u001b[1;33m%\u001b[0m \u001b[0mresultado\u001b[0m\u001b[1;33m\u001b[0m\u001b[0m\n\u001b[0;32m      5\u001b[0m     \u001b[1;32mexcept\u001b[0m \u001b[0mZeroDivisionError\u001b[0m\u001b[1;33m:\u001b[0m\u001b[1;33m\u001b[0m\u001b[0m\n",
      "\u001b[1;31mTypeError\u001b[0m: unsupported operand type(s) for /: 'str' and 'int'"
     ]
    }
   ],
   "source": [
    "def dividir_numeros(x, y):\n",
    "    try:\n",
    "        resultado = x/y\n",
    "        print 'El resultado es: %s' % resultado\n",
    "    except ZeroDivisionError:\n",
    "        print 'ERROR: Ha ocurrido un error por dividir por 0'\n",
    "\n",
    "        \n",
    "dividir_numeros(1, 0)\n",
    "dividir_numeros(10, 2)\n",
    "dividir_numeros(\"10\", 2)"
   ]
  },
  {
   "cell_type": "markdown",
   "metadata": {},
   "source": [
    "En esos casos podemos capturar más de una excepción de la siguiente forma:"
   ]
  },
  {
   "cell_type": "code",
   "execution_count": 22,
   "metadata": {
    "collapsed": false
   },
   "outputs": [
    {
     "name": "stdout",
     "output_type": "stream",
     "text": [
      "ERROR: Ha ocurrido un error de división por cero\n",
      "El resultado es: 5\n",
      "ERROR: Ha ocurrido un error por mezclar tipos de datos\n"
     ]
    }
   ],
   "source": [
    "def dividir_numeros(x, y):\n",
    "    try:\n",
    "        resultado = x/y\n",
    "        print 'El resultado es: %s' % resultado\n",
    "    except TypeError:\n",
    "        print 'ERROR: Ha ocurrido un error por mezclar tipos de datos'\n",
    "    except ZeroDivisionError:\n",
    "        print 'ERROR: Ha ocurrido un error de división por cero'\n",
    "    except Exception:\n",
    "        print 'ERROR: Ha ocurrido un error inesperado'\n",
    "\n",
    "        \n",
    "dividir_numeros(1, 0)\n",
    "dividir_numeros(10, 2)\n",
    "dividir_numeros(\"10\", 2)"
   ]
  },
  {
   "cell_type": "markdown",
   "metadata": {},
   "source": [
    "Incluso, si queremos que los dos errores muestren el mismo mensaje podemos capturar ambas excepciones juntas:"
   ]
  },
  {
   "cell_type": "code",
   "execution_count": 23,
   "metadata": {
    "collapsed": false
   },
   "outputs": [
    {
     "name": "stdout",
     "output_type": "stream",
     "text": [
      "ERROR: No se puede calcular la división\n",
      "El resultado es: 5\n",
      "ERROR: No se puede calcular la división\n"
     ]
    }
   ],
   "source": [
    "def dividir_numeros(x, y):\n",
    "    try:\n",
    "        resultado = x/y\n",
    "        print 'El resultado es: %s' % resultado\n",
    "    except (ZeroDivisionError, TypeError):\n",
    "        print 'ERROR: No se puede calcular la división'\n",
    "\n",
    "        \n",
    "dividir_numeros(1, 0)\n",
    "dividir_numeros(10, 2)\n",
    "dividir_numeros(\"10\", 2)"
   ]
  },
  {
   "cell_type": "markdown",
   "metadata": {},
   "source": [
    "### Jerarquía de excepciones\n",
    "\n",
    "Existe una <a href=\"https://docs.python.org/2/library/exceptions.html\">jerarquía de excepciones</a>, de forma que si se sabe que puede venir un tipo de error, pero no se sabe exactamente qué excepción puede ocurrir siempre se puede poner una excepción de mayor jerarquía:\n",
    "<img src=\"excepciones.png\"/>\n",
    "\n",
    "Por lo que el error de división por cero se puede evitar como:"
   ]
  },
  {
   "cell_type": "code",
   "execution_count": 24,
   "metadata": {
    "collapsed": false
   },
   "outputs": [
    {
     "name": "stdout",
     "output_type": "stream",
     "text": [
      "Ha ocurrido un error de división por cero\n"
     ]
    }
   ],
   "source": [
    "try:\n",
    "    print 1/0\n",
    "except ZeroDivisionError:\n",
    "    print 'Ha ocurrido un error de división por cero'"
   ]
  },
  {
   "cell_type": "markdown",
   "metadata": {},
   "source": [
    "Y también como:"
   ]
  },
  {
   "cell_type": "code",
   "execution_count": 25,
   "metadata": {
    "collapsed": false
   },
   "outputs": [
    {
     "name": "stdout",
     "output_type": "stream",
     "text": [
      "Ha ocurrido un error inesperado\n"
     ]
    }
   ],
   "source": [
    "try:\n",
    "    print 1/0\n",
    "except Exception:\n",
    "    print 'Ha ocurrido un error inesperado'\n"
   ]
  },
  {
   "cell_type": "markdown",
   "metadata": {},
   "source": [
    "Si bien siempre se puede poner Exception en lugar del tipo de excepción que se espera, no es una buena práctica de programación ya que se pueden esconder errores indeseados. Por ejemplo, un error de sintaxis.\n",
    "Además, cuando se lanza una excepción en el bloque `try`, el intérprete comienza a buscar entre todas cláusulas `except` una que coincida con el error que se produjo, o que sea de mayor jerarquía. Por lo tanto, es recomendable poner siempre las excepciones más específicas al principio y las más generales al final:\n",
    "\n",
    "```Python\n",
    "def dividir_numeros(x, y):\n",
    "    try:\n",
    "        resultado = x/y\n",
    "        print 'El resultado es: %s' % resultado\n",
    "    except TypeError:\n",
    "        print 'ERROR: Ha ocurrido un error por mezclar tipos de datos'\n",
    "    except ZeroDivisionError:\n",
    "        print 'ERROR: Ha ocurrido un error de división por cero'\n",
    "    except Exception:\n",
    "        print 'ERROR: Ha ocurrido un error inesperado'\n",
    "```\n",
    "\n",
    "Si el error no es capturado por ninguna clausula se propaga de la misma forma que si no se hubiera puesto nada.\n",
    "\n",
    "### Otras cláusulas para el manejo de excepciones\n",
    "\n",
    "Además de las cláusulas `try` y `except` existen otras relacionadas con las excepciones que nos permiten manejar de mejor manera el flujo del programa:\n",
    "* **else**: se usa para definir un bloque de código que se ejecutará **sólo si no ocurrió ningún error**.\n",
    "* **finally**: se usa para definir un bloque de código que se ejecutará **siempre**, independientemente de si se lanzó una excepción o no."
   ]
  },
  {
   "cell_type": "code",
   "execution_count": 26,
   "metadata": {
    "collapsed": false
   },
   "outputs": [
    {
     "name": "stdout",
     "output_type": "stream",
     "text": [
      "Error: División por cero\n",
      "Este bloque de código se muestra siempre\n",
      "-------------\n",
      "El resultado es 5\n",
      "Este mensaje se mostrará sólo si no ocurre ningún error\n",
      "Este bloque de código se muestra siempre\n"
     ]
    }
   ],
   "source": [
    "def dividir_numeros(x, y):\n",
    "    try:\n",
    "        resultado = x/y\n",
    "        print 'El resultado es {}'.format(resultado)\n",
    "    except ZeroDivisionError:\n",
    "        print 'Error: División por cero'\n",
    "    else:\n",
    "        print 'Este mensaje se mostrará sólo si no ocurre ningún error'\n",
    "    finally: \n",
    "        print 'Este bloque de código se muestra siempre'\n",
    "\n",
    "        \n",
    "dividir_numeros(1, 0)\n",
    "print '-------------'\n",
    "dividir_numeros(10, 2)"
   ]
  },
  {
   "cell_type": "markdown",
   "metadata": {},
   "source": [
    "Pero entonces, ¿por qué no poner ese código dentro del `try-except`?. Porque tal vez no queremos capturar con las cláusulas `except` lo que se ejecute en ese bloque de código:"
   ]
  },
  {
   "cell_type": "code",
   "execution_count": 27,
   "metadata": {
    "collapsed": false
   },
   "outputs": [
    {
     "name": "stdout",
     "output_type": "stream",
     "text": [
      "Error: División por cero\n",
      "Este bloque de código se muestra siempre\n",
      "-------------\n",
      "El resultado es 5\n",
      "Ahora hago que ocurra una excepción\n",
      "Este bloque de código se muestra siempre\n"
     ]
    },
    {
     "ename": "ZeroDivisionError",
     "evalue": "integer division or modulo by zero",
     "output_type": "error",
     "traceback": [
      "\u001b[1;31m---------------------------------------------------------------------------\u001b[0m",
      "\u001b[1;31mZeroDivisionError\u001b[0m                         Traceback (most recent call last)",
      "\u001b[1;32m<ipython-input-27-9b1f34f6b1a2>\u001b[0m in \u001b[0;36m<module>\u001b[1;34m()\u001b[0m\n\u001b[0;32m     14\u001b[0m \u001b[0mdividir_numeros\u001b[0m\u001b[1;33m(\u001b[0m\u001b[1;36m1\u001b[0m\u001b[1;33m,\u001b[0m \u001b[1;36m0\u001b[0m\u001b[1;33m)\u001b[0m\u001b[1;33m\u001b[0m\u001b[0m\n\u001b[0;32m     15\u001b[0m \u001b[1;32mprint\u001b[0m \u001b[1;34m'-------------'\u001b[0m\u001b[1;33m\u001b[0m\u001b[0m\n\u001b[1;32m---> 16\u001b[1;33m \u001b[0mdividir_numeros\u001b[0m\u001b[1;33m(\u001b[0m\u001b[1;36m10\u001b[0m\u001b[1;33m,\u001b[0m \u001b[1;36m2\u001b[0m\u001b[1;33m)\u001b[0m\u001b[1;33m\u001b[0m\u001b[0m\n\u001b[0m",
      "\u001b[1;32m<ipython-input-27-9b1f34f6b1a2>\u001b[0m in \u001b[0;36mdividir_numeros\u001b[1;34m(x, y)\u001b[0m\n\u001b[0;32m      7\u001b[0m     \u001b[1;32melse\u001b[0m\u001b[1;33m:\u001b[0m\u001b[1;33m\u001b[0m\u001b[0m\n\u001b[0;32m      8\u001b[0m         \u001b[1;32mprint\u001b[0m \u001b[1;34m'Ahora hago que ocurra una excepción'\u001b[0m\u001b[1;33m\u001b[0m\u001b[0m\n\u001b[1;32m----> 9\u001b[1;33m         \u001b[1;32mprint\u001b[0m \u001b[1;36m1\u001b[0m\u001b[1;33m/\u001b[0m\u001b[1;36m0\u001b[0m\u001b[1;33m\u001b[0m\u001b[0m\n\u001b[0m\u001b[0;32m     10\u001b[0m     \u001b[1;32mfinally\u001b[0m\u001b[1;33m:\u001b[0m\u001b[1;33m\u001b[0m\u001b[0m\n\u001b[0;32m     11\u001b[0m         \u001b[1;32mprint\u001b[0m \u001b[1;34m'Este bloque de código se muestra siempre'\u001b[0m\u001b[1;33m\u001b[0m\u001b[0m\n",
      "\u001b[1;31mZeroDivisionError\u001b[0m: integer division or modulo by zero"
     ]
    }
   ],
   "source": [
    "def dividir_numeros(x, y):\n",
    "    try:\n",
    "        resultado = x/y\n",
    "        print 'El resultado es {}'.format(resultado)\n",
    "    except ZeroDivisionError:\n",
    "        print 'Error: División por cero'\n",
    "    else:\n",
    "        print 'Ahora hago que ocurra una excepción'\n",
    "        print 1/0\n",
    "    finally: \n",
    "        print 'Este bloque de código se muestra siempre'\n",
    "\n",
    "        \n",
    "dividir_numeros(1, 0)\n",
    "print '-------------'\n",
    "dividir_numeros(10, 2)"
   ]
  },
  {
   "cell_type": "markdown",
   "metadata": {},
   "source": [
    "### Lanzar excepciones\n",
    "\n",
    "Hasta ahora vimos cómo capturar un error y trabajar con él sin que el programa termine abruptamente, pero en algunos casos somos nosotros mismos quienes van a querer lanzar una excepción. Y para eso, usaremos la palabra reservada `raise`:"
   ]
  },
  {
   "cell_type": "code",
   "execution_count": 28,
   "metadata": {
    "collapsed": false
   },
   "outputs": [
    {
     "name": "stdout",
     "output_type": "stream",
     "text": [
      "ERROR: ha ocurrido un error del tipo Exception\n",
      "----------\n"
     ]
    },
    {
     "ename": "Exception",
     "evalue": "Error de división por cero",
     "output_type": "error",
     "traceback": [
      "\u001b[1;31m---------------------------------------------------------------------------\u001b[0m",
      "\u001b[1;31mException\u001b[0m                                 Traceback (most recent call last)",
      "\u001b[1;32m<ipython-input-28-bf43f25320e8>\u001b[0m in \u001b[0;36m<module>\u001b[1;34m()\u001b[0m\n\u001b[0;32m     15\u001b[0m \u001b[1;33m\u001b[0m\u001b[0m\n\u001b[0;32m     16\u001b[0m \u001b[1;32mprint\u001b[0m \u001b[1;34m'----------'\u001b[0m\u001b[1;33m\u001b[0m\u001b[0m\n\u001b[1;32m---> 17\u001b[1;33m \u001b[0mdividir_numeros\u001b[0m\u001b[1;33m(\u001b[0m\u001b[1;36m1\u001b[0m\u001b[1;33m,\u001b[0m \u001b[1;36m0\u001b[0m\u001b[1;33m)\u001b[0m\u001b[1;33m\u001b[0m\u001b[0m\n\u001b[0m",
      "\u001b[1;32m<ipython-input-28-bf43f25320e8>\u001b[0m in \u001b[0;36mdividir_numeros\u001b[1;34m(x, y)\u001b[0m\n\u001b[0;32m      1\u001b[0m \u001b[1;32mdef\u001b[0m \u001b[0mdividir_numeros\u001b[0m\u001b[1;33m(\u001b[0m\u001b[0mx\u001b[0m\u001b[1;33m,\u001b[0m \u001b[0my\u001b[0m\u001b[1;33m)\u001b[0m\u001b[1;33m:\u001b[0m\u001b[1;33m\u001b[0m\u001b[0m\n\u001b[0;32m      2\u001b[0m     \u001b[1;32mif\u001b[0m \u001b[0my\u001b[0m \u001b[1;33m==\u001b[0m \u001b[1;36m0\u001b[0m\u001b[1;33m:\u001b[0m\u001b[1;33m\u001b[0m\u001b[0m\n\u001b[1;32m----> 3\u001b[1;33m         \u001b[1;32mraise\u001b[0m \u001b[0mException\u001b[0m\u001b[1;33m(\u001b[0m\u001b[1;34m'Error de división por cero'\u001b[0m\u001b[1;33m)\u001b[0m\u001b[1;33m\u001b[0m\u001b[0m\n\u001b[0m\u001b[0;32m      4\u001b[0m \u001b[1;33m\u001b[0m\u001b[0m\n\u001b[0;32m      5\u001b[0m     \u001b[0mresultado\u001b[0m \u001b[1;33m=\u001b[0m \u001b[0mx\u001b[0m\u001b[1;33m/\u001b[0m\u001b[0my\u001b[0m\u001b[1;33m\u001b[0m\u001b[0m\n",
      "\u001b[1;31mException\u001b[0m: Error de división por cero"
     ]
    }
   ],
   "source": [
    "def dividir_numeros(x, y):\n",
    "    if y == 0:\n",
    "        raise Exception('Error de división por cero')\n",
    "    \n",
    "    resultado = x/y\n",
    "    print 'El resultado es {0}'.format(resultado)\n",
    "\n",
    "    \n",
    "try:\n",
    "    dividir_numeros(1, 0)\n",
    "except ZeroDivisionError as e:\n",
    "    print 'ERROR: División por cero'\n",
    "except Exception as e:\n",
    "    print 'ERROR: ha ocurrido un error del tipo Exception'\n",
    "\n",
    "print '----------'\n",
    "dividir_numeros(1, 0)"
   ]
  },
  {
   "cell_type": "markdown",
   "metadata": {},
   "source": [
    "Para más información, ingresar a  https://docs.python.org/2/tutorial/errors.html"
   ]
  },
  {
   "cell_type": "markdown",
   "metadata": {
    "collapsed": true
   },
   "source": [
    "# Ejercicios\n",
    "\n",
    "1. Se leen dos listas A y B, de N y M elementos respectivamente. Construir un algoritmo que retorne las listas unión e intersección de A y B. Previamente habrá que ordenarlos.\n",
    "2. Escribir una función que reciba una lista desordenada y un elemento, que:\n",
    "  1. Busque todos los elementos coincidan con el pasado por parámetro y devuelva la cantidad de coincidencias encontradas.\n",
    "  2. Busque la primera coincidencia del elemento en la lista y devuelva su posición. <br>\n",
    "  Si tienen la lista [1, 2, 7, 2, 32, 2, 9] y le aplican la función buscando el número 2 les tiene que devolver que aparece 3 veces y la primera vez es en la posición 1.\n",
    "3. Escribir una función que reciba una lista de números no ordenada, que:\n",
    "  1. Devuelva el valor máximo.\n",
    "  2. Devuelva una tupla que incluya el valor máximo y su posición.\n",
    "  3. ¿Qué sucede si los elementos son cadenas de caracteres? <br>\n",
    "  Nota: no utilizar `lista.sort()` ni la función `sorted`.\n",
    "4. Se cuenta con una lista ordenada de productos, en la que uno consiste en una tupla de (identificador, descripción, precio), y una lista de los productos a facturar, en la que cada uno consiste en una tupla de (identificador, cantidad). <br>\n",
    "Se desea generar una factura que incluya la cantidad, la descripción, el precio unitario y el precio total de cada producto comprado, y al final imprima el total general. <br>\n",
    "Escribir una función que reciba ambas listas e imprima por pantalla la factura solicitada.\n",
    "5. Leer de teclado (usando la función raw_input) los datos de un listado de alumnos terminados con padrón 0. Para cada alumno deben leer:<br>   # Padrón<br>    # Nombre<br>    # Apellido<br>    # Nota del primer parcial<br>    # Nota del primer recuperatorio (en caso de no haber aprobado el parcial)<br>    # Nota del segundo recuperatorio (en caso de no haber aprobado en el primero)<br>    # Nombre del grupo<br>    # Nota del TP 1<br>    # Nota del TP 2<br>\n",
    "Si el padrón es 0, no deben seguir pidiendo el resto de los campos.<br>\n",
    "Tanto el padrón, como el nombre y apellido deben leerse como strings (existen padrones que comienzan con una letra b), pero debe validarse que se haya ingresado algo de por lo menos 2 caracteres. <br>\n",
    "Todas las notas serán números enteros entre 0 y 10, aunque puede ser que el usuario accidentalmente ingrese algo que no sea un número, por lo que deberán validar la entrada y volver a pedirle los datos al usuario hasta que ingrese algo válido. También deben validar que las notas pertenezcan al rango de 0 a 10. <br>\n",
    "Se asume que todos los alumnos se presentan a todos los parciales hasta aprobar o completar sus 3 chances. <br>\n",
    "Al terminar deben:\n",
    "  1. imprimir por pantalla un listado de todos los alumnos en condiciones de rendir coloquio (último parcial aprobado y todos los TP aprobados) en el mismo orden en el que el usuario los ingreso.\n",
    "  2. imprimir por pantalla un listado de todos los alumnos en condiciones de rendir coloquio (último parcial aprobado y todos los TP aprobados) ordenados por padrón en forma creciente.\n",
    "  3. imprimir por pantalla un listado de todos los alumnos en condiciones de rendir coloquio (último parcial aprobado y todos los TP aprobados) ordenados por nota y, en caso de igualdad, por padrón (ambos en forma creciente).\n",
    "  4. Calcular para cada alumno el promedio de sus notas del parcial y luego el promedio del curso como el promedio de todos los promedios.\n",
    "  5. Informar cuál es la nota que más se repite entre todos los parciales (sin importar si es primer, segundo o tercer parcial) e indicar la cantidad de ocurrencias.\n",
    "  6. listar todas las notas que se sacaron los alumnos en el primer parcial y los padrones de quienes se sacaron esas notas con el siguiente formato:\n",
    "  \n",
    "  ```\n",
    "Nota: 2\n",
    "  * nnnn1\n",
    "  * nnnn2\n",
    "  * nnnn3\n",
    "  * nnnn4\n",
    "Nota: 4\n",
    "  * nnnn1\n",
    "  * nnnn2\n",
    "  ...\n",
    "  ```\n",
    "Tener en cuenta que las notas pueden ser del 2 al 10 y puede ocurrir que nadie se haya sacado esa nota (y en dicho caso no esa nota no tiene que aparecer en el listado)"
   ]
  }
 ],
 "metadata": {
  "kernelspec": {
   "display_name": "Python 2",
   "language": "python",
   "name": "python2"
  },
  "language_info": {
   "codemirror_mode": {
    "name": "ipython",
    "version": 2
   },
   "file_extension": ".py",
   "mimetype": "text/x-python",
   "name": "python",
   "nbconvert_exporter": "python",
   "pygments_lexer": "ipython2",
   "version": "2.7.12"
  }
 },
 "nbformat": 4,
 "nbformat_minor": 0
}
