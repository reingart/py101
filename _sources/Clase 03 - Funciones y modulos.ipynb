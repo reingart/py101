{
 "cells": [
  {
   "cell_type": "markdown",
   "metadata": {},
   "source": [
    "<!--\n",
    "22/10\n",
    "Entrada y salida de datos\n",
    "Funciones (parámetros por default, nombrados), módulos (distintas formas de importarlos)\n",
    "CLASE DE LABORATORIO \n",
    "Vencimiento TP1\n",
    "Enunciado del TP 2\n",
    "Eze\n",
    "-->"
   ]
  },
  {
   "cell_type": "markdown",
   "metadata": {},
   "source": [
    "# Funciones\n",
    "\n",
    "Una de las premisas de Python era que *\"La legibilidad cuenta\"*, y el uso de funciones ayudan mucho en que un código sea legible. <br>\n",
    "En Python no existen los procedimientos: son todas funciones. Incluso, aunque nosotros no devolvamos ningún valor, Python lo hará por nosotros, retornando `None`. <br>\n",
    "La forma de devolver valores es, al igual que en C, usando la palabra reservada **return** y el valor a retornar. Y de igual forma, una vez que se ejecuta esa sentencia, no se ejecuta ninguna sentencia más de esa función; sin importar si está dentro de un ciclo o todavía no hayamos hecho nada. <br>\n",
    "La definición de una función comienza usando la palabra reservada **def**, y continúa dejando un espacio, poniendo el nombre de la función, los parámetros entre paréntesis(los paréntesis son obligatorios por más que no se pasen parámetros) y un dos puntos para terminar la línea. En las líneas que le siguen va el código de la función, que, al igual que para las estructuras de control, la forma en que se indica el bloque de código que se tiene que ejecutar es haciendo uso de la indentación.<br>\n",
    "El nombre de la función tiene que cumplir las mismas reglas para las variables, puede empezar con cualquier letra y el \\_ y después le puede seguir cualquier carácter alfanumérico más el \\_. <br>\n",
    "Por ejemplo:"
   ]
  },
  {
   "cell_type": "code",
   "execution_count": 1,
   "metadata": {
    "collapsed": false
   },
   "outputs": [
    {
     "name": "stdout",
     "output_type": "stream",
     "text": [
      "9\n",
      "3\n"
     ]
    }
   ],
   "source": [
    "def sumar(x, y):  # Defino la función sumar\n",
    "    suma = x + y\n",
    "    return suma\n",
    "\n",
    "x = 4\n",
    "z = 5\n",
    "\n",
    "print sumar(x, z)  # Invoco a la función sumar con los\n",
    "                   # parámetros x y z\n",
    "print sumar(1, 2)  # Invoco a la función sumar con los\n",
    "                   # parámetros 1 y 2"
   ]
  },
  {
   "cell_type": "markdown",
   "metadata": {},
   "source": [
    "Aunque en ningún momento indicamos que lo que tiene que sumar son números, por lo que también puede sumar strings:"
   ]
  },
  {
   "cell_type": "code",
   "execution_count": 2,
   "metadata": {
    "collapsed": false
   },
   "outputs": [
    {
     "name": "stdout",
     "output_type": "stream",
     "text": [
      "hola mundo\n"
     ]
    }
   ],
   "source": [
    "print sumar('hola ', 'mundo')"
   ]
  },
  {
   "cell_type": "markdown",
   "metadata": {},
   "source": [
    "Además, a esta función le podría agregar comentarios (docstrings) para que al hacer help de la función se entienda qué es lo que hace:"
   ]
  },
  {
   "cell_type": "code",
   "execution_count": 3,
   "metadata": {
    "collapsed": false
   },
   "outputs": [
    {
     "name": "stdout",
     "output_type": "stream",
     "text": [
      "Help on function sumar in module __main__:\n",
      "\n",
      "sumar(x, y)\n",
      "    Suma dos elementos y retorna el resultado.\n",
      "\n"
     ]
    }
   ],
   "source": [
    "def sumar(x, y):\n",
    "    \"\"\"Suma dos elementos y retorna el resultado.\n",
    "    \"\"\"\n",
    "    return x + y\n",
    "\n",
    "help(sumar)"
   ]
  },
  {
   "cell_type": "markdown",
   "metadata": {},
   "source": [
    "El resultado de la función no es necesario que lo guarde en una variable, tranquilamente la puedo invocar y perder ese valor."
   ]
  },
  {
   "cell_type": "code",
   "execution_count": 4,
   "metadata": {
    "collapsed": false,
    "scrolled": true
   },
   "outputs": [
    {
     "data": {
      "text/plain": [
       "3628800"
      ]
     },
     "execution_count": 4,
     "metadata": {},
     "output_type": "execute_result"
    }
   ],
   "source": [
    "def factorial(n):\n",
    "    \"\"\"Calcula el factorial de un número de forma iterativa.\n",
    "    \"\"\"\n",
    "    for i in range(1,n):\n",
    "        n *= i\n",
    "        \n",
    "    return n\n",
    "\n",
    "fact_5 = factorial(5)  # calculo el factorial de 5 y lo guardo \n",
    "                       # en fact_5\n",
    "factorial(10)  # calculo el factorial de 10 y no lo guardo en \n",
    "               # ninguna variable\n"
   ]
  },
  {
   "cell_type": "markdown",
   "metadata": {},
   "source": [
    "¿Y qué sucede si no pongo el return en una función?"
   ]
  },
  {
   "cell_type": "code",
   "execution_count": 5,
   "metadata": {
    "collapsed": false
   },
   "outputs": [
    {
     "name": "stdout",
     "output_type": "stream",
     "text": [
      "Hola mundo\n"
     ]
    }
   ],
   "source": [
    "def imprimir(msg):\n",
    "    print msg\n",
    "    \n",
    "imprimir('Hola mundo')"
   ]
  },
  {
   "cell_type": "markdown",
   "metadata": {},
   "source": [
    "¿Y si le asigno el resultado de este procedimiento a una variable?"
   ]
  },
  {
   "cell_type": "code",
   "execution_count": 6,
   "metadata": {
    "collapsed": false
   },
   "outputs": [
    {
     "name": "stdout",
     "output_type": "stream",
     "text": [
      "Hola mundo\n",
      "None\n"
     ]
    }
   ],
   "source": [
    "resultado = imprimir('Hola mundo')\n",
    "print resultado"
   ]
  },
  {
   "cell_type": "markdown",
   "metadata": {},
   "source": [
    "Por lo que no existen los procedimientos, los \"procedimientos\" en realidad son funciones que devuelven None.\n",
    "Y una prueba más de esto es el resultado de llamar a la función type y pasarle como parámetro la función sumar y el \"procedimiento\" imprimir:"
   ]
  },
  {
   "cell_type": "code",
   "execution_count": 7,
   "metadata": {
    "collapsed": false
   },
   "outputs": [
    {
     "name": "stdout",
     "output_type": "stream",
     "text": [
      "<type 'function'>\n",
      "<type 'function'>\n",
      "<function sumar at 0x7fbb0a09f8c0>\n"
     ]
    }
   ],
   "source": [
    "print type(imprimir)\n",
    "print type(sumar)\n",
    "print sumar"
   ]
  },
  {
   "cell_type": "markdown",
   "metadata": {},
   "source": [
    "Ahora, si la función es un tipo de dato, significa que se lo puedo asignar a una variable..."
   ]
  },
  {
   "cell_type": "code",
   "execution_count": 8,
   "metadata": {
    "collapsed": true
   },
   "outputs": [],
   "source": [
    "mi_suma = sumar"
   ]
  },
  {
   "cell_type": "markdown",
   "metadata": {},
   "source": [
    "¿Y qué pasa si ahora llamo a mi_suma con los parámetros 1 y 2 como hice antes con sumar?"
   ]
  },
  {
   "cell_type": "code",
   "execution_count": 9,
   "metadata": {
    "collapsed": false
   },
   "outputs": [
    {
     "name": "stdout",
     "output_type": "stream",
     "text": [
      "3\n",
      "140441304037568\n",
      "140441304037568\n"
     ]
    }
   ],
   "source": [
    "print mi_suma(1, 2)\n",
    "print id(mi_suma)\n",
    "print id(sumar)"
   ]
  },
  {
   "cell_type": "markdown",
   "metadata": {},
   "source": [
    "## Retornar múltiples valores\n",
    "\n",
    "¿Y cómo podemos hacer si queremos devolver dos variables en lugar de una?. <br>\n",
    "Una opción simple sería retornar una lista o una tupla con todos las variables, de esa forma nos podría quedar:\n",
    "\n",
    "```Python\n",
    "def suma_y_resta(x, y):\n",
    "    \"\"\"Función que suma y resta dos números.\"\"\"\n",
    "    resultado = []\n",
    "    resultado.append(x+y)\n",
    "    resultado.append(x-y)\n",
    "    \n",
    "    return resultado\n",
    "```\n",
    "\n",
    "Despues cuando querramos usarla sólo tendríamos que hacer:\n",
    "\n",
    "```Python\n",
    "resultado = suma_y_resta(23, 5)\n",
    "suma = resultado[0]\n",
    "resta = resultado[1]\n",
    "```\n",
    "\n",
    "Pero así como podemos construir la lista y agregarle los valores, tranquilamente podríamos consutruirla directamente con los valores que queremos que tenga:\n",
    "\n",
    "```Python\n",
    "def suma_y_resta(x, y):\n",
    "    \"\"\"Función que suma y resta dos números.\"\"\"\n",
    "    resultado = [x+y, x-y]\n",
    "    \n",
    "    return resultado\n",
    "```\n",
    "\n",
    "Y si decíamos que la única diferencia entre una lista y una tupla era que la primera se podía modificar y la segunda no, entonces, tranquilamente podríamos reemplazar la lista por una tupla y hasta obviar la variable resultado y directamente:\n",
    "\n",
    "```Python\n",
    "def suma_y_resta(x, y):\n",
    "    \"\"\"Función que suma y resta dos números.\"\"\"\n",
    "    return (x+y, x-y)\n",
    "```\n",
    "\n",
    "Incluso, los paréntesis son opcionales para crear una tupla:\n"
   ]
  },
  {
   "cell_type": "code",
   "execution_count": 10,
   "metadata": {
    "collapsed": false
   },
   "outputs": [
    {
     "name": "stdout",
     "output_type": "stream",
     "text": [
      "(1,)\n",
      "<type 'tuple'>\n"
     ]
    }
   ],
   "source": [
    "tupla = 1,\n",
    "print tupla\n",
    "print type(tupla)"
   ]
  },
  {
   "cell_type": "markdown",
   "metadata": {},
   "source": [
    "Entonces, nos podría quedar:\n",
    "\n",
    "```Python\n",
    "def suma_y_resta(x, y):\n",
    "    \"\"\"Función que suma y resta dos números.\"\"\"\n",
    "    return x+y, x-y\n",
    "```\n",
    "\n",
    "Y si vamos un poco más allá, el [*unpacking*](https://docs.python.org/2/tutorial/controlflow.html#unpacking-argument-lists) de una lista o tupla se puede hacer en una sóla instrucción"
   ]
  },
  {
   "cell_type": "code",
   "execution_count": 11,
   "metadata": {
    "collapsed": false
   },
   "outputs": [
    {
     "name": "stdout",
     "output_type": "stream",
     "text": [
      "1\n",
      "[2, 3, 4, 5]\n",
      "3\n"
     ]
    }
   ],
   "source": [
    "x, y, z = [1, [2, 3, 4, 5], 3]\n",
    "print x\n",
    "print y\n",
    "print z"
   ]
  },
  {
   "cell_type": "markdown",
   "metadata": {},
   "source": [
    "Por lo que también podemos cambiar la forma en que se *desempacan* esos valores que retorna la función y nos podría quedar:\n"
   ]
  },
  {
   "cell_type": "code",
   "execution_count": 12,
   "metadata": {
    "collapsed": false
   },
   "outputs": [
    {
     "name": "stdout",
     "output_type": "stream",
     "text": [
      "La suma es:  28\n",
      "La resta es:  18\n"
     ]
    }
   ],
   "source": [
    "def suma_y_resta(x, y):\n",
    "    \"\"\"Función que suma y resta dos números.\"\"\"\n",
    "    return x+y, x-y\n",
    "\n",
    "suma, resta = suma_y_resta(23, 5)\n",
    "\n",
    "print 'La suma es: ', suma\n",
    "print 'La resta es: ', resta"
   ]
  },
  {
   "cell_type": "markdown",
   "metadata": {},
   "source": [
    "## Pasaje de parámetros\n",
    "\n",
    "A diferencia de otros lenguajes, en Python todos los parámetros que se le pasan a una función son **siempre por referencia**, es decir, cualquier modificación que sufran dentro de la función, también se verá reflejada fuera de la misma. <br>\n",
    "Sin embargo, cuando le pasamos un parámetro inmutable, como puede ser un *int*, *bool* o una *tupla*, si el parámetro formal se modifica, el parámetro actual no verá esa moficación ya que en realidad se modificó otra posición de memoria:"
   ]
  },
  {
   "cell_type": "code",
   "execution_count": 13,
   "metadata": {
    "collapsed": false
   },
   "outputs": [
    {
     "name": "stdout",
     "output_type": "stream",
     "text": [
      "1. Al comenzar num vale 2 y lista vale []\n",
      "Dentro de la función num vale 4 y lista vale [4]\n",
      "2. Fuera de la función num vale 2 y lista vale [4]\n",
      "\n",
      "Ahora multiplico por 3: n *= 3 --> n = 6\n",
      "Dentro de la función num vale 12 y lista vale [4, 12]\n",
      "3. Fuera de la función num vale 6 y lista vale [4, 12]\n"
     ]
    }
   ],
   "source": [
    "def multiplicar_y_agregar(num, lista):\n",
    "    num *= 2\n",
    "    lista.append(num)\n",
    "    print 'Dentro de la función num vale {num} y ' \\\n",
    "          'lista vale {lista}'.format(num=num, lista=lista)\n",
    "    \n",
    "lista = []\n",
    "n = 2\n",
    "print '1. Al comenzar num vale {num} y lista ' \\\n",
    "      'vale {lista}'.format(num=n, lista=lista)\n",
    "multiplicar_y_agregar(n, lista)\n",
    "print '2. Fuera de la función num vale {num} y ' \\\n",
    "      'lista vale {lista}'.format(num=n, lista=lista)\n",
    "print \n",
    "n *= 3\n",
    "print 'Ahora multiplico por 3: n *= 3 --> n = {}'.format(n)\n",
    "multiplicar_y_agregar(n, lista)\n",
    "print '3. Fuera de la función num vale {num} y lista ' \\\n",
    "      'vale {lista}'.format(num=n, lista=lista)\n"
   ]
  },
  {
   "cell_type": "markdown",
   "metadata": {},
   "source": [
    "## Lista de parámetros\n",
    "\n",
    "¿Qué pasa cuando no sabemos [cuántos parámetros](https://docs.python.org/2/tutorial/controlflow.html#arbitrary-argument-lists) nos pueden pasar, pero si sabemos qué hacer con ellos?"
   ]
  },
  {
   "cell_type": "code",
   "execution_count": 14,
   "metadata": {
    "collapsed": false
   },
   "outputs": [
    {
     "name": "stdout",
     "output_type": "stream",
     "text": [
      "3\n",
      "15\n",
      "21\n",
      "<function sumar at 0x7fbb0a09f7d0>\n"
     ]
    }
   ],
   "source": [
    "def sumar(*lista_de_numeros):\n",
    "    suma = 0\n",
    "    for e in lista_de_numeros:\n",
    "        suma += e\n",
    "        \n",
    "    return suma\n",
    "\n",
    "print sumar(1, 2)\n",
    "print sumar(1, 2, 3, 4, 5)\n",
    "print sumar(*[1, 2, 3, 4, 5, 6])\n",
    "print sumar"
   ]
  },
  {
   "cell_type": "markdown",
   "metadata": {},
   "source": [
    "## Parámetros por defecto\n",
    "\n",
    "Algo más común que no saber la cantidad de parámetros que nos van a pasar es asumir que ciertos parámetros pueden no pasarlos y para ellos asumiremos un [valor por defecto](https://docs.python.org/2/tutorial/controlflow.html#default-argument-values). <br>\n",
    "Por ejemplo:\n"
   ]
  },
  {
   "cell_type": "code",
   "execution_count": 15,
   "metadata": {
    "collapsed": true
   },
   "outputs": [],
   "source": [
    "def imprimir_parametros(param1, param2, param3=5, \n",
    "                        param4=\"es el cuarto parametro\", \n",
    "                        param5=False):\n",
    "    print param1, param2, param3, param4, param5\n"
   ]
  },
  {
   "cell_type": "markdown",
   "metadata": {},
   "source": [
    "Para esta función nos pueden pasar 2, 3, 4 o 5 parámetros. Si nos pasan los 5 parámetros, se imprimirán los valores que nos pasen:"
   ]
  },
  {
   "cell_type": "code",
   "execution_count": 16,
   "metadata": {
    "collapsed": false
   },
   "outputs": [
    {
     "name": "stdout",
     "output_type": "stream",
     "text": [
      "1 2 3 4 5\n"
     ]
    }
   ],
   "source": [
    "imprimir_parametros(1, 2, 3, 4, 5)"
   ]
  },
  {
   "cell_type": "markdown",
   "metadata": {},
   "source": [
    "Ahora, si nos pasan 4 parámetros, el intérprete asumirá que el faltante es param5, por lo que dicho parámetro tomará el valor False. Y lo mismo pasa con el resto de los parámetros."
   ]
  },
  {
   "cell_type": "code",
   "execution_count": 17,
   "metadata": {
    "collapsed": false
   },
   "outputs": [
    {
     "name": "stdout",
     "output_type": "stream",
     "text": [
      "1 2 3 4 False\n",
      "1 2 3 es el cuarto parametro False\n",
      "1 2 5 es el cuarto parametro False\n"
     ]
    }
   ],
   "source": [
    "imprimir_parametros(1, 2, 3, 4)\n",
    "imprimir_parametros(1, 2, 3)\n",
    "imprimir_parametros(1, 2)"
   ]
  },
  {
   "cell_type": "markdown",
   "metadata": {},
   "source": [
    "¿Y si le pasamos un sólo parámetro?."
   ]
  },
  {
   "cell_type": "code",
   "execution_count": 18,
   "metadata": {
    "collapsed": false
   },
   "outputs": [
    {
     "ename": "TypeError",
     "evalue": "imprimir_parametros() takes at least 2 arguments (1 given)",
     "output_type": "error",
     "traceback": [
      "\u001b[1;31m---------------------------------------------------------------------------\u001b[0m",
      "\u001b[1;31mTypeError\u001b[0m                                 Traceback (most recent call last)",
      "\u001b[1;32m<ipython-input-18-8b3152a74f3f>\u001b[0m in \u001b[0;36m<module>\u001b[1;34m()\u001b[0m\n\u001b[1;32m----> 1\u001b[1;33m \u001b[0mimprimir_parametros\u001b[0m\u001b[1;33m(\u001b[0m\u001b[1;36m1\u001b[0m\u001b[1;33m)\u001b[0m\u001b[1;33m\u001b[0m\u001b[0m\n\u001b[0m",
      "\u001b[1;31mTypeError\u001b[0m: imprimir_parametros() takes at least 2 arguments (1 given)"
     ]
    }
   ],
   "source": [
    "imprimir_parametros(1)"
   ]
  },
  {
   "cell_type": "markdown",
   "metadata": {},
   "source": [
    "¿Y qué pasa si quiero pasarle los parámetros 1, 2 y el 5?. <br>\n",
    "No es problema, para eso tenemos que usar parámetros nombrados:"
   ]
  },
  {
   "cell_type": "code",
   "execution_count": 19,
   "metadata": {
    "collapsed": false
   },
   "outputs": [
    {
     "name": "stdout",
     "output_type": "stream",
     "text": [
      "1 2 5 es el cuarto parametro Este el parametro5\n",
      "1 2 5 es el cuarto parametro False\n"
     ]
    }
   ],
   "source": [
    "imprimir_parametros(1, 2, param5=\"Este el parametro5\")\n",
    "imprimir_parametros(1, 2)"
   ]
  },
  {
   "cell_type": "markdown",
   "metadata": {},
   "source": [
    "Lo mismo pasa si lo que quiero cambiar es el cuatro parámetro:"
   ]
  },
  {
   "cell_type": "code",
   "execution_count": 20,
   "metadata": {
    "collapsed": false
   },
   "outputs": [
    {
     "name": "stdout",
     "output_type": "stream",
     "text": [
      "1 2 5 4 False\n"
     ]
    }
   ],
   "source": [
    "imprimir_parametros(1, 2, param4=4)"
   ]
  },
  {
   "cell_type": "markdown",
   "metadata": {},
   "source": [
    "Hasta se pueden nombrar todos los parámetros:"
   ]
  },
  {
   "cell_type": "code",
   "execution_count": 21,
   "metadata": {
    "collapsed": false
   },
   "outputs": [
    {
     "name": "stdout",
     "output_type": "stream",
     "text": [
      "3 4 2 5 1\n"
     ]
    }
   ],
   "source": [
    "imprimir_parametros(param5=1, param3=2, param1=3, param2=4, param4=5)"
   ]
  },
  {
   "cell_type": "markdown",
   "metadata": {},
   "source": [
    "Si bien puede parecer innecesario el uso de [parámetros nombrados](https://docs.python.org/2/tutorial/controlflow.html#keyword-arguments), en algunas oportunidades se suele usar para agregar claridad y legibilidad al código, y en otros para pasarle un diccionario:"
   ]
  },
  {
   "cell_type": "code",
   "execution_count": 22,
   "metadata": {
    "collapsed": false
   },
   "outputs": [
    {
     "name": "stdout",
     "output_type": "stream",
     "text": [
      "1 2 3 4 5\n"
     ]
    }
   ],
   "source": [
    "parametros = {\n",
    "    'param1': 1,\n",
    "    'param2': 2,\n",
    "    'param3': 3,\n",
    "    'param4': 4,\n",
    "    'param5': 5,\n",
    "}\n",
    "\n",
    "imprimir_parametros(**parametros)"
   ]
  },
  {
   "cell_type": "markdown",
   "metadata": {},
   "source": [
    "# Uso de módulos externos\n",
    "\n",
    "Así como en Pascal usando la cláusula `Uses` podíamos usar código que no pertenecía al archivo que estábamos codificando, en Python podemos hacer lo mismo usando la cláusula [*import*](https://docs.python.org/2/tutorial/modules.html) y poniendo a continuación el nombre del módulo. <br>\n",
    "Por ejemplo, si queremos importar el módulo datetime para trabajar con fechas y horas, tendríamos que hacer:\n",
    "\n",
    "```Python\n",
    "import datetime\n",
    "```\n",
    "\n",
    "Para usarlo simplemente tenemos que poner el nombre del módulo, un punto y la función que queramos usar. <br>\n",
    "En este caso, dentro del módulo `datetime` vamos a usar la función que se encuentra en `date` y se llama `today()`."
   ]
  },
  {
   "cell_type": "code",
   "execution_count": 23,
   "metadata": {
    "collapsed": false
   },
   "outputs": [
    {
     "name": "stdout",
     "output_type": "stream",
     "text": [
      "2017-05-25\n"
     ]
    }
   ],
   "source": [
    "import datetime\n",
    "\n",
    "print datetime.date.today()"
   ]
  },
  {
   "cell_type": "markdown",
   "metadata": {},
   "source": [
    "Pero a diferencia de Pascal y C, acá podemos elegir importar una función o algo en particular de ese módulo, en lugar de traerlo todo. Para eso tendríamos que poner en primer lugar la cláusula `from`, luego el nombre del módulo y a continuación la cláusula `import` todo lo que queremos importar separada por comas. <br>\n",
    "Por ejemplo, del módulo `datetime` podríamos traer los submódulos `date` y `time`. Después, para usarlos simplemente lo hacemos llamando lo que importamos sin el nombre del módulo. <br>\n"
   ]
  },
  {
   "cell_type": "code",
   "execution_count": 24,
   "metadata": {
    "collapsed": false
   },
   "outputs": [
    {
     "name": "stdout",
     "output_type": "stream",
     "text": [
      "2017-05-25\n",
      "01:23:32\n"
     ]
    }
   ],
   "source": [
    "from datetime import date, time\n",
    "\n",
    "print date.today()\n",
    "print time(1, 23, 32)\n"
   ]
  },
  {
   "cell_type": "markdown",
   "metadata": {},
   "source": [
    "Si tenemos un archivo llamado *ejemplo.py* que tiene el siguiente código:\n",
    "\n",
    "```Python\n",
    "def imprimir(param):\n",
    "    print param\n",
    "\n",
    "def sumar(n1, n2):\n",
    "    return n1+n2\n",
    "```\n",
    "\n",
    "y queremos importarlo a otro archivo y usarlo, podemos hacer:\n",
    "\n",
    "```Python\n",
    "import ejemplo\n",
    "\n",
    "ejemplo.imprimir(\"123\")\n",
    "print ejemplo.sumar(2,3)\n",
    "```\n",
    "\n",
    "Y, como dijimos, también podemos importar solo una función de ese módulo y usarla como si estuviera definida dentro de nuestro contexto.\n",
    "\n",
    "```Python\n",
    "from ejemplo import sumar\n",
    "\n",
    "print sumar(4, 5)\n",
    "```"
   ]
  },
  {
   "cell_type": "markdown",
   "metadata": {
    "collapsed": true
   },
   "source": [
    "# Ejercicios\n",
    "\n",
    "1. Escribir un programa que le pregunte un número al usuario. Si el número es 5, que muestre \"Suerte!\"; si el número es mayor a 10, que muestre \"Grande!\"; para los otros casos que muestre \"Sin suerte, :(\". \n",
    "2. Crear una función que calcule el factorial de un número, pedirle al usuario que ingrese un número y mostrarle el factorial de dicho número.\n",
    "3. Crear una función que indique si un número es primo o no e imprimir todos los números primos entre 1 y un número que se le solicite al usuario.\n",
    "4. Dada una lista de números enteros y un entero k, escribir una función que muestre todo el vector multiplicado por k.\n",
    "5. Hacer un programa que genere un número entero al azar (módulo random) entre 0 y 1000, y le vaya pidiendo al usuario que ingrese números enteros para adivinarlo. Si el usuario ingresa un número menor que el objetivo, muestra \"Es más alto!\"; si el usuario ingresa uno mayor, muestra \"Es más bajo!\"; si el usuario acierta, muestra \"Ganaste!!!\", y termina. Si el usuario no acertó en 7 intentos, que muestre \"Perdiste! :(\" y termine.\n",
    "6. Armar una función que reciba una tupla y devuelva si la tupla está ordenada (de menor a mayor) o no."
   ]
  }
 ],
 "metadata": {
  "kernelspec": {
   "display_name": "Python 2",
   "language": "python",
   "name": "python2"
  },
  "language_info": {
   "codemirror_mode": {
    "name": "ipython",
    "version": 2
   },
   "file_extension": ".py",
   "mimetype": "text/x-python",
   "name": "python",
   "nbconvert_exporter": "python",
   "pygments_lexer": "ipython2",
   "version": "2.7.12"
  }
 },
 "nbformat": 4,
 "nbformat_minor": 0
}
