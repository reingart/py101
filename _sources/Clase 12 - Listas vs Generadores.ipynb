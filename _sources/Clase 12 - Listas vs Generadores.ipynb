{
 "cells": [
  {
   "cell_type": "markdown",
   "metadata": {},
   "source": [
    "# Listas vs Generadores\n",
    "\n",
    "Tanto las listas como los generadoras son estructuras que vienen en la librería estándar de Python y sirven para agrupar elementos, por lo que en muchos casos se pueden usar unas u otras indistintamente.<br>\n",
    "La principal diferencia radica en que mientras la primera necesita que estén creados todos los elementos de antes de crearse, la segunda los va creando a medida que los necesita. Por este motivo es que los generadores ocupan mucha menos memoria y podrían llegar a ser más rápidos si no necesitamos recorrerlos completos. <br>\n",
    "\n",
    "## List comprehension\n"
   ]
  },
  {
   "cell_type": "code",
   "execution_count": null,
   "metadata": {
    "collapsed": true
   },
   "outputs": [],
   "source": []
  }
 ],
 "metadata": {
  "kernelspec": {
   "display_name": "Python 2",
   "language": "python",
   "name": "python2"
  },
  "language_info": {
   "codemirror_mode": {
    "name": "ipython",
    "version": 2
   },
   "file_extension": ".py",
   "mimetype": "text/x-python",
   "name": "python",
   "nbconvert_exporter": "python",
   "pygments_lexer": "ipython2",
   "version": "2.7.12"
  }
 },
 "nbformat": 4,
 "nbformat_minor": 0
}
