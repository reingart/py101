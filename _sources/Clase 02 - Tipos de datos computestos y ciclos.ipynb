{
 "cells": [
  {
   "cell_type": "markdown",
   "metadata": {},
   "source": [
    "<!--\n",
    "20/10\n",
    "Tipos de datos compuestos. Estructuras de control repetitivas. \n",
    "Índices y slices\n",
    "Diccionarios como acumuladores/contadores\n",
    "-->"
   ]
  },
  {
   "cell_type": "markdown",
   "metadata": {},
   "source": [
    "## Tipos de datos compuestos\n",
    "\n",
    "### Listas\n",
    "\n",
    "En Python podemos guardar varios elementos usando [listas](https://docs.python.org/2/tutorial/introduction.html#lists)"
   ]
  },
  {
   "cell_type": "code",
   "execution_count": 6,
   "metadata": {
    "collapsed": false
   },
   "outputs": [
    {
     "name": "stdout",
     "output_type": "stream",
     "text": [
      "Lista de números:\n",
      "[1, 6, 9, 5, 2]\n",
      "<type 'list'>\n",
      "\n",
      "Lista de cosas:\n",
      "[1, 6, 'cadena_de_caracteres', 9, 5, 2]\n",
      "[1, 6, 'cadena_de_caracteres', 9, 5, 2, 'cadena_de_caracteres']\n",
      "<type 'list'>\n"
     ]
    }
   ],
   "source": [
    "print 'Lista de números:'\n",
    "lista_de_numeros = [1, 6, 9, 5, 2]\n",
    "print lista_de_numeros\n",
    "print type(lista_de_numeros)\n",
    "\n",
    "# Pero en ningún lugar dice que la lista tiene que ser sólo\n",
    "# de números, por lo que podría definir mi lista_de_cosas\n",
    "# que tenga los mismos números que tenía antes y un string\n",
    "# en el medio:\n",
    "print '\\nLista de cosas:'\n",
    "string = 'cadena_de_caracteres'\n",
    "lista_de_cosas = [1, 6, string, 9, 5, 2]\n",
    "print lista_de_cosas\n",
    "\n",
    "lista_de_cosas.append(string)\n",
    "print lista_de_cosas\n",
    "print type(lista_de_cosas)\n"
   ]
  },
  {
   "cell_type": "markdown",
   "metadata": {},
   "source": [
    "Si se quiere saber si un número se encuentra en una lista o no, es muy simple, sólo hay que usar el operador **in**:"
   ]
  },
  {
   "cell_type": "code",
   "execution_count": 7,
   "metadata": {
    "collapsed": false
   },
   "outputs": [
    {
     "name": "stdout",
     "output_type": "stream",
     "text": [
      "El 5 esta en [1, 6, 9, 5, 2]?: True\n",
      "El 7 esta en [1, 6, 9, 5, 2]?: False\n"
     ]
    }
   ],
   "source": [
    "print 'El {} esta en {}?: {}'.format(5, lista_de_numeros, 5 in lista_de_numeros)\n",
    "print 'El {} esta en {}?: {}'.format(7, lista_de_numeros, 7 in lista_de_numeros)"
   ]
  },
  {
   "cell_type": "markdown",
   "metadata": {},
   "source": [
    "El operador **in** también funciona para strings (es *case sensitive*):"
   ]
  },
  {
   "cell_type": "code",
   "execution_count": 8,
   "metadata": {
    "collapsed": false
   },
   "outputs": [
    {
     "name": "stdout",
     "output_type": "stream",
     "text": [
      "mundo in \"Hola mundo\":  True\n",
      "MUNDO in \"Hola mundo\":  False\n"
     ]
    }
   ],
   "source": [
    "print 'mundo in \"Hola mundo\": ', 'mundo' in \"Hola mundo\"\n",
    "print 'MUNDO in \"Hola mundo\": ', 'MUNDO' in \"Hola mundo\""
   ]
  },
  {
   "cell_type": "markdown",
   "metadata": {},
   "source": [
    "A diferencia de los strings, en las listas si podemos cambiar un elemento cualquiera:"
   ]
  },
  {
   "cell_type": "code",
   "execution_count": 9,
   "metadata": {
    "collapsed": false
   },
   "outputs": [
    {
     "name": "stdout",
     "output_type": "stream",
     "text": [
      "[1, 6, 3, 9, 5, 2]\n",
      "[1, 6, 3, 152, 5, 2]\n"
     ]
    }
   ],
   "source": [
    "lista_de_numeros = [1, 6, 3, 9, 5, 2]\n",
    "print lista_de_numeros\n",
    "lista_de_numeros[3] = 152\n",
    "print lista_de_numeros"
   ]
  },
  {
   "cell_type": "markdown",
   "metadata": {},
   "source": [
    "En ningún momento dijimos que la lista era de enteros, por lo que tranquilamente podemos guardar elementos de distintos tipos de datos"
   ]
  },
  {
   "cell_type": "code",
   "execution_count": 10,
   "metadata": {
    "collapsed": false
   },
   "outputs": [
    {
     "name": "stdout",
     "output_type": "stream",
     "text": [
      "[2, 5.5, 'letras', [1, 2, 3], ('tupla', 'de', 'strings')]\n"
     ]
    }
   ],
   "source": [
    "lista_de_cosas = [2, 5.5, 'letras', [1, 2, 3], \n",
    "                  ('tupla', 'de', 'strings')]\n",
    "print lista_de_cosas"
   ]
  },
  {
   "cell_type": "markdown",
   "metadata": {},
   "source": [
    "Para eliminar un elemento sólo tenemos que usar la función **del** e indicar la posición."
   ]
  },
  {
   "cell_type": "code",
   "execution_count": 11,
   "metadata": {
    "collapsed": false
   },
   "outputs": [
    {
     "name": "stdout",
     "output_type": "stream",
     "text": [
      "Lista de cosas: [2, 5.5, 'letras', [1, 2, 3], ('tupla', 'de', 'strings')]\n",
      "Después de eliminar la posición 3: [2, 5.5, 'letras', ('tupla', 'de', 'strings')]\n"
     ]
    }
   ],
   "source": [
    "lista_de_cosas = [2, 5.5, 'letras', [1, 2, 3],\n",
    "                  ('tupla', 'de', 'strings')]\n",
    "print 'Lista de cosas:', lista_de_cosas\n",
    "\n",
    "del lista_de_cosas[3]\n",
    "print 'Después de eliminar la posición 3:', lista_de_cosas"
   ]
  },
  {
   "cell_type": "code",
   "execution_count": 12,
   "metadata": {
    "collapsed": false
   },
   "outputs": [
    {
     "name": "stdout",
     "output_type": "stream",
     "text": [
      "la lista tiene elementos\n"
     ]
    }
   ],
   "source": [
    "lista_de_numeros = [1, 2]\n",
    "\n",
    "if lista_de_numeros:\n",
    "    print 'la lista tiene elementos'\n",
    "else:\n",
    "    print 'la lista no tiene elementos'\n"
   ]
  },
  {
   "cell_type": "markdown",
   "metadata": {},
   "source": [
    "Y con las listas también se pueden hacer *slices*:"
   ]
  },
  {
   "cell_type": "code",
   "execution_count": 13,
   "metadata": {
    "collapsed": false
   },
   "outputs": [
    {
     "name": "stdout",
     "output_type": "stream",
     "text": [
      "primer elemento: 2\n",
      "último: ('tupla', 'de', 'strings')\n",
      "del_segundo_al_ultimo_sin_incluirlo: [5.5, 'letras', ('tupla', 'de', 'strings')]\n",
      "del_segundo_al_ultimo_sin_incluirlo: [5.5, 'letras']\n",
      "del_segundo_al_ultimo_incluyendolo: [5.5, 'letras', ('tupla', 'de', 'strings')]\n"
     ]
    }
   ],
   "source": [
    "print 'primer elemento:', lista_de_cosas[0]\n",
    "ultimo = lista_de_cosas[-1]\n",
    "print 'último:', ultimo\n",
    "print 'del_segundo_al_ultimo_sin_incluirlo:', lista_de_cosas[1:4]\n",
    "print 'del_segundo_al_ultimo_sin_incluirlo:', lista_de_cosas[1:-1]\n",
    "print 'del_segundo_al_ultimo_incluyendolo:', lista_de_cosas[1:]"
   ]
  },
  {
   "cell_type": "markdown",
   "metadata": {},
   "source": [
    "Existe una función llamada *range* que crea permite crear listas de números:"
   ]
  },
  {
   "cell_type": "code",
   "execution_count": 14,
   "metadata": {
    "collapsed": false
   },
   "outputs": [
    {
     "name": "stdout",
     "output_type": "stream",
     "text": [
      "range(stop) -> list of integers\n",
      "range(start, stop[, step]) -> list of integers\n",
      "\n",
      "Return a list containing an arithmetic progression of integers.\n",
      "range(i, j) returns [i, i+1, i+2, ..., j-1]; start (!) defaults to 0.\n",
      "When step is given, it specifies the increment (or decrement).\n",
      "For example, range(4) returns [0, 1, 2, 3].  The end point is omitted!\n",
      "These are exactly the valid indices for a list of 4 elements.\n",
      "\n",
      "Ejemplos:\n",
      "  range(15): [0, 1, 2, 3, 4, 5, 6, 7, 8, 9, 10, 11, 12, 13, 14]\n",
      "  range(15)[2:9]: [2, 3, 4, 5, 6, 7, 8]\n",
      "  range(15)[2:9:3]: [2, 5, 8]\n",
      "  range(2,9): [2, 3, 4, 5, 6, 7, 8]\n",
      "  range(2,9,3): [2, 5, 8]\n"
     ]
    }
   ],
   "source": [
    "print range.__doc__\n",
    "print\n",
    "print 'Ejemplos:'\n",
    "print '  range(15):', range(15)\n",
    "print '  range(15)[2:9]:', range(15)[2:9]\n",
    "print '  range(15)[2:9:3]:', range(15)[2:9:3]\n",
    "print '  range(2,9):', range(2,9)\n",
    "print '  range(2,9,3):', range(2,9,3)"
   ]
  },
  {
   "cell_type": "markdown",
   "metadata": {},
   "source": [
    "### Tuplas\n",
    "\n",
    "Las [tuplas](https://docs.python.org/2/tutorial/datastructures.html#tuples-and-sequences) son listas inmutables, es decir, que no se pueden modificar. \n",
    "Si no se pueden modificar, ¿para qué existen?. Porque crearlas es mucho más eficiente que crear listas y en muchas ocasiones, como con las constantes, queremos crear variables que no se modifiquen.\n"
   ]
  },
  {
   "cell_type": "code",
   "execution_count": 15,
   "metadata": {
    "collapsed": false
   },
   "outputs": [
    {
     "name": "stdout",
     "output_type": "stream",
     "text": [
      "(1, 2, 3, 4)\n",
      "(3, 4)\n",
      "<type 'tuple'>\n"
     ]
    }
   ],
   "source": [
    "tupla = (1, 2, 3, 4)  # Se usa paréntesis en lugar de corchetes\n",
    "print tupla\n",
    "\n",
    "tupla = tupla[2:4]\n",
    "print tupla\n",
    "print type(tupla)"
   ]
  },
  {
   "cell_type": "markdown",
   "metadata": {},
   "source": [
    "### Diccionarios\n",
    "\n",
    "El equivalente a los registros de Pascal serían los [diccionarios](https://docs.python.org/2/tutorial/datastructures.html#dictionaries), pero éstos también ofrecen mayor flexibilidad:\n"
   ]
  },
  {
   "cell_type": "code",
   "execution_count": 21,
   "metadata": {
    "collapsed": false
   },
   "outputs": [
    {
     "name": "stdout",
     "output_type": "stream",
     "text": [
      "Podría usar los registros para guardar los datos de un alumno\n",
      "{'nombre': 'Rodriguez, Carlos', 'padron': 98128}\n",
      "<type 'dict'>\n",
      "\n",
      "Y una vez que el alumno rinda el parcial, le puedo agregar  la nota a ese registro\n",
      "{'nombre': 'Rodriguez, Carlos', 'nota': 6, 'padron': 98128}\n",
      "\n",
      "Incluso le puedo agregar un diccionario que tenga las notas de los trabajos prácticos. \n",
      "{'TPs': {1: 4, 2: 8}, 'nombre': 'Rodriguez, Carlos', 'nota': 6, 'padron': 98128}\n",
      "Prestar atención que las claves del diccionario de trabajo práctico son números enteros.\n",
      "La nota del TP 2 es: 8\n"
     ]
    }
   ],
   "source": [
    "print 'Podría usar los registros para guardar los datos de un alumno'\n",
    "\n",
    "registro = {\n",
    "    'padron': 98128,\n",
    "    'nombre': 'Rodriguez, Carlos'\n",
    "}\n",
    "\n",
    "print registro\n",
    "print type(registro)\n",
    "print\n",
    "\n",
    "print 'Y una vez que el alumno rinda el parcial, le puedo agregar',\n",
    "print ' la nota a ese registro'\n",
    "\n",
    "registro['nota'] = 6\n",
    "print registro\n",
    "print \n",
    "\n",
    "print 'Incluso le puedo agregar un diccionario que tenga las notas',\n",
    "print 'de los trabajos prácticos. '\n",
    "registro['TPs'] = {1: 4, 2: 8}\n",
    "print registro\n",
    "print 'Prestar atención que las claves del diccionario de trabajo',\n",
    "print 'práctico son números enteros.'\n",
    "print 'La nota del TP 2 es:', registro['TPs'][2]\n"
   ]
  },
  {
   "cell_type": "markdown",
   "metadata": {},
   "source": [
    "Además, se pueden usar los campos de un registro para armar una forma más simple los strings:"
   ]
  },
  {
   "cell_type": "code",
   "execution_count": 22,
   "metadata": {
    "collapsed": false
   },
   "outputs": [
    {
     "name": "stdout",
     "output_type": "stream",
     "text": [
      "El alumno Juan Perez se sacó un 4\n"
     ]
    }
   ],
   "source": [
    "alumno = {\n",
    "    'nombre': 'Juan',\n",
    "    'apellido': 'Perez',\n",
    "    'nota': 4\n",
    "}\n",
    "\n",
    "print 'El alumno {nombre} {apellido} se sacó un {nota}'.format(**alumno)"
   ]
  },
  {
   "cell_type": "markdown",
   "metadata": {},
   "source": [
    "Y si le queremos modificar la nota a un alumno, sólo tenemos que acceder a ese campo y asignarle un nuevo valor:"
   ]
  },
  {
   "cell_type": "code",
   "execution_count": 23,
   "metadata": {
    "collapsed": false
   },
   "outputs": [
    {
     "name": "stdout",
     "output_type": "stream",
     "text": [
      "{'nombre': 'Juan', 'nota': 2, 'apellido': 'Perez'}\n",
      "{'nombre': 'Juan', 'nota': 5, 'apellido': 'Perez'}\n"
     ]
    }
   ],
   "source": [
    "alumno = {\n",
    "    'nombre': 'Juan',\n",
    "    'apellido': 'Perez',\n",
    "    'nota': 2\n",
    "}\n",
    "print alumno\n",
    "\n",
    "alumno['nota'] = 5\n",
    "print alumno\n"
   ]
  },
  {
   "cell_type": "markdown",
   "metadata": {},
   "source": [
    "O incluso se le puede cambiar el tipo de dato a un campo y agregar uno nuevo:"
   ]
  },
  {
   "cell_type": "code",
   "execution_count": 24,
   "metadata": {
    "collapsed": false
   },
   "outputs": [
    {
     "name": "stdout",
     "output_type": "stream",
     "text": [
      "Alumno: {'nombre': 'Juan', 'parcial': 2, 'apellido': 'Perez'}\n",
      "Agrego la nota del recuperatorio: {'nombre': 'Juan', 'parcial': [2, 6], 'apellido': 'Perez'}\n",
      "Agrego la nota del coloquio: {'nombre': 'Juan', 'coloquio': 8, 'parcial': [2, 6], 'apellido': 'Perez'}\n",
      "Elimino las notas del parcial: {'nombre': 'Juan', 'coloquio': 8, 'apellido': 'Perez'}\n"
     ]
    }
   ],
   "source": [
    "alumno = {\n",
    "    'nombre': 'Juan',\n",
    "    'apellido': 'Perez',\n",
    "    'parcial': 2\n",
    "}\n",
    "print 'Alumno:', alumno\n",
    "\n",
    "\n",
    "alumno['parcial'] = [2, 6]  # Cambio el tipo de dato de int a list\n",
    "print 'Agrego la nota del recuperatorio:', alumno\n",
    "\n",
    "alumno['coloquio'] = 8  # Agrego un nuevo campo\n",
    "print 'Agrego la nota del coloquio:', alumno\n",
    "\n",
    "del alumno['parcial']  # Elimino el campo nota\n",
    "print 'Elimino las notas del parcial:', alumno"
   ]
  },
  {
   "cell_type": "markdown",
   "metadata": {},
   "source": [
    "Algo que hay que tener en cuenta es que el orden en que se asignan los campos a un registro no es el orden interno de esos campos."
   ]
  },
  {
   "cell_type": "markdown",
   "metadata": {},
   "source": [
    "## Cajas vs Etiquetas\n",
    "\n",
    "A diferencia de otros lenguajes, Python no trabaja con el concepto de variables como una caja donde podemos guardar valores. En su lugar, usa las variables como etiquetas que hacen referencia a valores, que si bien son parecidos, no son exactamente lo mismo. <br>\n",
    "Cuando decimos que guardamos un valor en una caja, lo que en realidad hace la computadora es acceder a una posición de memoria y escribir en esa posición. <br>\n",
    "\n",
    "\n",
    "Ejemplo | Cajas | Etiquetas\n",
    "-------| ---------- |  ------------\n",
    "Si a la variable **a** le asignamos el número 1 | Guardamos el valor 1 en la caja **a** ![](a1box.png) | Hacemos que la referencia **a** apunte al valor 1 ![](a1tag.png)\n",
    "Y cuando a esa variable queremos asignarle el número dos | Pisamos el valor de **a** y guardamos el valor 2 ![](a2box.png) | Nuestra referencia deja de apuntar a donde lo hacía antes y ahora apunta a una nueva posición de memoria quedando el número 1 sin ser apuntado por nadie ![](1.png) ![](a2tag.png)\n",
    "Y al decir que la variable **a** es igual a la variable **b** lo que sucede es que se copia el contenido de **a** en **b** | En este caso se crea una nueva caja con el valor 2 ![](a2box.png) ![](b2box.png) | Al copiar el contenido, lo que se copia es la referencia ![](ab2tag.png)\n",
    "\n",
    "Esto en python se puede ver usando la función [id](https://docs.python.org/2/library/functions.html#id):\n"
   ]
  },
  {
   "cell_type": "code",
   "execution_count": 25,
   "metadata": {
    "collapsed": false
   },
   "outputs": [
    {
     "name": "stdout",
     "output_type": "stream",
     "text": [
      "La posición del número 1 es: 10531192\n",
      "La posición de X que apunta al número 1 es: 10531192\n",
      "¿Y si al número 1 lo incremento?\n",
      "La posición de X ahora apunta a: 10531168\n",
      "La lista tiene los elementos: [1, 1, 1, 1, 1]\n",
      "Las posiciones de esos elementos son: [10531192, 10531192, 10531192, 10531192, 10531192]\n"
     ]
    }
   ],
   "source": [
    "print 'La posición del número 1 es:', id(1)\n",
    "x = 1\n",
    "print 'La posición de X que apunta al número 1 es:', id(x)\n",
    "print '¿Y si al número 1 lo incremento?'\n",
    "x += 1\n",
    "print 'La posición de X ahora apunta a:', id(x)\n",
    "lista_de_unos = [1, 1, 1, 1, 1]\n",
    "print 'La lista tiene los elementos:', lista_de_unos\n",
    "posiciones_de_memoria = [id(1), id(1), id(1), id(1), id(1)]\n",
    "\n",
    "print 'Las posiciones de esos elementos son:', posiciones_de_memoria\n"
   ]
  },
  {
   "cell_type": "markdown",
   "metadata": {},
   "source": [
    "## Tipos de datos mutables e inmutables\n",
    "\n",
    "En python se pueden diferenciar entre los tipos de datos en mutables e inmutables. <br>\n",
    "Que una variable sea inmutable significa que cada vez que se la modifica, en realidad, lo que sucede es que se crea un nuevo valor y esa variable pasa a apuntarlo:"
   ]
  },
  {
   "cell_type": "code",
   "execution_count": 26,
   "metadata": {
    "collapsed": false
   },
   "outputs": [
    {
     "name": "stdout",
     "output_type": "stream",
     "text": [
      "El valor de X es: 1\n",
      "La posición de X que apunta al número 1 es: 10531192\n",
      "¿Y si al número 1 lo incremento?\n",
      "El valor de X es: 2\n",
      "La posición de X ahora apunta a: 10531168\n"
     ]
    }
   ],
   "source": [
    "x = 1\n",
    "print 'El valor de X es:', x\n",
    "print 'La posición de X que apunta al número 1 es:', id(x)\n",
    "print '¿Y si al número 1 lo incremento?'\n",
    "x += 1\n",
    "print 'El valor de X es:', x\n",
    "print 'La posición de X ahora apunta a:', id(x)"
   ]
  },
  {
   "cell_type": "markdown",
   "metadata": {},
   "source": [
    "En cambio, cuando lo que hacemos es modificar una variable mutable, como pueden ser las listas, lo que sucede es que esa variable sigue apuntando al mismo lugar, pero ahora lo que se modificó es el valor que contiene:"
   ]
  },
  {
   "cell_type": "code",
   "execution_count": 27,
   "metadata": {
    "collapsed": false
   },
   "outputs": [
    {
     "name": "stdout",
     "output_type": "stream",
     "text": [
      "El valor de X es: []\n",
      "La posición de X que apunta a la lista vacía es: 140290496224504\n",
      "¿Y si le agrego el número 1 a la lista?\n",
      "Ahora, la lista X tiene los elementos: [1]\n",
      "Y sin embargo, la posición a la que apunta X es: 140290496224504\n",
      "\n",
      "Sin embargo, si a X le asignamos una nueva lista: 140290482456840\n"
     ]
    }
   ],
   "source": [
    "x = []\n",
    "print 'El valor de X es:', x\n",
    "print 'La posición de X que apunta a la lista vacía es:', id(x)\n",
    "print '¿Y si le agrego el número 1 a la lista?'\n",
    "x.append(1)\n",
    "print 'Ahora, la lista X tiene los elementos:', x\n",
    "print 'Y sin embargo, la posición a la que apunta X es:', id(x)\n",
    "print \n",
    "x = [1, 2, 3]\n",
    "print 'Sin embargo, si a X le asignamos una nueva lista:', id(x)"
   ]
  },
  {
   "cell_type": "markdown",
   "metadata": {},
   "source": [
    "Los tipos de datos **inmutables** son:\n",
    "* int\n",
    "* str\n",
    "* long\n",
    "* float\n",
    "* bool\n",
    "* None\n",
    "* tuple\n",
    "\n",
    "Los tipos de datos **mutables** son:\n",
    "* list\n",
    "* dict\n",
    "* set\n",
    "\n",
    "Para más información sobre la modificación de variables mutables e inmutables pueden ver el siguiente [link](http://www.mclibre.org/consultar/python/lecciones/python_variables_2.html#L1822)"
   ]
  },
  {
   "cell_type": "markdown",
   "metadata": {},
   "source": [
    "# Estructuras de control repetitivas\n",
    "\n",
    "Así como en Pascal se delimitan los bloques de código con las palabras reservadas *begin* y *end*, en Python se usan la indentación (espacios) para determinar qué se encuentra dentro de una estructura de control y qué no."
   ]
  },
  {
   "cell_type": "markdown",
   "metadata": {},
   "source": [
    "## for\n",
    "\n",
    "Si queremos imprimir los números del 0 al 14 podemos crear una lista con range y usar el for para imprimir cada valor:"
   ]
  },
  {
   "cell_type": "code",
   "execution_count": 28,
   "metadata": {
    "collapsed": false
   },
   "outputs": [
    {
     "name": "stdout",
     "output_type": "stream",
     "text": [
      "[0, 1, 2, 3, 4, 5, 6, 7, 8, 9, 10, 11, 12, 13, 14]\n",
      "0\n",
      "1\n",
      "2\n",
      "3\n",
      "4\n",
      "5\n",
      "6\n",
      "7\n",
      "8\n",
      "9\n",
      "10\n",
      "11\n",
      "12\n",
      "13\n",
      "14\n"
     ]
    }
   ],
   "source": [
    "print range(15)\n",
    "for i in range(15):\n",
    "    print i"
   ]
  },
  {
   "cell_type": "markdown",
   "metadata": {},
   "source": [
    "Incluso, si queremos imprimir los valores de una lista que nosotros armamos, también podemos hacerlo:"
   ]
  },
  {
   "cell_type": "code",
   "execution_count": 29,
   "metadata": {
    "collapsed": false
   },
   "outputs": [
    {
     "name": "stdout",
     "output_type": "stream",
     "text": [
      "1\n",
      "6\n",
      "3\n",
      "9\n",
      "5\n",
      "2\n"
     ]
    }
   ],
   "source": [
    "for i in [1, 6, 3, 9, 5, 2]:\n",
    "    print i\n"
   ]
  },
  {
   "cell_type": "markdown",
   "metadata": {},
   "source": [
    "Y si queremos imprimir cada elemento de la lista junto con su posición podemos usar la función enumerate:"
   ]
  },
  {
   "cell_type": "code",
   "execution_count": 30,
   "metadata": {
    "collapsed": false
   },
   "outputs": [
    {
     "name": "stdout",
     "output_type": "stream",
     "text": [
      "[15, 18, 21, 24, 27]\n",
      "0: 15\n",
      "1: 18\n",
      "2: 21\n",
      "3: 24\n",
      "4: 27\n"
     ]
    }
   ],
   "source": [
    "lista = range(15, 30, 3)\n",
    "print lista\n",
    "for idx, value in enumerate(lista):\n",
    "    print '{0}: {1}'.format(idx, value)\n"
   ]
  },
  {
   "cell_type": "markdown",
   "metadata": {},
   "source": [
    "También se puede usar la función zip para ir tomando los primeros elementos de una lista, después los segundos, y así sucesivamente"
   ]
  },
  {
   "cell_type": "code",
   "execution_count": 31,
   "metadata": {
    "collapsed": false
   },
   "outputs": [
    {
     "name": "stdout",
     "output_type": "stream",
     "text": [
      "(1, 4)\n",
      "(2, 5)\n",
      "(3, 6)\n"
     ]
    }
   ],
   "source": [
    "for par in zip([1, 2, 3], [4, 5, 6]):\n",
    "    print par"
   ]
  },
  {
   "cell_type": "markdown",
   "metadata": {},
   "source": [
    "Y en realidad, se puede iterar sobre cualquier elemento *iterable*, como por ejemplo los strings:"
   ]
  },
  {
   "cell_type": "code",
   "execution_count": 32,
   "metadata": {
    "collapsed": false
   },
   "outputs": [
    {
     "name": "stdout",
     "output_type": "stream",
     "text": [
      "H\n",
      "o\n",
      "l\n",
      "a\n",
      " \n",
      "m\n",
      "u\n",
      "n\n",
      "d\n",
      "o\n"
     ]
    }
   ],
   "source": [
    "for caracter in \"Hola mundo\":\n",
    "    print caracter\n"
   ]
  },
  {
   "cell_type": "markdown",
   "metadata": {},
   "source": [
    "También se pueden iterar listas que tengan distintos tipos de elementos, pero hay que tener en cuenta qué se quiere hacer con ellos:"
   ]
  },
  {
   "cell_type": "code",
   "execution_count": 33,
   "metadata": {
    "collapsed": false
   },
   "outputs": [
    {
     "name": "stdout",
     "output_type": "stream",
     "text": [
      "La lista tiene los elementos: [1, 2, '12', '34', [5, 6]]\n",
      "1*2: 2:\n",
      "2*2: 4:\n",
      "12*2: 1212:\n",
      "34*2: 3434:\n",
      "[5, 6]*2: [5, 6, 5, 6]:\n"
     ]
    }
   ],
   "source": [
    "lista = [1, 2, \"12\", \"34\", [5, 6]]\n",
    "print 'La lista tiene los elementos:', lista\n",
    "for elemento in lista:\n",
    "    print '{0}*2: {1}:'.format(elemento, elemento*2)\n"
   ]
  },
  {
   "cell_type": "markdown",
   "metadata": {},
   "source": [
    "## while\n",
    "\n",
    "El ciclo while también ejecuta un bloque de código mientras la condición sea verdadera:"
   ]
  },
  {
   "cell_type": "code",
   "execution_count": 34,
   "metadata": {
    "collapsed": false
   },
   "outputs": [
    {
     "name": "stdout",
     "output_type": "stream",
     "text": [
      "5\n",
      "6\n",
      "7\n",
      "8\n",
      "9\n"
     ]
    }
   ],
   "source": [
    "numero = 5\n",
    "while numero < 10:\n",
    "    print numero\n",
    "    numero += 1"
   ]
  },
  {
   "cell_type": "markdown",
   "metadata": {},
   "source": [
    "Las listas tienen una función llamada pop que lo que hace es tomar el último elemento de ella y lo elimina:"
   ]
  },
  {
   "cell_type": "code",
   "execution_count": 35,
   "metadata": {
    "collapsed": false
   },
   "outputs": [
    {
     "name": "stdout",
     "output_type": "stream",
     "text": [
      "La lista antes de entrar al while tiene: [0, 1, 2, 3, 4]\n",
      "4\n",
      "3\n",
      "2\n",
      "1\n",
      "0\n",
      "La lista después de salir del while tiene: []\n"
     ]
    }
   ],
   "source": [
    "lista = range(5)\n",
    "print 'La lista antes de entrar al while tiene:', lista\n",
    "while lista:  # Si la lista no esta vacía, sigo sacando elementos\n",
    "    print lista.pop()\n",
    "\n",
    "print 'La lista después de salir del while tiene:', lista"
   ]
  },
  {
   "cell_type": "markdown",
   "metadata": {},
   "source": [
    "Aunque también podría obtener el primero:"
   ]
  },
  {
   "cell_type": "code",
   "execution_count": 36,
   "metadata": {
    "collapsed": false
   },
   "outputs": [
    {
     "name": "stdout",
     "output_type": "stream",
     "text": [
      "La lista antes de entrar al while tiene: [0, 1, 2, 3, 4]\n",
      "0\n",
      "1\n",
      "2\n",
      "3\n",
      "4\n",
      "La lista después de salir del while tiene: []\n"
     ]
    }
   ],
   "source": [
    "lista = range(5)\n",
    "print 'La lista antes de entrar al while tiene:', lista\n",
    "while lista:  # Si la lista no esta vacía, sigo sacando elementos\n",
    "    print lista.pop(0)\n",
    "\n",
    "print 'La lista después de salir del while tiene:', lista"
   ]
  },
  {
   "cell_type": "markdown",
   "metadata": {
    "collapsed": true
   },
   "source": [
    "# Ejercicios\n",
    "1. Dado un número N, calcular su factorial\n",
    "2. Procesar una lista de números enteros, e imprimir para cada uno de ellos:\n",
    "  * el número que se esta procesando\n",
    "  * la suma parcial de los mismos\n",
    "3. La relación entre temperaturas Celsius y Fahrenheit está dada por: $$C = 5/9 * (F-32)$$ Escribir un algoritmo que haga una tabla de valores Celsius-Fahrenheit, para valores entre O F y 200 F , con intervalos de 10 grados.\n",
    "4. Procesar una lista de números enteros, e imprimir para cada uno de ellos:\n",
    "  * el número que se esta procesando\n",
    "  * la suma parcial de los mismos\n",
    "  * True si el número era mayor al anterior y False en caso contrario\n",
    "\n",
    "  Cortar cuando se los haya procesado a todos, o al alcanzar una suma parcial mayor o igual a 100\n",
    "5. Procesar una lista de números y generar un diccionario con dos claves llamadas \"par\" e \"impar\". Al terminar de procesar la lista el diccionario debe tener todos los números que proceso agrupados en pares e impares.\n",
    "\n",
    "  Por ejemplo, si contamos con la lista [1, 5, 2, 6, 9, 3, 8], el diccionario que se obtenga debería ser: {\"par\": [2, 6, 8], \"impar\": [1, 5, 9, 3]}\n",
    "6. Escribir un programa que dadas dos listas de igual longitud imprima la suma de ellas posición a posición.\n",
    "7. Suponiendo que cuenta con una lista en la que en cada posición tiene la información de un alumno en un registro:\n",
    "  ```Python\n",
    "[{'nombre': 'XX', 'padrón': 1, 'nota': 4, 'grupo': 1}, ...]\n",
    "  ```\n",
    "  1. Se desea imprimir el nombre y padrón de todos los alumnos aprobados.\n",
    "  2. Asumiendo que la lista se encuentra ordenada por número de grupo, se pide indicar aquellos grupos para los cuales todos sus integrantes hayan aprobado el parcial recorriendo sólo una vez la lista. \n",
    "8. Se cuenta con dos listas de números ordenadas de forma creciente y se desea obtener una nueva lista ordenada que contenga todos los números, pero sin ordenarla nuevamente.\n",
    "10. Procesar una lista de strings e ir guardando en un diccionario la cantidad de ocurrencias de cada palabra (distinguir mayúsculas y minúsculas).\n",
    "  Por ejemplo, para la lista \n",
    "  ```Python\n",
    "['Otra', 'posible', 'clasificacion', 'radica', 'en', 'si', 'una', 'variable', 'puede', 'cambiar', 'el', 'tipo', 'de', 'dato', 'que', 'se', 'puede', 'almacenar', 'en', 'ella', 'entre', 'una', 'sentencia', 'y', 'la', 'siguiente', '(', 'tipado', 'dinamico', ')', 'O', 'si', 'en', 'la', 'etapa', 'de', 'definicion', 'se', 'le', 'asigna', 'un', 'tipo', 'de', 'dato', 'a', 'una', 'variable', 'y', 'por', 'mas', 'que', 'se', 'puede', 'cambiar', 'el', 'contenido', 'de', 'la', 'misma', 'no', 'cambie', 'el', 'tipo', 'de', 'dato', 'de', 'lo', 'que', 'se', 'almacena', 'en', 'ella', '(', 'tipado', 'estatico', ')']\n",
    "```\n",
    "  El resultado sería:\n",
    "```Python\n",
    "  {'el': 3, 'en': 4, 'etapa': 1, 'por': 1, 'Otra': 1, 'contenido': 1, 'almacenar': 1, 'sentencia': 1, 'le': 1, 'tipo': 3, 'la': 3, ')': 2, '(': 2, 'almacena': 1, 'estatico': 1, 'dinamico': 1, 'mas': 1, 'cambiar': 2, 'tipado': 2, 'ella': 2, 'de': 6, 'definicion': 1, 'puede': 3, 'dato': 3, 'que': 3, 'O': 1, 'variable': 2, 'asigna': 1, 'entre': 1, 'a': 1, 'siguiente': 1, 'posible': 1, 'clasificacion': 1, 'no': 1, 'radica': 1, 'una': 3, 'si': 2, 'un': 1, 'misma': 1, 'lo': 1, 'y': 2, 'cambie': 1, 'se': 4}\n",
    "```\n"
   ]
  }
 ],
 "metadata": {
  "kernelspec": {
   "display_name": "Python 2",
   "language": "python",
   "name": "python2"
  },
  "language_info": {
   "codemirror_mode": {
    "name": "ipython",
    "version": 2
   },
   "file_extension": ".py",
   "mimetype": "text/x-python",
   "name": "python",
   "nbconvert_exporter": "python",
   "pygments_lexer": "ipython2",
   "version": "2.7.12"
  }
 },
 "nbformat": 4,
 "nbformat_minor": 0
}
