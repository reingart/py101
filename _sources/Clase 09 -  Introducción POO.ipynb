{
 "cells": [
  {
   "cell_type": "markdown",
   "metadata": {},
   "source": [
    "<!--\n",
    "17/11\n",
    "Introducción a la de programación orientada a objetos. Uso de objetos dados.\n",
    "-->"
   ]
  },
  {
   "cell_type": "markdown",
   "metadata": {
    "collapsed": true
   },
   "source": [
    "# Programación Orientada a Objetos (POO)\n",
    "\n",
    "## ¿Qué es un objeto?\n",
    "Comencemos por definir ¿qué es un objeto?. Según la RAE, un <a href=\"http://dle.rae.es/srv/fetch?id=QmweHtN\">objeto</a> es una *cosa*. Y si vamos a la definición de <a href=\"http://dle.rae.es/srv/fetch?id=B3yTydM\">cosa</a> de la RAE, veremos que dice \n",
    "> *Lo que tiene entidad, ya sea corporal o espiritual, natural o artificial, concreta, abstracta o virtual*. <br>\n",
    "\n",
    "O sea, a todo lo que nos rodea que tiene entidad, se lo puede considerar un objeto. Y cada uno de esos objetos tienen distintas características, como pueden ser el color, tamaño, peso, etc. <br>\n",
    "Y a su vez, la forma que tendremos para interactuar con esos objetos, o lo que nos permite hacer cada uno de ellos, será distinto. <br>\n",
    "\n",
    "## POO\n",
    "La programacion orientada a objetos es un <a href=\"https://es.wikipedia.org/wiki/Paradigma_de_programaci%C3%B3n\">paradigma de programación</a> que se basa en el concepto de objetos para representar la realidad. Es imporante destacar que es ***una*** forma de representar la realidad para poder trabajar con esas abstracciones y hacer un algoritmo que tenga un objetivo en particular.<br>\n",
    "La POO junta en una misma estructura las variables que sirven para describir las carácterísticas (variables) de aquello que se esta modelando, junto con aquellas que determinan el estado en que se encuentra (también variables) y las funciones que le dan un comportamiento a dicha estructura. <br>\n",
    "Por ejemplo, si queremos modelar un curso de una materia, podemos crear distintos objetos, como pueden ser los alumnos, los profesores y el curso que los contiene a todos ellos. Los alumnos tendrán ciertas variables que los distingan entre sí, como pueden ser el *padrón*, *nombre* y *apellido*. Y otras que definan el estado en que se encuentra; como las notas de *parciales*, *trabajos prácticos* y *coloquios*, que determinan si el alumno: *Recurso*, *Esta en condiciones de rendir coloquio* o *Aprobó*. Y las funciones que definen su comportamiento pueden ser *rendir exámen* o *entregar trabajo práctico*<br>\n",
    "A todas esas variables que componen el objeto se las llaman **atributos** y las funciones que determinan su comportamiento se las llama **métodos**. <br>\n",
    "\n",
    "## Clases y objetos\n",
    "\n",
    "Así como en la programación estructurada tenemos el concepto de tipo de dato y valores, en objetos tenemos los conceptos de **clases**, que es algo abstracto que define las características y comportamientos de un objeto (como eran los tipos de datos), y **objetos**, que son una instancia de esa clase. <br>\n",
    "Por ejemplo, todos sabemos a qué nos referimos cuando hablamos de una <a href=\"http://dle.rae.es/srv/fetch?id=P1le2lc\">mesa</a>, y si vamos a la definición de la RAE encontraremos:\n",
    "\n",
    "> *Mueble compuesto de un tablero horizontal liso y sostenido a la altura conveniente, generalmente por una o varias patas, para diferentes usos, como escribir, comer, etc.*\n",
    "\n",
    "Eso, vendría a ser una clase, es sólo la idea abstracta. <br>\n",
    "Pero después, la mesa que puede tener cada uno en su casa es distinta, y esas serían las distintas instancias de la clase Mesa. \n",
    "![](mesas.png)\n",
    "\n",
    "A su vez, cada mesa es un objeto distinto, por más que sean todas de la misma clase. Y cada uno de esos objetos, puede estar compuesto por otros objetos, como pueden ser una tabla y una o varias patas.\n",
    "\n",
    "## POO en python\n",
    "\n",
    "En realidad, en Python todo es un objeto. Los strings, por ejemplo, son objetos de la clase [str](https://docs.python.org/2/library/functions.html#str). Y tienen [los métodos](https://docs.python.org/2/library/stdtypes.html#string-methods) upper, capitalize, center, expandtabs, etc. <br>\n",
    "Para crear un objeto de una en particular lo que tenemos que hacer es invocar a la clase poniendo su nombre seguido de paréntesis. <br>\n",
    "Por ejemplo:\n",
    "```Python\n",
    "mi_string = str()\n",
    "mi_lista = list()\n",
    "```\n",
    "\n",
    "Y para invocar uno de sus métodos sólo es necesario usar una variable la clase en cuestión, poner un punto, y el nombre de un método seguido por paréntesis:\n",
    "\n",
    "```Python\n",
    "en_mayusculas = mi_string.upper()\n",
    "```\n",
    "\n",
    "## Creando nuestras propias clases\n",
    "\n",
    "Pero más allá de las clases estándares que nos provee Python, también podemos crear nuestras propias clases. Y para eso usamos la palabra reservada *class*. <br>\n",
    "\n",
    "```Python\n",
    "class Mesa(object):\n",
    "    pass\n",
    "```\n",
    "\n",
    "Ahora, esa mesa puede tener distintas características, como pueden ser la cantidad de patas, el color o el material del que están hechas:\n",
    "\n",
    "```Python\n",
    "class Mesa(object):\n",
    "    cantidad_de_patas = None\n",
    "    color = None\n",
    "    material = None\n",
    "```\n",
    "\n",
    "Entonces, cuando quiera usar esa idea abstracta voy a tener que definir esas características: \n"
   ]
  },
  {
   "cell_type": "code",
   "execution_count": 7,
   "metadata": {
    "collapsed": false
   },
   "outputs": [
    {
     "name": "stdout",
     "output_type": "stream",
     "text": [
      "Tendo una mesa de 4 patas de color Marrón y esta hecha de Madera\n"
     ]
    }
   ],
   "source": [
    "class Mesa(object):\n",
    "    cantidad_de_patas = None\n",
    "    color = None\n",
    "    material = None\n",
    "    \n",
    "mi_mesa = Mesa()\n",
    "mi_mesa.cantidad_de_patas = 4\n",
    "mi_mesa.color = 'Marrón'\n",
    "mi_mesa.material = 'Madera'\n",
    "\n",
    "print 'Tendo una mesa de {0.cantidad_de_patas} patas de color {0.color} y esta hecha de {0.material}'.format(mi_mesa)"
   ]
  },
  {
   "cell_type": "markdown",
   "metadata": {},
   "source": [
    "Ahora, si siempre voy a tener que definir esas características de la mesa para poder usarla, lo más cómodo es definir el método `__init__` que sirve para inicializar el objeto:\n"
   ]
  },
  {
   "cell_type": "code",
   "execution_count": 8,
   "metadata": {
    "collapsed": false
   },
   "outputs": [
    {
     "name": "stdout",
     "output_type": "stream",
     "text": [
      "Tendo una mesa de 4 patas de color Marrón y esta hecha de Madera\n"
     ]
    }
   ],
   "source": [
    "class Mesa(object):\n",
    "    cantidad_de_patas = None\n",
    "    color = None\n",
    "    material = None\n",
    "    \n",
    "    def __init__(self, patas, color, material):\n",
    "        self.cantidad_de_patas = patas\n",
    "        self.color = color\n",
    "        self.material = material\n",
    "    \n",
    "mi_mesa = Mesa(4, 'Marrón', 'Madera')\n",
    "\n",
    "print 'Tendo una mesa de {0.cantidad_de_patas} patas de color {0.color} y esta hecha de {0.material}'.format(mi_mesa)"
   ]
  },
  {
   "cell_type": "markdown",
   "metadata": {},
   "source": [
    "Como vemos, el método `__init__` (aunque en realidad pasará lo mismo con casi todos los métodos de la clase), recibe como primer parámetro uno que se llama **self**. En realidad el nombre no tiene por qué ser ese, pero se suele usar por convención. <br>\n",
    "La traducción de *self* es *uno mismo*, y con eso quieren decir que en el primer parámetro que Python siempre será el mismo objeto (la instancia) del cual están ejecutando el método. Si bien self aparece entre los parámetros formales, no se ve entre los parámetros actuales, y eso es porque lo inserta el interprete automáticamente. No tiene que hacerlo uno mismo. <br>\n",
    "Así como este objeto esta compuesto por tres objetos estándar de Python (un *int* y dos *str*), también podría estar compuesto por objetos creados por nosotros:"
   ]
  },
  {
   "cell_type": "code",
   "execution_count": 10,
   "metadata": {
    "collapsed": true
   },
   "outputs": [],
   "source": [
    "class TablaRectangular(object):\n",
    "    base = None\n",
    "    altura = None\n",
    "    \n",
    "    def __init__(self, base, altura):\n",
    "        self.base = base\n",
    "        self.altura = altura\n",
    "\n",
    "\n",
    "class TablaRedonda(object):\n",
    "    radio = None\n",
    "    \n",
    "    def __init__(self, radio):\n",
    "        self.radio = radio\n",
    "\n",
    "class Pata(object):\n",
    "    altura = None\n",
    "    \n",
    "    def __init__(self, altura):\n",
    "        self.altura = altura\n",
    "        \n",
    "class Mesa(object):\n",
    "    tabla = None\n",
    "    patas = None\n",
    "    \n",
    "    def __init__(self, tabla, patas):\n",
    "        self.tabla = tabla\n",
    "        self.patas = patas\n",
    "\n",
    "tabla = TablaRectangular(100, 150)\n",
    "pata_1 = Pata(90)\n",
    "pata_2 = Pata(90)\n",
    "pata_3 = Pata(90)\n",
    "pata_4 = Pata(90)\n",
    "mi_mesa = Mesa(tabla, [pata_1, pata_2, pata_3, pata_4])"
   ]
  },
  {
   "cell_type": "markdown",
   "metadata": {},
   "source": [
    "Y como dijimos antes, una objeto no sólo agrupa sus características, sino también los métodos que nos permiten trabajar con él, como por ejemplo, podría ser calcular su superficie de apoyo:"
   ]
  },
  {
   "cell_type": "code",
   "execution_count": 13,
   "metadata": {
    "collapsed": false
   },
   "outputs": [
    {
     "name": "stdout",
     "output_type": "stream",
     "text": [
      "La superficie de la mesa es 15000 cm2\n"
     ]
    }
   ],
   "source": [
    "import math\n",
    "\n",
    "class TablaRectangular(object):\n",
    "    base = None\n",
    "    altura = None\n",
    "    \n",
    "    def __init__(self, base, altura):\n",
    "        self.base = base\n",
    "        self.altura = altura\n",
    "        \n",
    "    def calcular_superficie(self):\n",
    "        return self.base * self.altura\n",
    "\n",
    "\n",
    "class TablaRedonda(object):\n",
    "    radio = None\n",
    "    \n",
    "    def __init__(self, radio):\n",
    "        self.radio = radio\n",
    "        \n",
    "    def calcular_superficie(self):\n",
    "        return math.pi * self.radio**2\n",
    "\n",
    "class Pata(object):\n",
    "    altura = None\n",
    "    \n",
    "    def __init__(self, altura):\n",
    "        self.altura = altura\n",
    "        \n",
    "class Mesa(object):\n",
    "    tabla = None\n",
    "    patas = None\n",
    "    \n",
    "    def __init__(self, tabla, patas):\n",
    "        self.tabla = tabla\n",
    "        self.patas = patas\n",
    "\n",
    "    def obtener_superficie_de_apoyo(self):\n",
    "        return self.tabla.calcular_superficie()\n",
    "        \n",
    "tabla = TablaRectangular(100, 150)\n",
    "pata_1 = Pata(90)\n",
    "pata_2 = Pata(90)\n",
    "pata_3 = Pata(90)\n",
    "pata_4 = Pata(90)\n",
    "mi_mesa = Mesa(tabla, [pata_1, pata_2, pata_3, pata_4])\n",
    "\n",
    "sup = mi_mesa.obtener_superficie_de_apoyo()\n",
    "print 'La superficie de la mesa es {} cm2'.format(sup)"
   ]
  },
  {
   "cell_type": "markdown",
   "metadata": {},
   "source": [
    "En este caso, no sólo es importante ver cómo se hace para invocar un método de un objeto (que es poniendo el nombre del objeto, un punto y el nombre del método seguido por todos sus parámetros entre paréntesis) sino también cómo se puede conjugar el uso de los objetos. <br>\n",
    "En la función `obtener_superficie_de_apoyo` de la clase `Mesa` podemos ver que la única responsabilidad que tiene ese objeto es redirigir la consulta que se le hizo al objeto `tabla`. Es decir, podía preguntárselo a cualquiera de sus patas o a la tabla, pero sabía a quién tenía que preguntarselo. Y no importa si es una tabla redonda o rectangular, las dos clases saben cómo responder la pregunta de `calcular_superficie`. \n",
    "```Python\n",
    "    def obtener_superficie_de_apoyo(self):\n",
    "        return self.tabla.calcular_superficie()\n",
    "```"
   ]
  },
  {
   "cell_type": "markdown",
   "metadata": {},
   "source": [
    "## Otro ejemplo\n",
    "\n",
    "Volviendo un poco al ejemplo planteado antes de querer modelar una materia, podríamos implementar los alumnos de la siguiente manera:\n",
    "\n",
    "```Python\n",
    "\n",
    "class Alumno(object):\n",
    "\n",
    "    def __init__(self, padron, nombre, apellido):\n",
    "        self.padron = padron\n",
    "        self.nombre = nombre\n",
    "        self.apellido = apellido\n",
    "        self.parciales = []\n",
    "        self.tps = []\n",
    "        self.coloquios = []\n",
    "    \n",
    "    def rendir_parcial(self, nota):\n",
    "        self.parciales.append(nota)\n",
    "    \n",
    "    def entregar_trabajo_practico(self, nota):\n",
    "        self.tps.append(nota)\n",
    "    \n",
    "    def rendir_coloquio(self, nota):\n",
    "        self.coloquios.append(nota)\n",
    "        \n",
    "    def aprobo_algun_parcial(self):\n",
    "        aprobo_alguno = False\n",
    "        for nota in self.parciales:\n",
    "            if nota >= 4:\n",
    "                aprobo_alguno = True\n",
    "        \n",
    "        return aprobo_alguno\n",
    "    \n",
    "    def aprobo_todos_los_tp(self):\n",
    "        aprobo_todos = True\n",
    "        for nota in self.parciales:\n",
    "            if nota < 4:\n",
    "                aprobo_todos = False\n",
    "        \n",
    "        return aprobo_todos\n",
    "    \n",
    "    def puede_rendir_coloquio(self):\n",
    "        return self.aprobo_algun_parcial() and self.aprobo_todos_los_tp()\n",
    "```\n",
    "\n",
    "Después, para usa estas variables sólo es necesario definir una variable de la clase `Alumno` pasandole los parametros necesarios para poder inicializarlo:\n",
    "\n",
    "```Python\n",
    "alum = Alumno(12345, 'Juan', 'Perez')\n",
    "alum.rendir_parcial(2)\n",
    "alum.entregar_trabajo_practico(7)\n",
    "alum.rendir_parcial(7)\n",
    "alum.entregar_trabajo_practico(9)\n",
    "\n",
    "if alum.puede_rendir_coloquio():\n",
    "    print 'El alumno puede rendir coloquio'\n",
    "else:\n",
    "    print 'El alumno no puede rendor coloquio'\n",
    "```"
   ]
  },
  {
   "cell_type": "code",
   "execution_count": 14,
   "metadata": {
    "collapsed": false
   },
   "outputs": [
    {
     "name": "stdout",
     "output_type": "stream",
     "text": [
      "El alumno no puede rendor coloquio\n",
      "¿Y si después rinde el parcial y se saca un 7?\n",
      "El alumno puede rendir coloquio\n"
     ]
    }
   ],
   "source": [
    "class Alumno(object):\n",
    "\n",
    "    def __init__(self, padron, nombre, apellido):\n",
    "        self.padron = padron\n",
    "        self.nombre = nombre\n",
    "        self.apellido = apellido\n",
    "        self.parciales = []\n",
    "        self.tps = []\n",
    "        self.coloquios = []\n",
    "    \n",
    "    def rendir_parcial(self, nota):\n",
    "        self.parciales.append(nota)\n",
    "    \n",
    "    def entregar_trabajo_practico(self, nota):\n",
    "        self.tps.append(nota)\n",
    "    \n",
    "    def rendir_coloquio(self, nota):\n",
    "        self.coloquios.append(nota)\n",
    "        \n",
    "    def aprobo_algun_parcial(self):\n",
    "        aprobo_alguno = False\n",
    "        for nota in self.parciales:\n",
    "            if nota >= 4:\n",
    "                aprobo_alguno = True\n",
    "\n",
    "        return aprobo_alguno\n",
    "    \n",
    "    def aprobo_todos_los_tp(self):\n",
    "        aprobo_todos = True\n",
    "        for nota in self.tps:\n",
    "            if nota < 4:\n",
    "                aprobo_todos = False\n",
    "        \n",
    "        return aprobo_todos\n",
    "    \n",
    "    def puede_rendir_coloquio(self):\n",
    "        return self.aprobo_algun_parcial() and self.aprobo_todos_los_tp()\n",
    "    \n",
    "\n",
    "alum = Alumno(12345, 'Juan', 'Perez')\n",
    "alum.rendir_parcial(2)\n",
    "alum.entregar_trabajo_practico(7)\n",
    "alum.entregar_trabajo_practico(9)\n",
    "\n",
    "if alum.puede_rendir_coloquio():\n",
    "    print 'El alumno puede rendir coloquio'\n",
    "else:\n",
    "    print 'El alumno no puede rendor coloquio'\n",
    "\n",
    "print '¿Y si después rinde el parcial y se saca un 7?'\n",
    "alum.rendir_parcial(7)\n",
    "\n",
    "if alum.puede_rendir_coloquio():\n",
    "    print 'El alumno puede rendir coloquio'\n",
    "else:\n",
    "    print 'El alumno no puede rendor coloquio'"
   ]
  },
  {
   "cell_type": "markdown",
   "metadata": {
    "collapsed": true
   },
   "source": [
    "## TODO\n",
    "\n",
    "1. <a href=\"https://docs.python.org/2/library/functions.html#classmethod\">classmethod</a> \n",
    "1. <a href=\"https://docs.python.org/2/library/functions.html#staticmethod\">staticmethod</a>"
   ]
  }
 ],
 "metadata": {
  "kernelspec": {
   "display_name": "Python 2",
   "language": "python",
   "name": "python2"
  },
  "language_info": {
   "codemirror_mode": {
    "name": "ipython",
    "version": 2
   },
   "file_extension": ".py",
   "mimetype": "text/x-python",
   "name": "python",
   "nbconvert_exporter": "python",
   "pygments_lexer": "ipython2",
   "version": "2.7.12"
  }
 },
 "nbformat": 4,
 "nbformat_minor": 0
}
