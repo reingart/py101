{
 "cells": [
  {
   "cell_type": "markdown",
   "metadata": {},
   "source": [
    "<!--\n",
    "15/10\n",
    "Características del Python. Lenguajes compilados vs interpretados. Tipado estático vs dinámico. Fuertemente tipado vs débilmente tipado.\n",
    "Variables. Operaciones Elementales. Tipos de Datos atómicos. Estructuras de Control Selectivas\n",
    "-->"
   ]
  },
  {
   "cell_type": "markdown",
   "metadata": {},
   "source": [
    "# Python\n",
    "\n",
    "Python es un lenguaje de alto nivel creado por <a href=\"https://es.wikipedia.org/wiki/Guido_van_Rossum\">Guido van Rossum</a> a finales del año 1989 y que tuvo si primer versión pública (0.9.0) en Febrero de 1991. <br>\n",
    "Mientras Guido participaba del desarrollo de un sistema operativo llamado <a href=\"https://es.wikipedia.org/wiki/Amoeba_(sistema_operativo)\">Amoeba OS</a>, se enfrentaba a ciertos problemas que eran muy complejos para ser desarrollado en <a href=\"https://es.wikipedia.org/wiki/Bash\">Bash</a>, pero desarrollarlos en <a href=\"https://es.wikipedia.org/wiki/C_(lenguaje_de_programaci%C3%B3n)\">C</a> le parecía un exceso, por lo tanto, creó Python como lenguaje intermedio entre Bash y C.<br>\n",
    "\n",
    "<!-- http://pythoniza.me/books/ -->\n",
    "\n",
    "## Compilado vs Interpretado\n",
    "\n",
    "Existen infinitas clasificaciones para los lenguajes de programación, entre ellas una que los distingue en función de cuándo requieren de una aplicación para que la computadora entienda el código escrito por el desarrollador:\n",
    "* ** *Compilador:* ** programa que lee todo el código una única vez y lo traduce al lenguaje binario que es el que entiende la computadora. Sería el equivalente a traducir un libro. Cada frase se traduce una única vez y después tal vez nunca se la lee, o tal vez se la lee mil veces, pero la frase ya esta traducida.\n",
    "* ***Intérprete:*** programa que lee el código a medida que lo necesita y va traduciendo al binario, la computadora ejecuta la instrucción que el intérprete le pide, y descarta esa traducción; por lo que cuando vuelva a pasar por esa misma porción de código, deberá volver a traducirla. Es el equivalente a un intérprete en una conferencia, si el orador repite la misma frase más de una vez, éste tiene que volver a traducirla.\n",
    "\n",
    "| **Compilado** | **Interpretado** \n",
    "-------| ---------- |  ------------\n",
    "Velocidad de desarrollo|Lento, hay que compilar cada vez y es una tarea que puede tardar varios minutos| Rápido, se modifica el código y se vuelve a probar. A veces, ni siquiera requiere reiniciar el programa\n",
    "Velocidad de ejecución| Rápido, se compila una única vez todo el programa y el ejecutable generado ya lo entiende la máquina| Lento, es necesario leer, interpretar y traducir el código mientras el programa está corriendo\n",
    "Dependencia de la plataforma|Si, siempre que se genera un ejecutable es para una arquitectura en particular. Por ejemplo, para Windows de 32 bits, linux de 64 bits, etc.|No, con instalar el intérprete en la computadora que se quiere correr el programa es suficiente\n",
    "Dependencia del lenguaje|No, una vez que se compilo no es necesario instalar el compilador para ejecutar el programa|Si, siempre que se quiera correr el programa es necesario instalar el intérprete\n",
    "\n",
    "\n",
    "Si bien Python es un lenguaje interpretado, en realidad se podría compilar el código y algo de eso hace sólo el intérprete cuando genera los archivos *.pyc.\n",
    "\n",
    "## Tipado estático vs tipado dinámico\n",
    "\n",
    "Otra posible clasificación radica en si una variable puede cambiar el tipo de dato que se puede almacenar en ella entre una sentencia y la siguiente (tipado dinámico). O si en la etapa de definición se le asigna un tipo de dato a una variable y, por más que se puede cambiar el contenido de la misma, no cambie el tipo de dato de lo que se almacena en ella (tipado estático).\n",
    "\n",
    "## Fuertemente tipado vs débilmente tipado\n",
    "\n",
    "Y por último, también podríamos clasificar los lenguajes en función de la posibilidad que nos brindan para mezclar distintos tipos de datos. <br>\n",
    "Se dice que un lenguaje es *fuertemente tipado* cuando **no** se pueden mezclar dos variables de distinto tipo lanzando un error o una excepción. <br>\n",
    "Por el contrario, cuando se pueden mezclar dos variables de distinto tipo, realizar una operación entre ellas y obtener un resultado se dice que es un lenguaje *débilmente tipado*. <br>\n",
    "Por ejemplo, en javascript (lenguaje débilmente tipado), si queremos sumar el string '1' con el número 2 dá como resultado el string '12', cuando en Python lanza una excepción al momento de ejecutar el código y, en Pascal, lanza un error al momento de querer compilar el código.\n",
    "\n",
    "## Declaración y definición de variables\n",
    "\n",
    "En lenguajes como Pascal, la declaración y la definición de variables se encuentran en dos momentos distintos.\n",
    "La **declaración** se dá dentro del bloque  *var* y es donde el desarrollador le indica al compilador que va a necesitar una porción de memoria para almacenar algo de un tipo de dato en particular y va a referirse a esa porción de memoria con un cierto nombre. <br>\n",
    "Por ejemplo:\n",
    "\n",
    "```Pascal\n",
    "var\n",
    "   n : integer;\n",
    "```\n",
    "\n",
    "Se declara que existirá una variable llamada *n* y en ella se podrán guardar números enteros entre -32.768 y 32.767.\n",
    "La **definición** de esa variable se dá en el momento en el que se le asigna un valor a esa variable. <br>\n",
    "Por ejemplo:\n",
    "\n",
    "```Pascal\n",
    "n := 5;\n",
    "```\n",
    "\n",
    "En Python, la declaración y definición de una variable se hacen el mismo momento:\n",
    "\n",
    "```Python\n",
    "n = 5\n",
    "n = 'Hola mundo'\n",
    "```\n",
    "\n",
    "En la primer línea se declara que se usará una variable llamada *n*, que almacenará un número entero y se la define asignándole el número 5. <br>\n",
    "En la segunda línea, a esa variable de tipo entero se la \"pisa\" cambiándole el tipo a string y se le asigna la cadena de caracteres `'Hola mundo'`.\n",
    "\n",
    "## Objetivos y características\n",
    "\n",
    "En 1989 Guido van Rossum era parte del equipo que desarrollaba Amoeba OS y se dió cuenta que muchos programadores al momento de tener que elegir un lenguaje para solucionar ciertos problemas se encontraban con que tenían dos alternativas, pero ninguna cerraba a la perfección:\n",
    "* *Bash:* lenguaje de scripting (es el que usa la consola de linux como intérprete) y en este contexto se quedaba corto y complicaba la solución\n",
    "* *C:* lenguaje estructurado con características de bajo, mediano y alto nivel; pero que en estas circunstancias era demasiado. Era como matar un mosquito con cañón.\n",
    "\n",
    "Ante esta situación, e influido por el lenguaje ABC del cual había participado, es que decidió crear Python como un lenguaje intermedio entre bash y C que tiene las siguientes características:\n",
    "* Extensible (se le pueden agregar módulos en C y Python)\n",
    "* Multiplataforma (Amoeba OS, Unix, Windows y Mac)\n",
    "* Sintaxis simple, clara y sencilla\n",
    "* Fuertemente tipado\n",
    "* Tipado dinámico\n",
    "* Gran librería estándar\n",
    "* Introspección\n",
    "\n",
    "### Filosofia de Python\n",
    "\n",
    "Dentro de lo que es el *Zen de Python* están escritas varias reglas que debería seguir todo código escrito en Python. <br>\n",
    "Algunas de ellas son:\n",
    "* Bello es mejor que feo\n",
    "* **Explícito es mejor que implícito**\n",
    "* Simple es mejor que complejo\n",
    "* Complejo es mejor que complicado\n",
    "* **La legibilidad cuenta**\n",
    "* Los casos especiales no son tan especiales como para quebrantar las reglas\n",
    "* Aunque lo práctico le gana a la pureza\n",
    "* **Si la implementación es difícil de explicar, es una mala idea**"
   ]
  },
  {
   "cell_type": "markdown",
   "metadata": {},
   "source": [
    "## Estructura de un programa en Python\n",
    "\n",
    "La estructura de un programa en Python no es tan estricta como puede serlo en Pascal o en C/C++, ya que no debe comenzar con ninguna palabra reservada, ni con un procedimiento o función en particular. Simplemente con escribir un par de líneas de código ya podríamos decir que tenemos un programa en Python.\n",
    "\n",
    "Lo que es importante destacar es la forma de identificar los distintos bloques de código. En Pascal se definía un bloque de código usando las palabras reservadas `Begin` y `End`; en C/C++ se define mediante el uso de las llaves (`{` y `}`). Sin embargo, en Python, se utiliza la indentación; es decir, la cantidad de espacios (o tabulaciones) que hay entre el comienzo de la línea y el primer carácter distinto a ellos.\n"
   ]
  },
  {
   "cell_type": "markdown",
   "metadata": {},
   "source": [
    "----\n",
    "## Tipos de datos\n",
    "\n",
    "En Python a las variables se les puede preguntar de qué tipo son usando la función type:\n",
    "\n",
    "```Python\n",
    "tipo_de_la_variable = type(variable)\n",
    "```\n",
    "\n",
    "### Enteros\n",
    "\n",
    "Python 2 distingue dos tipos de enteros:\n",
    "* int\n",
    "* long\n",
    "\n",
    "En Python 3 directamente existe un único tipo de entero, los int.\n"
   ]
  },
  {
   "cell_type": "code",
   "execution_count": 1,
   "metadata": {
    "collapsed": false
   },
   "outputs": [
    {
     "name": "stdout",
     "output_type": "stream",
     "text": [
      "5\n",
      "<type 'int'>\n"
     ]
    }
   ],
   "source": [
    "numero_entero = 5          # Asigno el número 5 a la variable numero_entero\n",
    "print numero_entero        # Imprimo el valor que tiene la variable numero_entero\n",
    "print type(numero_entero)  # Imprimo el tipo de la variable numero_entero"
   ]
  },
  {
   "cell_type": "markdown",
   "metadata": {},
   "source": [
    "Ahora, ¿qué pasa cuando ese número entero crece mucho?, por ejemplo, si le asignamos 9223372036854775807\n",
    "\n",
    "```Python\n",
    "numero_muy_grande = -9223372036854775809\n",
    "print numero_muy_grande\n",
    "print type(numero_entero)\n",
    "print 2**16/2\n",
    "```"
   ]
  },
  {
   "cell_type": "code",
   "execution_count": 2,
   "metadata": {
    "collapsed": false,
    "scrolled": true
   },
   "outputs": [
    {
     "name": "stdout",
     "output_type": "stream",
     "text": [
      "-9223372036854775809\n",
      "<type 'int'>\n",
      "32768\n"
     ]
    }
   ],
   "source": [
    "numero_muy_grande = -9223372036854775809\n",
    "print numero_muy_grande\n",
    "print type(numero_entero)\n",
    "print 2**16/2"
   ]
  },
  {
   "cell_type": "markdown",
   "metadata": {},
   "source": [
    "¿Y si ahora le sumamos 1?"
   ]
  },
  {
   "cell_type": "code",
   "execution_count": 3,
   "metadata": {
    "collapsed": false
   },
   "outputs": [
    {
     "name": "stdout",
     "output_type": "stream",
     "text": [
      "-9223372036854775808\n",
      "<type 'long'>\n"
     ]
    }
   ],
   "source": [
    "numero_muy_grande += 1\n",
    "print numero_muy_grande\n",
    "print type(numero_muy_grande)"
   ]
  },
  {
   "cell_type": "markdown",
   "metadata": {},
   "source": [
    "### Reales\n"
   ]
  },
  {
   "cell_type": "code",
   "execution_count": 4,
   "metadata": {
    "collapsed": false
   },
   "outputs": [
    {
     "name": "stdout",
     "output_type": "stream",
     "text": [
      "7.5\n",
      "<type 'float'>\n"
     ]
    }
   ],
   "source": [
    "numero_real = 7.5\n",
    "print numero_real\n",
    "print type(numero_real)"
   ]
  },
  {
   "cell_type": "markdown",
   "metadata": {},
   "source": [
    "¿Y qué pasa si a un entero le sumamos un real?"
   ]
  },
  {
   "cell_type": "code",
   "execution_count": 5,
   "metadata": {
    "collapsed": false
   },
   "outputs": [
    {
     "name": "stdout",
     "output_type": "stream",
     "text": [
      "12.5\n",
      "<type 'float'>\n"
     ]
    }
   ],
   "source": [
    "print numero_entero + numero_real\n",
    "print type(numero_entero + numero_real)"
   ]
  },
  {
   "cell_type": "markdown",
   "metadata": {},
   "source": [
    "#### Operaciones entre reales y enteros\n",
    "\n",
    "¿Y si dividimos dos números enteros?, ¿dará un número real?"
   ]
  },
  {
   "cell_type": "code",
   "execution_count": 6,
   "metadata": {
    "collapsed": false
   },
   "outputs": [
    {
     "name": "stdout",
     "output_type": "stream",
     "text": [
      "1\n",
      "<type 'int'>\n"
     ]
    }
   ],
   "source": [
    "dividendo = 5\n",
    "divisor = 3\n",
    "resultado = dividendo / divisor\n",
    "print resultado\n",
    "print type(resultado)\n"
   ]
  },
  {
   "cell_type": "markdown",
   "metadata": {},
   "source": [
    "En cambio, si alguno de los números es real:"
   ]
  },
  {
   "cell_type": "code",
   "execution_count": 7,
   "metadata": {
    "collapsed": false
   },
   "outputs": [
    {
     "name": "stdout",
     "output_type": "stream",
     "text": [
      "1.66666666667\n",
      "<type 'float'>\n"
     ]
    }
   ],
   "source": [
    "divisor = 3.0\n",
    "resultado = dividendo / divisor\n",
    "print resultado\n",
    "print type(resultado)\n"
   ]
  },
  {
   "cell_type": "markdown",
   "metadata": {},
   "source": [
    "¿Y si queremos hacer la división entera por más que uno de los números sea real?"
   ]
  },
  {
   "cell_type": "code",
   "execution_count": 8,
   "metadata": {
    "collapsed": false
   },
   "outputs": [
    {
     "name": "stdout",
     "output_type": "stream",
     "text": [
      "cociente:  1.0\n",
      "<type 'float'>\n",
      "resto:  2.0\n",
      "<type 'float'>\n"
     ]
    }
   ],
   "source": [
    "cociente = dividendo // divisor\n",
    "print \"cociente: \", cociente\n",
    "print type(cociente)\n",
    "\n",
    "resto = dividendo % divisor\n",
    "print \"resto: \", resto\n",
    "print type(resto)"
   ]
  },
  {
   "cell_type": "markdown",
   "metadata": {},
   "source": [
    "Esto cambia en Python 3, donde la / hace la división real (por más que le pases dos números enteros) y la // hace la división entera."
   ]
  },
  {
   "cell_type": "markdown",
   "metadata": {},
   "source": [
    "### Complejos\n",
    "\n",
    "Python, a diferencia de la mayoría de los lenguajes, también soporta los números complejos. Tal vez éste es uno de los motivos por los que Python se usa tanto en el campo científico."
   ]
  },
  {
   "cell_type": "code",
   "execution_count": 9,
   "metadata": {
    "collapsed": false
   },
   "outputs": [
    {
     "name": "stdout",
     "output_type": "stream",
     "text": [
      "(5+3j)\n",
      "<type 'complex'>\n",
      "(5+3j)*(5+3j) = 5*5 + 5*3j + 3j*5 + 3j*3j = (25-9) + 30j\n",
      "(16+30j)\n"
     ]
    }
   ],
   "source": [
    "complejo = 5 + 3j\n",
    "print complejo\n",
    "print type(complejo)\n",
    "complejo_cuadrado = complejo ** 2\n",
    "print '(5+3j)*(5+3j) = 5*5 + 5*3j + 3j*5 + 3j*3j = (25-9) + 30j'\n",
    "print complejo_cuadrado\n"
   ]
  },
  {
   "cell_type": "markdown",
   "metadata": {},
   "source": [
    "Si bien Python soporta aritmética de complejos, la verdad es que no es uno de los tipos de datos más usados. Sin embargo, es bueno saber que existe."
   ]
  },
  {
   "cell_type": "markdown",
   "metadata": {},
   "source": [
    "### Booleanos\n",
    "\n",
    "Python también soporta el tipo de dato booleano:\n"
   ]
  },
  {
   "cell_type": "code",
   "execution_count": 10,
   "metadata": {
    "collapsed": false
   },
   "outputs": [
    {
     "name": "stdout",
     "output_type": "stream",
     "text": [
      "True\n",
      "False\n",
      "<type 'bool'>\n",
      "True\n"
     ]
    }
   ],
   "source": [
    "boolean = True\n",
    "print boolean\n",
    "print not boolean\n",
    "print type(boolean)\n",
    "print True or False and True"
   ]
  },
  {
   "cell_type": "markdown",
   "metadata": {},
   "source": [
    "También se puede crear un boolean a partir de comparar dos números:\n"
   ]
  },
  {
   "cell_type": "code",
   "execution_count": 11,
   "metadata": {
    "collapsed": false
   },
   "outputs": [
    {
     "name": "stdout",
     "output_type": "stream",
     "text": [
      "False\n"
     ]
    }
   ],
   "source": [
    "boolean = 5 != 5\n",
    "print boolean"
   ]
  },
  {
   "cell_type": "markdown",
   "metadata": {},
   "source": [
    "Incluso, se puede saber fácilmente si un número está dentro de un rango o no."
   ]
  },
  {
   "cell_type": "code",
   "execution_count": 12,
   "metadata": {
    "collapsed": false,
    "scrolled": true
   },
   "outputs": [],
   "source": [
    "numero = 7\n",
    "if 5 < numero < 9:\n",
    "    'El número 7 se encuentra en el rango entre 5 y 9'\n",
    "\n",
    "if 5 < numero < 6:\n",
    "    'El número 7 se encuentra en el rango entre 5 y 6'"
   ]
  },
  {
   "cell_type": "markdown",
   "metadata": {},
   "source": [
    "Muchas formas de imprimir el número 25"
   ]
  },
  {
   "cell_type": "code",
   "execution_count": 13,
   "metadata": {
    "collapsed": false
   },
   "outputs": [
    {
     "name": "stdout",
     "output_type": "stream",
     "text": [
      "--25--\n",
      "--  25--\n",
      "--0025--\n",
      "--11001--\n",
      "--19--\n",
      "--0019--\n"
     ]
    }
   ],
   "source": [
    "print \"--{0}--\".format(25)\n",
    "print \"--{0:4}--\".format(25)  # Ocupando 4 espacios\n",
    "print \"--{0:04}--\".format(25)  # Ocupando 4 espacios y rellenando con 0\n",
    "print \"--{0:b}--\".format(25)  # En binario\n",
    "print \"--{0:x}--\".format(25)  # En hexadecimal\n",
    "print \"--{0:04x}--\".format(25)  # En binario y ocupando 4 espacios y rellenando con 0"
   ]
  },
  {
   "cell_type": "markdown",
   "metadata": {},
   "source": [
    "### Strings\n",
    "\n",
    "En python los strings se pueden armar tanto con comillas simples (') como dobles (\"), lo que no se puede hacer es abrir con unas y cerrar con otras."
   ]
  },
  {
   "cell_type": "code",
   "execution_count": 15,
   "metadata": {
    "collapsed": false
   },
   "outputs": [
    {
     "name": "stdout",
     "output_type": "stream",
     "text": [
      "Holamundo\n",
      "<type 'str'>\n",
      "Y con doble comilla?, de qué tipo es?\n",
      "<type 'str'>\n"
     ]
    }
   ],
   "source": [
    "cadena_caracteres = 'Holamundo'\n",
    "print cadena_caracteres\n",
    "print type(cadena_caracteres)\n",
    "\n",
    "cadena_caracteres = \"Y con doble comilla?, de qué tipo es?\"\n",
    "print cadena_caracteres\n",
    "print type(cadena_caracteres)\n"
   ]
  },
  {
   "cell_type": "markdown",
   "metadata": {},
   "source": [
    "Además, se pueden armar strings multilínea poniendo tres comillas simples o dobles seguidas:"
   ]
  },
  {
   "cell_type": "code",
   "execution_count": 16,
   "metadata": {
    "collapsed": false
   },
   "outputs": [
    {
     "name": "stdout",
     "output_type": "stream",
     "text": [
      "y si quiero\n",
      "usar un string\n",
      "que se escriba en varias\n",
      "líneas?.\n",
      "<type 'str'>\n"
     ]
    }
   ],
   "source": [
    "cadena_caracteres = \"\"\"y si quiero\n",
    "usar un string\n",
    "que se escriba en varias\n",
    "líneas?.\"\"\"\n",
    "print cadena_caracteres\n",
    "print type(cadena_caracteres)\n"
   ]
  },
  {
   "cell_type": "markdown",
   "metadata": {},
   "source": [
    "#### Índices y *Slice* en string\n",
    "\n",
    "Si queremos obtener un caracter del string podemos acceder a él simplemente con poner entre corchetes su posición (comenzando con la 0):"
   ]
  },
  {
   "cell_type": "code",
   "execution_count": 17,
   "metadata": {
    "collapsed": false
   },
   "outputs": [
    {
     "name": "stdout",
     "output_type": "stream",
     "text": [
      "Hola mundo\n",
      "El septimo caracter de la cadena \"Hola mundo\" es \"u\"\n"
     ]
    }
   ],
   "source": [
    "cadena_caracteres = 'Hola mundo'\n",
    "print cadena_caracteres\n",
    "print 'El septimo caracter de la cadena \"{0}\" es \"{1}\"'.format(cadena_caracteres, cadena_caracteres[6])\n"
   ]
  },
  {
   "cell_type": "markdown",
   "metadata": {},
   "source": [
    "H | o | l | a |   | m | u | n | d | o\n",
    "-------| ---------- |  ------------\n",
    "0 | 1 | 2 | 3 | 4 | 5 | 6 | 7 | 8 | 9\n",
    "\n",
    "Aunque también nos podemos referir a ese caracter comenzando por su posición, pero comenzando a contar desde la última posición (comenzando en 1):"
   ]
  },
  {
   "cell_type": "code",
   "execution_count": 18,
   "metadata": {
    "collapsed": false
   },
   "outputs": [
    {
     "name": "stdout",
     "output_type": "stream",
     "text": [
      "El septimo caracter de la cadena \"Hola mundo\" es \"u\"\n"
     ]
    }
   ],
   "source": [
    "print 'El septimo caracter de la cadena \"{0}\" es \"{1}\"'.format(cadena_caracteres, cadena_caracteres[-4])\n"
   ]
  },
  {
   "cell_type": "markdown",
   "metadata": {},
   "source": [
    "H | o | l | a |   | m | u | n | d | o\n",
    "-------| ---------- |  ------------\n",
    "0 | 1 | 2 | 3 | 4 | 5 | 6 | 7 | 8 | 9\n",
    "-10 | -9 | -8 | -7 | -6 | -5 | -4 | -3 | -2 | -1\n"
   ]
  },
  {
   "cell_type": "markdown",
   "metadata": {},
   "source": [
    "Lo que no se puede hacer es cambiar sólo una letra de un string:"
   ]
  },
  {
   "cell_type": "code",
   "execution_count": 19,
   "metadata": {
    "collapsed": false
   },
   "outputs": [
    {
     "ename": "TypeError",
     "evalue": "'str' object does not support item assignment",
     "output_type": "error",
     "traceback": [
      "\u001b[1;31m---------------------------------------------------------------------------\u001b[0m",
      "\u001b[1;31mTypeError\u001b[0m                                 Traceback (most recent call last)",
      "\u001b[1;32m<ipython-input-19-d7e1aa3d6fc3>\u001b[0m in \u001b[0;36m<module>\u001b[1;34m()\u001b[0m\n\u001b[1;32m----> 1\u001b[1;33m \u001b[0mcadena_caracteres\u001b[0m\u001b[1;33m[\u001b[0m\u001b[1;36m6\u001b[0m\u001b[1;33m]\u001b[0m \u001b[1;33m=\u001b[0m \u001b[1;34m'x'\u001b[0m\u001b[1;33m\u001b[0m\u001b[0m\n\u001b[0m",
      "\u001b[1;31mTypeError\u001b[0m: 'str' object does not support item assignment"
     ]
    }
   ],
   "source": [
    "cadena_caracteres[6] = 'x'"
   ]
  },
  {
   "cell_type": "markdown",
   "metadata": {},
   "source": [
    "Aunque a veces lo que queremos es una parte del string, no todo:"
   ]
  },
  {
   "cell_type": "code",
   "execution_count": 20,
   "metadata": {
    "collapsed": false
   },
   "outputs": [
    {
     "name": "stdout",
     "output_type": "stream",
     "text": [
      "Hola mundo\n",
      "a\n",
      "la mun\n",
      "la mun\n",
      "la mun\n",
      "la mun\n",
      "lm\n"
     ]
    }
   ],
   "source": [
    "print cadena_caracteres\n",
    "print cadena_caracteres[3]\n",
    "print cadena_caracteres[2:8]     # Con los dos índices positivos\n",
    "print cadena_caracteres[2:-2]    # Con un índice negativo y otro positivo\n",
    "print cadena_caracteres[-8:8]    # Con un índice negativo y otro positivo\n",
    "print cadena_caracteres[-8:-2]   # Con ambos índices negativos\n",
    "print cadena_caracteres[2:-2:3]  # Y salteándose de a dos\n"
   ]
  },
  {
   "cell_type": "markdown",
   "metadata": {},
   "source": [
    "Aunque lo más común es quitar el último carácter, por ejemplo, cuando es un Enter:"
   ]
  },
  {
   "cell_type": "code",
   "execution_count": 21,
   "metadata": {
    "collapsed": false
   },
   "outputs": [
    {
     "name": "stdout",
     "output_type": "stream",
     "text": [
      "Hola mundo\n",
      "\n",
      "Hola mundo\n",
      "Hola m\n"
     ]
    }
   ],
   "source": [
    "cadena_caracteres = 'Hola mundo\\n'\n",
    "print cadena_caracteres\n",
    "print cadena_caracteres[:-1]\n",
    "print cadena_caracteres[:-5]"
   ]
  },
  {
   "cell_type": "markdown",
   "metadata": {},
   "source": [
    "#### Ingreso de datos desde teclado"
   ]
  },
  {
   "cell_type": "code",
   "execution_count": 23,
   "metadata": {
    "collapsed": false
   },
   "outputs": [
    {
     "name": "stdout",
     "output_type": "stream",
     "text": [
      "Ingrese un número: 5\n",
      "5\n",
      "<type 'str'>\n"
     ]
    }
   ],
   "source": [
    "numero = raw_input('Ingrese un número: ')\n",
    "print numero\n",
    "print type(numero)\n"
   ]
  },
  {
   "cell_type": "markdown",
   "metadata": {},
   "source": [
    "Y para convertirlo como entero:"
   ]
  },
  {
   "cell_type": "code",
   "execution_count": 24,
   "metadata": {
    "collapsed": false
   },
   "outputs": [
    {
     "name": "stdout",
     "output_type": "stream",
     "text": [
      "5\n",
      "<type 'int'>\n"
     ]
    }
   ],
   "source": [
    "numero = int(numero)\n",
    "print numero\n",
    "print type(numero)\n"
   ]
  },
  {
   "cell_type": "markdown",
   "metadata": {},
   "source": [
    "### None\n",
    "\n",
    "None es el tipo de dato nulo que sólo puede tomar un valor: None. Aunque parezca que es muy inútil, en realidad se usa mucho."
   ]
  },
  {
   "cell_type": "markdown",
   "metadata": {},
   "source": [
    "<!--\n",
    "## Mutables vs Inmutables\n",
    "\n",
    "En algunas ocasiones \n",
    "\n",
    "-->"
   ]
  },
  {
   "cell_type": "markdown",
   "metadata": {},
   "source": [
    "# Estructuras de control\n",
    "\n",
    "Así como en Pascal se delimitan los bloques de código con las palabras reservadas *begin* y *end*, en Python se usan la indentación (espacios) para determinar qué se encuentra dentro de una estructura de control y qué no.\n",
    "\n",
    "## if\n"
   ]
  },
  {
   "cell_type": "code",
   "execution_count": 25,
   "metadata": {
    "collapsed": false
   },
   "outputs": [
    {
     "name": "stdout",
     "output_type": "stream",
     "text": [
      "Este string se imprime siempre\n",
      "Ahora cambio el valor de numero2\n",
      "Los números son iguales\n",
      "Este string se imprime siempre\n"
     ]
    }
   ],
   "source": [
    "numero1 = 1\n",
    "numero2 = 2\n",
    "\n",
    "if numero1 == numero2:\n",
    "    print 'Los números son iguales'\n",
    "\n",
    "print 'Este string se imprime siempre'\n",
    "\n",
    "print 'Ahora cambio el valor de numero2'\n",
    "numero2 = 1\n",
    "\n",
    "if numero1 == numero2:\n",
    "    print 'Los números son iguales'\n",
    "\n",
    "print 'Este string se imprime siempre'"
   ]
  },
  {
   "cell_type": "markdown",
   "metadata": {},
   "source": [
    "## if-else"
   ]
  },
  {
   "cell_type": "code",
   "execution_count": 26,
   "metadata": {
    "collapsed": false
   },
   "outputs": [
    {
     "name": "stdout",
     "output_type": "stream",
     "text": [
      "Los números son iguales\n"
     ]
    }
   ],
   "source": [
    "numero1 = 1\n",
    "numero2 = 1\n",
    "\n",
    "if numero1 == numero2:\n",
    "    print 'Los números son iguales'\n",
    "else:\n",
    "    print 'Los números son distintos'"
   ]
  },
  {
   "cell_type": "markdown",
   "metadata": {},
   "source": [
    "## if-elif-else\n",
    "\n",
    "Ahora si queremos imprimir si un número es igual, menor o mayor a otro tendríamos que usar if anidados en Pascal o C; y no queda del todo claro:"
   ]
  },
  {
   "cell_type": "code",
   "execution_count": 27,
   "metadata": {
    "collapsed": false
   },
   "outputs": [
    {
     "name": "stdout",
     "output_type": "stream",
     "text": [
      "Los dos números son iguales\n"
     ]
    }
   ],
   "source": [
    "# Como lo tendríamos que hacer en Pascal o C.\n",
    "if numero1 == numero2:\n",
    "    print 'Los dos números son iguales'\n",
    "else:\n",
    "    if numero1 > numero2:\n",
    "        print 'numero1 es mayor a numero2'\n",
    "    else:\n",
    "        print 'numero1 es menor a numero2'"
   ]
  },
  {
   "cell_type": "markdown",
   "metadata": {},
   "source": [
    "En cambio, en Python lo podemos un poco más compacto y claro:"
   ]
  },
  {
   "cell_type": "code",
   "execution_count": 28,
   "metadata": {
    "collapsed": false
   },
   "outputs": [
    {
     "name": "stdout",
     "output_type": "stream",
     "text": [
      "Los dos números son iguales\n"
     ]
    }
   ],
   "source": [
    "# Más corto y elegante en Python.\n",
    "if numero1 == numero2:\n",
    "    print 'Los dos números son iguales'\n",
    "elif numero1 > numero2:\n",
    "    print 'numero1 es mayor a numero2'\n",
    "else:\n",
    "    print 'numero1 es menor a numero2'"
   ]
  },
  {
   "cell_type": "markdown",
   "metadata": {},
   "source": [
    "Cualquier tipo de dato se lo puede evaluar como booleano.\n",
    "Se toma como falso a:\n",
    "* None\n",
    "* False para los bool\n",
    "* cero para todo tipo de dato numérico: 0, 0L, 0.0, 0j\n",
    "* vacío para cualquier secuencia o diccionario: '', (), [], {}\n",
    "\n",
    "Por lo tanto, se puede saber si una lista esta vacía o no con simplemente:"
   ]
  },
  {
   "cell_type": "code",
   "execution_count": 29,
   "metadata": {
    "collapsed": false
   },
   "outputs": [],
   "source": [
    "if []:\n",
    "    print 'La lista no esta vacía'"
   ]
  },
  {
   "cell_type": "code",
   "execution_count": 30,
   "metadata": {
    "collapsed": false
   },
   "outputs": [
    {
     "name": "stdout",
     "output_type": "stream",
     "text": [
      "Todos los valores anteriores son consideradas como Falso\n",
      "Este mensaje se va a mostrar porque será evaulado como verdadero\n"
     ]
    }
   ],
   "source": [
    "if False or None or [] or () or {} or 0 or '':\n",
    "    print 'Alguna de las anteriores no era falsa'\n",
    "else:\n",
    "    print 'Todos los valores anteriores son consideradas como Falso'\n",
    "\n",
    "\n",
    "x = 'Este mensaje se va a mostrar porque será evaulado como verdadero'\n",
    "if x:\n",
    "    print x\n",
    "else:\n",
    "    print 'Esta vacio'"
   ]
  },
  {
   "cell_type": "markdown",
   "metadata": {},
   "source": [
    "## short-if\n",
    "\n",
    "Otra forma de escribir el if en una sola línea es poner:\n",
    "\n",
    "```Python\n",
    "variable = valor1 if condicion else valor2\n",
    "```\n",
    "\n",
    "Por ejemplo:"
   ]
  },
  {
   "cell_type": "code",
   "execution_count": 31,
   "metadata": {
    "collapsed": false
   },
   "outputs": [
    {
     "name": "stdout",
     "output_type": "stream",
     "text": [
      "5 es par?: False\n",
      "6 es par?: True\n"
     ]
    }
   ],
   "source": [
    "num = 5\n",
    "es_par = True if (num % 2 == 0) else False\n",
    "print '5 es par?:', es_par\n",
    "\n",
    "num = 6\n",
    "es_par = True if (num % 2 == 0) else False\n",
    "\n",
    "print '6 es par?:', es_par"
   ]
  },
  {
   "cell_type": "code",
   "execution_count": 32,
   "metadata": {
    "collapsed": false
   },
   "outputs": [
    {
     "name": "stdout",
     "output_type": "stream",
     "text": [
      "None\n",
      "<type 'NoneType'>\n"
     ]
    }
   ],
   "source": [
    "nulo = None\n",
    "print nulo\n",
    "print type(nulo)"
   ]
  },
  {
   "cell_type": "markdown",
   "metadata": {},
   "source": [
    "# Ejercicios\n",
    "1. Teniendo en dos variables la base y la altura de un rectángulo, calcular el perímetro y la superficie.\n",
    "2. Dados dos números, imprimir:\n",
    "  1. La suma de ambos\n",
    "  2. La diferencia (el mayor menos el menor)\n",
    "  3. La multiplicación\n",
    "  4. La división\n",
    "3. Escribir un algoritmo que determine si un número N es divisible por M, siendo N y M dos variables del programa.\n",
    "4. Pasar un período expresado en segundos a un período expresado en días, horas, minutos y segundos.\n",
    "5. Dada la distancia entre dos puntos y las horas de partida y de llegada de un movil, expresadas en horas, minutos y segundos, calcular su velocidad promedio.\n",
    "6. La relación entre temperaturas Celsius y Fahrenheit está dada por: $$C = 5/9 * (F-32)$$ Escribir un algoritmo que le pida al usuario:\n",
    "  1. la temperatura \n",
    "  2. la unidad en la que se encuentra\n",
    "  \n",
    "Y luego mostrar la temperatura convertida en la otra unidad."
   ]
  }
 ],
 "metadata": {
  "kernelspec": {
   "display_name": "Python 2",
   "language": "python",
   "name": "python2"
  },
  "language_info": {
   "codemirror_mode": {
    "name": "ipython",
    "version": 2
   },
   "file_extension": ".py",
   "mimetype": "text/x-python",
   "name": "python",
   "nbconvert_exporter": "python",
   "pygments_lexer": "ipython2",
   "version": "2.7.12"
  }
 },
 "nbformat": 4,
 "nbformat_minor": 0
}
